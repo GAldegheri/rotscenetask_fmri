{
 "cells": [
  {
   "cell_type": "code",
   "execution_count": 24,
   "metadata": {},
   "outputs": [],
   "source": [
    "from sklearn.datasets import make_classification\n",
    "from scipy.stats import pearsonr\n",
    "from sklearn import svm\n",
    "import numpy as np\n",
    "import numpy_indexed as npi\n",
    "import random\n",
    "import pandas as pd\n",
    "import matplotlib.pyplot as plt\n",
    "from tqdm.notebook import tqdm\n",
    "import pingouin as pg\n",
    "from simulate_infocoupl import generate_data, trainandtest_svm"
   ]
  },
  {
   "cell_type": "code",
   "execution_count": 46,
   "metadata": {},
   "outputs": [],
   "source": [
    "# Generate correlated activations and separations\n",
    "min_act = 0.\n",
    "max_act = 3.6\n",
    "slope = 0.6\n",
    "intercept = 0.\n",
    "sigma = 0.01\n",
    "\n",
    "\n",
    "activations = []\n",
    "separations = []\n",
    "for _ in range(1000):\n",
    "    act = random.uniform(min_act, max_act)\n",
    "    sep = slope*act + intercept + np.random.normal(0., sigma)\n",
    "    activations.append(act)\n",
    "    separations.append(sep)"
   ]
  },
  {
   "cell_type": "code",
   "execution_count": 47,
   "metadata": {},
   "outputs": [
    {
     "data": {
      "image/png": "[encoded data removed]",
      "text/plain": [
       "<Figure size 432x288 with 1 Axes>"
      ]
     },
     "metadata": {
      "needs_background": "light"
     },
     "output_type": "display_data"
    }
   ],
   "source": [
    "plt.scatter(activations, separations)\n",
    "plt.show()"
   ]
  },
  {
   "cell_type": "code",
   "execution_count": 48,
   "metadata": {},
   "outputs": [
    {
     "data": {
      "text/plain": [
       "(0.9998629632395319, 0.0)"
      ]
     },
     "execution_count": 48,
     "metadata": {},
     "output_type": "execute_result"
    }
   ],
   "source": [
    "pearsonr(activations, separations)"
   ]
  },
  {
   "cell_type": "code",
   "execution_count": 49,
   "metadata": {},
   "outputs": [
    {
     "data": {
      "application/vnd.jupyter.widget-view+json": {
       "model_id": "de93940056f642cb8ea0aed04d988fba",
       "version_major": 2,
       "version_minor": 0
      },
      "text/plain": [
       "  0%|          | 0/1000 [00:00<?, ?it/s]"
      ]
     },
     "metadata": {},
     "output_type": "display_data"
    }
   ],
   "source": [
    "# Turn separations into accuracies\n",
    "accuracies = []\n",
    "for s in tqdm(separations):\n",
    "    x, y = generate_data(s)\n",
    "    accuracies.append(trainandtest_svm(x, y))"
   ]
  },
  {
   "cell_type": "code",
   "execution_count": 50,
   "metadata": {},
   "outputs": [
    {
     "data": {
      "image/png": "[encoded data removed]",
      "text/plain": [
       "<Figure size 432x288 with 1 Axes>"
      ]
     },
     "metadata": {
      "needs_background": "light"
     },
     "output_type": "display_data"
    }
   ],
   "source": [
    "plt.scatter(separations, accuracies)\n",
    "plt.show()"
   ]
  },
  {
   "cell_type": "code",
   "execution_count": 51,
   "metadata": {},
   "outputs": [
    {
     "data": {
      "text/plain": [
       "(0.8114898886927021, 4.412344936611322e-235)"
      ]
     },
     "execution_count": 51,
     "metadata": {},
     "output_type": "execute_result"
    }
   ],
   "source": [
    "pearsonr(activations, accuracies)"
   ]
  },
  {
   "cell_type": "code",
   "execution_count": 43,
   "metadata": {},
   "outputs": [
    {
     "data": {
      "text/plain": [
       "0.9534291092559956"
      ]
     },
     "execution_count": 43,
     "metadata": {},
     "output_type": "execute_result"
    }
   ],
   "source": [
    "max(accuracies)"
   ]
  },
  {
   "cell_type": "markdown",
   "metadata": {},
   "source": [
    "## Effect of averaging on separation-accuracy relation"
   ]
  },
  {
   "cell_type": "code",
   "execution_count": 80,
   "metadata": {},
   "outputs": [],
   "source": [
    "def random_split(ls, n_partitions, seed=0):\n",
    "    assert len(ls) % n_partitions == 0\n",
    "    part_length = int(len(ls)/n_partitions)\n",
    "    rng = np.random.default_rng(seed=seed)\n",
    "    shuffled_indices = rng.permutation(len(ls))\n",
    "    shuffled_list = np.array(ls)[shuffled_indices]\n",
    "    \n",
    "    splits = []\n",
    "    for i in range(n_partitions):\n",
    "        start = int(i*part_length)\n",
    "        end = start + part_length\n",
    "        \n",
    "        splits.append(shuffled_list[start:end])\n",
    "        \n",
    "    return splits"
   ]
  },
  {
   "cell_type": "code",
   "execution_count": 75,
   "metadata": {},
   "outputs": [],
   "source": [
    "# Create 2D arrays with sequences of activations and separations\n",
    "activations_2d = np.array(activations).reshape(100, 10)\n",
    "separations_2d = np.array(separations).reshape(100, 10)"
   ]
  },
  {
   "cell_type": "code",
   "execution_count": 79,
   "metadata": {},
   "outputs": [],
   "source": [
    "for i in range(100):\n",
    "    assert pearsonr(activations_2d[i, :], separations_2d[i, :])[0] > 0.99"
   ]
  },
  {
   "cell_type": "code",
   "execution_count": 91,
   "metadata": {},
   "outputs": [],
   "source": [
    "sep_splits = [np.mean(s, axis=0) for s in random_split(separations_2d, 4, seed=0)]\n",
    "act_splits = [np.mean(a, axis=0) for a in random_split(activations_2d, 4, seed=1)]"
   ]
  },
  {
   "cell_type": "code",
   "execution_count": 92,
   "metadata": {},
   "outputs": [
    {
     "name": "stdout",
     "output_type": "stream",
     "text": [
      "-0.009203326234945311\n",
      "0.7779128984531274\n",
      "0.06227423923396794\n",
      "0.028031445662983025\n"
     ]
    }
   ],
   "source": [
    "for s, a in zip(sep_splits, act_splits):\n",
    "    print(pearsonr(s, a)[0])"
   ]
  },
  {
   "cell_type": "code",
   "execution_count": 85,
   "metadata": {},
   "outputs": [
    {
     "data": {
      "text/plain": [
       "4"
      ]
     },
     "execution_count": 85,
     "metadata": {},
     "output_type": "execute_result"
    }
   ],
   "source": [
    "len(sep_splits)"
   ]
  },
  {
   "cell_type": "code",
   "execution_count": null,
   "metadata": {},
   "outputs": [],
   "source": []
  }
 ],
 "metadata": {
  "kernelspec": {
   "display_name": "giacomo37",
   "language": "python",
   "name": "python3"
  },
  "language_info": {
   "codemirror_mode": {
    "name": "ipython",
    "version": 3
   },
   "file_extension": ".py",
   "mimetype": "text/x-python",
   "name": "python",
   "nbconvert_exporter": "python",
   "pygments_lexer": "ipython3",
   "version": "3.8.5"
  }
 },
 "nbformat": 4,
 "nbformat_minor": 2
}
