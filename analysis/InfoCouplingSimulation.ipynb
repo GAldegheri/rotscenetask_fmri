{
 "cells": [
  {
   "cell_type": "code",
   "execution_count": 32,
   "metadata": {},
   "outputs": [],
   "source": [
    "from sklearn.datasets import make_classification\n",
    "from scipy.stats import pearsonr\n",
    "from sklearn import svm\n",
    "import numpy as np\n",
    "import random\n",
    "import pandas as pd\n",
    "import matplotlib.pyplot as plt\n",
    "import seaborn\n",
    "from tqdm.notebook import tqdm\n",
    "import pingouin as pg"
   ]
  },
  {
   "cell_type": "code",
   "execution_count": 33,
   "metadata": {},
   "outputs": [],
   "source": [
    "def generate_data(separation, seed=None):\n",
    "    \n",
    "    x, y = make_classification(n_samples=100, n_features=16, n_classes=2,\n",
    "                               n_informative=16, n_redundant=0, class_sep=separation,\n",
    "                               flip_y=0., shuffle=False, n_clusters_per_class=1, random_state=seed)\n",
    "    return x, y\n",
    "\n",
    "\n",
    "def trainandtest_svm(x, y, shuffle=True, seed=42):\n",
    "    \n",
    "    zscore = lambda x: (x - np.mean(x))/np.std(x)\n",
    "    \n",
    "    n_train = np.ceil(0.8*len(x)).astype(int)\n",
    "    \n",
    "    if shuffle:\n",
    "        rng = np.random.default_rng(seed=seed)\n",
    "        shuffled_indices = rng.permutation(len(x))\n",
    "        x = x[shuffled_indices]\n",
    "        y = y[shuffled_indices]\n",
    "    \n",
    "    train_x = x[:n_train]\n",
    "    train_y = y[:n_train]\n",
    "    test_x = x[n_train:]\n",
    "    test_y = y[n_train:]\n",
    "\n",
    "    train_z = zscore(train_x)\n",
    "    test_z = zscore(test_x)\n",
    "\n",
    "    clf = svm.SVC(kernel='linear')\n",
    "    clf.fit(train_z, train_y)\n",
    "\n",
    "    y_pred = clf.predict(test_z)\n",
    "\n",
    "    # Compute distance from bound\n",
    "    y = clf.decision_function(test_z)\n",
    "    w_norm = np.linalg.norm(clf.coef_)\n",
    "    dist = y / w_norm\n",
    "\n",
    "    zscoredist = zscore(dist)\n",
    "    zscoredist[test_y==0] *= -1\n",
    "    \n",
    "    return np.mean(zscoredist)"
   ]
  },
  {
   "cell_type": "code",
   "execution_count": 34,
   "metadata": {},
   "outputs": [],
   "source": [
    "def gen_activations_and_separations(n, min_act=0., max_act=3.6, slope=0.6, intercept=0., sigma=0.01):\n",
    "    \n",
    "    activations = []\n",
    "    separations = []\n",
    "    for _ in range(n):\n",
    "        act = random.uniform(min_act, max_act)\n",
    "        sep = slope*act + intercept + np.random.normal(0., sigma)\n",
    "        activations.append(act)\n",
    "        separations.append(sep)\n",
    "    \n",
    "    return activations, separations"
   ]
  },
  {
   "cell_type": "code",
   "execution_count": 35,
   "metadata": {},
   "outputs": [],
   "source": [
    "def separation_to_accuracy(separations):\n",
    "    \n",
    "    accuracies = []\n",
    "    for s in separations:\n",
    "        x, y = generate_data(s)\n",
    "        accuracies.append(trainandtest_svm(x, y))\n",
    "    \n",
    "    return accuracies"
   ]
  },
  {
   "cell_type": "code",
   "execution_count": 36,
   "metadata": {},
   "outputs": [],
   "source": [
    "def random_split(ls, n_partitions, seed=0):\n",
    "    assert len(ls) % n_partitions == 0\n",
    "    part_length = int(len(ls)/n_partitions)\n",
    "    rng = np.random.default_rng(seed=seed)\n",
    "    shuffled_indices = rng.permutation(len(ls))\n",
    "    shuffled_list = [ls[i] for i in shuffled_indices]\n",
    "    \n",
    "    splits = []\n",
    "    for i in range(n_partitions):\n",
    "        start = int(i*part_length)\n",
    "        end = start + part_length\n",
    "        \n",
    "        splits.append(shuffled_list[start:end])\n",
    "        \n",
    "    return splits"
   ]
  },
  {
   "cell_type": "code",
   "execution_count": 37,
   "metadata": {},
   "outputs": [],
   "source": [
    "def split_datasets(datasets, n_partitions=4, seed=0):\n",
    "    split_datasets = random_split(datasets, n_partitions, seed=seed)\n",
    "    \n",
    "    merged_datasets = []\n",
    "    for d in split_datasets:\n",
    "        thisx = []\n",
    "        thisy = []\n",
    "        for x, y in d:\n",
    "            thisx.append(x)\n",
    "            thisy.append(y)\n",
    "        thisx = np.vstack(thisx)\n",
    "        thisy = np.concatenate(thisy)\n",
    "        merged_datasets.append((thisx, thisy))\n",
    "    \n",
    "    return merged_datasets"
   ]
  },
  {
   "cell_type": "code",
   "execution_count": 38,
   "metadata": {},
   "outputs": [],
   "source": [
    "activations, separations = gen_activations_and_separations(1000, sigma=0.001)\n",
    "    \n",
    "# Reshape into 2D arrays with 'sequences' of activations and separations\n",
    "activations_2d = np.array(activations).reshape(100, 10)\n",
    "separations_2d = np.array(separations).reshape(100, 10)"
   ]
  },
  {
   "cell_type": "code",
   "execution_count": 45,
   "metadata": {},
   "outputs": [
    {
     "data": {
      "application/vnd.jupyter.widget-view+json": {
       "model_id": "5fb058b490234061822a73bfbf17728c",
       "version_major": 2,
       "version_minor": 0
      },
      "text/plain": [
       "  0%|          | 0/10 [00:00<?, ?it/s]"
      ]
     },
     "metadata": {},
     "output_type": "display_data"
    }
   ],
   "source": [
    "distances_per_timestep = []\n",
    "\n",
    "for t in tqdm(range(10)):\n",
    "    these_seps = separations_2d[:, t]\n",
    "    this_ds_list = [generate_data(s, seed=t) for s in these_seps]\n",
    "    this_ds_partition = split_datasets(this_ds_list, n_partitions=4,\n",
    "                                       seed=0)\n",
    "    dist_per_partition = [trainandtest_svm(x, y) for x, y in this_ds_partition]\n",
    "    distances_per_timestep.append(dist_per_partition)\n",
    "\n",
    "distances_per_timestep = np.array(distances_per_timestep).T"
   ]
  },
  {
   "cell_type": "code",
   "execution_count": 46,
   "metadata": {},
   "outputs": [
    {
     "data": {
      "text/plain": [
       "(4, 10)"
      ]
     },
     "execution_count": 46,
     "metadata": {},
     "output_type": "execute_result"
    }
   ],
   "source": [
    "distances_per_timestep.shape"
   ]
  },
  {
   "cell_type": "code",
   "execution_count": 66,
   "metadata": {},
   "outputs": [],
   "source": [
    "activ_partitions = random_split(activations_2d, n_partitions=4, seed=0)\n",
    "activ_per_timestep = np.vstack([np.mean(np.vstack(ap), axis=0) for ap in activ_partitions])"
   ]
  },
  {
   "cell_type": "code",
   "execution_count": 59,
   "metadata": {},
   "outputs": [
    {
     "data": {
      "text/plain": [
       "(4, 10)"
      ]
     },
     "execution_count": 59,
     "metadata": {},
     "output_type": "execute_result"
    }
   ],
   "source": [
    "activ_per_timestep.shape"
   ]
  },
  {
   "cell_type": "code",
   "execution_count": 67,
   "metadata": {},
   "outputs": [
    {
     "data": {
      "text/plain": [
       "(0.71311620622371, 0.020602239745932525)"
      ]
     },
     "execution_count": 67,
     "metadata": {},
     "output_type": "execute_result"
    }
   ],
   "source": [
    "pearsonr(np.mean(distances_per_timestep, axis=0),\n",
    "         np.mean(activ_per_timestep, axis=0))"
   ]
  },
  {
   "cell_type": "code",
   "execution_count": 57,
   "metadata": {},
   "outputs": [
    {
     "data": {
      "text/plain": [
       "array([1.7057959 , 1.54542701, 1.68846235, 1.82222203, 1.69999018,\n",
       "       2.00676122, 1.78212253, 1.44425447, 1.85590893, 1.59306922])"
      ]
     },
     "execution_count": 57,
     "metadata": {},
     "output_type": "execute_result"
    }
   ],
   "source": [
    "np.mean(np.vstack(activ_partitions[0]), axis=0)"
   ]
  },
  {
   "cell_type": "code",
   "execution_count": 23,
   "metadata": {},
   "outputs": [
    {
     "data": {
      "text/plain": [
       "array([0.72655843, 0.33891983, 1.27219577, 1.37579568, 0.51060143,\n",
       "       0.90373207, 2.12097436, 1.71332475, 1.70586994, 1.5907184 ,\n",
       "       2.15669107, 0.84842538, 1.13246183, 1.30881953, 0.61061269,\n",
       "       0.07786286, 0.90551103, 1.0272264 , 0.3500482 , 1.54164962,\n",
       "       1.68103269, 0.94392848, 0.76169013, 0.29383876, 1.78394549,\n",
       "       0.31215392, 0.05548082, 1.94209729, 1.30577095, 0.80481233,\n",
       "       1.51716638, 0.3256873 , 1.49638963, 0.45818935, 1.76105187,\n",
       "       1.55739212, 0.1552157 , 1.01272907, 0.20988017, 1.104654  ,\n",
       "       0.6198075 , 1.78955237, 0.8416445 , 1.00388408, 1.15072974,\n",
       "       0.57645349, 0.4376151 , 1.96071177, 1.12225996, 0.13665137,\n",
       "       2.08516275, 1.08266006, 1.22411242, 1.94726071, 0.8402276 ,\n",
       "       1.94905163, 1.83772973, 0.67553006, 1.68173806, 1.92405153,\n",
       "       1.82183464, 0.58505582, 2.03799549, 0.25230365, 2.08259412,\n",
       "       1.71299973, 1.58228609, 2.12028411, 1.71738626, 1.00466554,\n",
       "       0.30096072, 1.29661698, 0.68372996, 0.87310342, 1.21808138,\n",
       "       0.58591556, 0.14889251, 0.34522841, 0.70062157, 0.37659247,\n",
       "       1.45085818, 1.72154065, 0.71076066, 0.18456919, 1.02936861,\n",
       "       1.83816242, 1.1634281 , 0.69988145, 0.4701704 , 0.20488267,\n",
       "       0.20013054, 0.77624018, 1.62086304, 0.19879279, 1.12007393,\n",
       "       0.2576643 , 0.3884187 , 1.19885288, 0.5152617 , 1.84582419])"
      ]
     },
     "execution_count": 23,
     "metadata": {},
     "output_type": "execute_result"
    }
   ],
   "source": [
    "these_seps"
   ]
  },
  {
   "cell_type": "code",
   "execution_count": 20,
   "metadata": {},
   "outputs": [
    {
     "data": {
      "text/plain": [
       "tuple"
      ]
     },
     "execution_count": 20,
     "metadata": {},
     "output_type": "execute_result"
    }
   ],
   "source": [
    "type(this_ds_partition[0])"
   ]
  },
  {
   "cell_type": "code",
   "execution_count": 12,
   "metadata": {},
   "outputs": [
    {
     "data": {
      "text/plain": [
       "100"
      ]
     },
     "execution_count": 12,
     "metadata": {},
     "output_type": "execute_result"
    }
   ],
   "source": [
    "len(this_ds_list)"
   ]
  },
  {
   "cell_type": "code",
   "execution_count": 9,
   "metadata": {},
   "outputs": [
    {
     "data": {
      "text/plain": [
       "array([0.72655843, 0.33891983, 1.27219577, 1.37579568, 0.51060143,\n",
       "       0.90373207, 2.12097436, 1.71332475, 1.70586994, 1.5907184 ,\n",
       "       2.15669107, 0.84842538, 1.13246183, 1.30881953, 0.61061269,\n",
       "       0.07786286, 0.90551103, 1.0272264 , 0.3500482 , 1.54164962,\n",
       "       1.68103269, 0.94392848, 0.76169013, 0.29383876, 1.78394549,\n",
       "       0.31215392, 0.05548082, 1.94209729, 1.30577095, 0.80481233,\n",
       "       1.51716638, 0.3256873 , 1.49638963, 0.45818935, 1.76105187,\n",
       "       1.55739212, 0.1552157 , 1.01272907, 0.20988017, 1.104654  ,\n",
       "       0.6198075 , 1.78955237, 0.8416445 , 1.00388408, 1.15072974,\n",
       "       0.57645349, 0.4376151 , 1.96071177, 1.12225996, 0.13665137,\n",
       "       2.08516275, 1.08266006, 1.22411242, 1.94726071, 0.8402276 ,\n",
       "       1.94905163, 1.83772973, 0.67553006, 1.68173806, 1.92405153,\n",
       "       1.82183464, 0.58505582, 2.03799549, 0.25230365, 2.08259412,\n",
       "       1.71299973, 1.58228609, 2.12028411, 1.71738626, 1.00466554,\n",
       "       0.30096072, 1.29661698, 0.68372996, 0.87310342, 1.21808138,\n",
       "       0.58591556, 0.14889251, 0.34522841, 0.70062157, 0.37659247,\n",
       "       1.45085818, 1.72154065, 0.71076066, 0.18456919, 1.02936861,\n",
       "       1.83816242, 1.1634281 , 0.69988145, 0.4701704 , 0.20488267,\n",
       "       0.20013054, 0.77624018, 1.62086304, 0.19879279, 1.12007393,\n",
       "       0.2576643 , 0.3884187 , 1.19885288, 0.5152617 , 1.84582419])"
      ]
     },
     "execution_count": 9,
     "metadata": {},
     "output_type": "execute_result"
    }
   ],
   "source": [
    "these_seps"
   ]
  },
  {
   "cell_type": "code",
   "execution_count": 7,
   "metadata": {},
   "outputs": [],
   "source": [
    "def simulate_splits(sameseed=True):\n",
    "    \n",
    "    seed1 = random.randint(100, 999)\n",
    "    if sameseed:\n",
    "        seed2 = seed1\n",
    "    else:\n",
    "        seed2 = random.randint(100, 999)\n",
    "    #print(seed1, '-', seed2)\n",
    "        \n",
    "    \n",
    "    activations, separations = gen_activations_and_separations(1000, sigma=0.001)\n",
    "    \n",
    "    # Reshape into 2D arrays with 'sequences' of activations and separations\n",
    "    activations_2d = np.array(activations).reshape(100, 10)\n",
    "    separations_2d = np.array(separations).reshape(100, 10)\n",
    "    \n",
    "    sep_splits = [np.mean(s, axis=0) for s in random_split(separations_2d, 4, seed=seed1)]\n",
    "    act_splits = [np.mean(a, axis=0) for a in random_split(activations_2d, 4, seed=seed2)]\n",
    "    dis_splits = [np.array(separation_to_accuracy(s)) for s in sep_splits]\n",
    "    \n",
    "    #return act_splits, dis_splits\n",
    "    \n",
    "    avg_act = np.mean(np.vstack(act_splits), axis=0)\n",
    "    avg_dis = np.mean(np.vstack(dis_splits), axis=0)\n",
    "    \n",
    "    return pearsonr(avg_act, avg_dis)[0]  "
   ]
  },
  {
   "cell_type": "code",
   "execution_count": 8,
   "metadata": {},
   "outputs": [],
   "source": [
    "activations, separations = gen_activations_and_separations(1000, sigma=0.01)\n",
    "distances = separation_to_accuracy(separations)"
   ]
  },
  {
   "cell_type": "code",
   "execution_count": null,
   "metadata": {},
   "outputs": [],
   "source": [
    "split_activations = np.vstack([a for a in random_split(np.array(activations).reshape(1000, 10), 4)])"
   ]
  },
  {
   "cell_type": "code",
   "execution_count": null,
   "metadata": {},
   "outputs": [],
   "source": [
    "split_activations.shape"
   ]
  },
  {
   "cell_type": "code",
   "execution_count": null,
   "metadata": {},
   "outputs": [],
   "source": [
    "datasets = [generate_data(s) for s in separations]\n",
    "split_ds = split_datasets(datasets, n_partitions=4)\n",
    "split_distances = [trainandtest_svm(x, y) for x, y in split_ds]\n",
    "split_activations = [np.mean]"
   ]
  },
  {
   "cell_type": "code",
   "execution_count": null,
   "metadata": {},
   "outputs": [],
   "source": [
    "distances"
   ]
  },
  {
   "cell_type": "code",
   "execution_count": null,
   "metadata": {},
   "outputs": [],
   "source": [
    "type(split_datasets[0][0])"
   ]
  },
  {
   "cell_type": "code",
   "execution_count": null,
   "metadata": {},
   "outputs": [],
   "source": [
    "plt.scatter(activations, distances)"
   ]
  },
  {
   "cell_type": "code",
   "execution_count": null,
   "metadata": {},
   "outputs": [],
   "source": [
    "simulate_splits(sameseed=False)"
   ]
  },
  {
   "cell_type": "code",
   "execution_count": null,
   "metadata": {},
   "outputs": [],
   "source": [
    "print('Simulating same seed...')\n",
    "sameseed_corrs = [simulate_splits(sameseed=True) for _ in tqdm(range(1000))]\n",
    "print('Simulating different seed...')\n",
    "diffseed_corrs = [simulate_splits(sameseed=False) for _ in tqdm(range(1000))]"
   ]
  },
  {
   "cell_type": "code",
   "execution_count": null,
   "metadata": {},
   "outputs": [],
   "source": [
    "np.mean(sameseed_corrs)"
   ]
  },
  {
   "cell_type": "code",
   "execution_count": null,
   "metadata": {},
   "outputs": [],
   "source": [
    "np.mean(diffseed_corrs)"
   ]
  },
  {
   "cell_type": "code",
   "execution_count": null,
   "metadata": {},
   "outputs": [],
   "source": []
  }
 ],
 "metadata": {
  "kernelspec": {
   "display_name": "giacomo37",
   "language": "python",
   "name": "python3"
  },
  "language_info": {
   "codemirror_mode": {
    "name": "ipython",
    "version": 3
   },
   "file_extension": ".py",
   "mimetype": "text/x-python",
   "name": "python",
   "nbconvert_exporter": "python",
   "pygments_lexer": "ipython3",
   "version": "3.8.5"
  }
 },
 "nbformat": 4,
 "nbformat_minor": 2
}
