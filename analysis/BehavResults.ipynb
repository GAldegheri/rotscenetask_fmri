{
 "cells": [
  {
   "cell_type": "code",
   "execution_count": 1,
   "id": "11bc86a9-62ac-4ecd-ac0a-75416fd633b3",
   "metadata": {},
   "outputs": [
    {
     "name": "stderr",
     "output_type": "stream",
     "text": [
      "/home/predatt/giaald/.conda/envs/giacomo37/lib/python3.8/site-packages/outdated/utils.py:14: OutdatedPackageWarning: The package outdated is out of date. Your version is 0.2.1, the latest is 0.2.2.\n",
      "Set the environment variable OUTDATED_IGNORE=1 to disable these warnings.\n",
      "  return warn(\n",
      "/home/predatt/giaald/.conda/envs/giacomo37/lib/python3.8/site-packages/outdated/utils.py:14: OutdatedPackageWarning: The package pingouin is out of date. Your version is 0.5.0, the latest is 0.5.5.\n",
      "Set the environment variable OUTDATED_IGNORE=1 to disable these warnings.\n",
      "  return warn(\n"
     ]
    }
   ],
   "source": [
    "import pandas as pd\n",
    "import pingouin as pg\n",
    "import numpy as np\n",
    "from math import ceil\n",
    "from scipy.stats import binom_test\n",
    "import seaborn as sns\n",
    "import matplotlib.pyplot as plt\n",
    "from matplotlib.gridspec import GridSpec\n",
    "from glob import glob\n",
    "import os\n",
    "from plotting.plot import pretty_behav_plot\n",
    "\n",
    "%load_ext autoreload\n",
    "%autoreload 2"
   ]
  },
  {
   "cell_type": "markdown",
   "id": "f464f152-07be-4f9b-a5d3-7447249afd10",
   "metadata": {},
   "source": [
    "## Behavioral data"
   ]
  },
  {
   "cell_type": "code",
   "execution_count": 2,
   "id": "51ec98ff-d52b-4c5a-809c-4912591bfa12",
   "metadata": {},
   "outputs": [],
   "source": [
    "allsubjdirs = sorted(glob('../../bids/sub-*'))\n",
    "subjlist = [f'sub-{s:03d}' for s in range(1, 36)] #if s != 6]\n",
    "allsubjs_trials = pd.DataFrame()\n",
    "for i, s in enumerate(subjlist):\n",
    "    behfile = glob(os.path.join('../../bids', s, 'func', '*beh.tsv'))[0]\n",
    "    behav = pd.read_csv(behfile, sep='\\t')\n",
    "    behav.insert(0, 'Subject', i + 1)\n",
    "    allsubjs_trials = pd.concat([allsubjs_trials, behav])"
   ]
  },
  {
   "cell_type": "code",
   "execution_count": 3,
   "id": "e23d778c",
   "metadata": {},
   "outputs": [],
   "source": [
    "events = pd.read_csv(glob(os.path.join('../../bids', s, 'func', '*test_run-1_events.tsv'))[0], sep='\\t')"
   ]
  },
  {
   "cell_type": "code",
   "execution_count": 4,
   "id": "559af38c",
   "metadata": {},
   "outputs": [
    {
     "data": {
      "text/html": [
       "<div>\n",
       "<style scoped>\n",
       "    .dataframe tbody tr th:only-of-type {\n",
       "        vertical-align: middle;\n",
       "    }\n",
       "\n",
       "    .dataframe tbody tr th {\n",
       "        vertical-align: top;\n",
       "    }\n",
       "\n",
       "    .dataframe thead th {\n",
       "        text-align: right;\n",
       "    }\n",
       "</style>\n",
       "<table border=\"1\" class=\"dataframe\">\n",
       "  <thead>\n",
       "    <tr style=\"text-align: right;\">\n",
       "      <th></th>\n",
       "      <th>onset</th>\n",
       "      <th>duration</th>\n",
       "      <th>trial_no</th>\n",
       "      <th>event_no</th>\n",
       "    </tr>\n",
       "  </thead>\n",
       "  <tbody>\n",
       "    <tr>\n",
       "      <th>0</th>\n",
       "      <td>15.067397</td>\n",
       "      <td>0</td>\n",
       "      <td>0</td>\n",
       "      <td>1</td>\n",
       "    </tr>\n",
       "    <tr>\n",
       "      <th>1</th>\n",
       "      <td>16.078584</td>\n",
       "      <td>0</td>\n",
       "      <td>0</td>\n",
       "      <td>2</td>\n",
       "    </tr>\n",
       "    <tr>\n",
       "      <th>2</th>\n",
       "      <td>18.083930</td>\n",
       "      <td>0</td>\n",
       "      <td>0</td>\n",
       "      <td>3</td>\n",
       "    </tr>\n",
       "    <tr>\n",
       "      <th>3</th>\n",
       "      <td>18.583781</td>\n",
       "      <td>0</td>\n",
       "      <td>0</td>\n",
       "      <td>4</td>\n",
       "    </tr>\n",
       "    <tr>\n",
       "      <th>4</th>\n",
       "      <td>19.083901</td>\n",
       "      <td>0</td>\n",
       "      <td>0</td>\n",
       "      <td>5</td>\n",
       "    </tr>\n",
       "    <tr>\n",
       "      <th>...</th>\n",
       "      <td>...</td>\n",
       "      <td>...</td>\n",
       "      <td>...</td>\n",
       "      <td>...</td>\n",
       "    </tr>\n",
       "    <tr>\n",
       "      <th>571</th>\n",
       "      <td>385.438181</td>\n",
       "      <td>0</td>\n",
       "      <td>47</td>\n",
       "      <td>8</td>\n",
       "    </tr>\n",
       "    <tr>\n",
       "      <th>572</th>\n",
       "      <td>385.532651</td>\n",
       "      <td>0</td>\n",
       "      <td>47</td>\n",
       "      <td>9</td>\n",
       "    </tr>\n",
       "    <tr>\n",
       "      <th>573</th>\n",
       "      <td>385.587148</td>\n",
       "      <td>0</td>\n",
       "      <td>47</td>\n",
       "      <td>10</td>\n",
       "    </tr>\n",
       "    <tr>\n",
       "      <th>574</th>\n",
       "      <td>385.641675</td>\n",
       "      <td>0</td>\n",
       "      <td>47</td>\n",
       "      <td>11</td>\n",
       "    </tr>\n",
       "    <tr>\n",
       "      <th>575</th>\n",
       "      <td>387.132557</td>\n",
       "      <td>0</td>\n",
       "      <td>47</td>\n",
       "      <td>12</td>\n",
       "    </tr>\n",
       "  </tbody>\n",
       "</table>\n",
       "<p>576 rows × 4 columns</p>\n",
       "</div>"
      ],
      "text/plain": [
       "          onset  duration  trial_no  event_no\n",
       "0     15.067397         0         0         1\n",
       "1     16.078584         0         0         2\n",
       "2     18.083930         0         0         3\n",
       "3     18.583781         0         0         4\n",
       "4     19.083901         0         0         5\n",
       "..          ...       ...       ...       ...\n",
       "571  385.438181         0        47         8\n",
       "572  385.532651         0        47         9\n",
       "573  385.587148         0        47        10\n",
       "574  385.641675         0        47        11\n",
       "575  387.132557         0        47        12\n",
       "\n",
       "[576 rows x 4 columns]"
      ]
     },
     "execution_count": 4,
     "metadata": {},
     "output_type": "execute_result"
    }
   ],
   "source": [
    "events"
   ]
  },
  {
   "cell_type": "code",
   "execution_count": 5,
   "id": "f88db600",
   "metadata": {},
   "outputs": [
    {
     "data": {
      "text/plain": [
       "['../../bids/sub-035/func/sub-035_task-test_beh.tsv',\n",
       " '../../bids/sub-035/func/sub-035_task-funcloc_run-1_events.tsv',\n",
       " '../../bids/sub-035/func/sub-035_task-funcloc_run-2_events.tsv',\n",
       " '../../bids/sub-035/func/sub-035_task-train_run-1_events.tsv',\n",
       " '../../bids/sub-035/func/sub-035_task-train_run-2_events.tsv',\n",
       " '../../bids/sub-035/func/sub-035_task-train_run-3_events.tsv',\n",
       " '../../bids/sub-035/func/sub-035_task-test_run-1_events.tsv',\n",
       " '../../bids/sub-035/func/sub-035_task-test_run-2_events.tsv',\n",
       " '../../bids/sub-035/func/sub-035_task-test_run-3_events.tsv',\n",
       " '../../bids/sub-035/func/sub-035_task-test_run-4_events.tsv',\n",
       " '../../bids/sub-035/func/sub-035_task-test_run-5_events.tsv',\n",
       " '../../bids/sub-035/func/sub-035_task-test_run-6_events.tsv',\n",
       " '../../bids/sub-035/func/sub-035_task-test_run-7_events.tsv']"
      ]
     },
     "execution_count": 5,
     "metadata": {},
     "output_type": "execute_result"
    }
   ],
   "source": [
    "glob('../../bids/sub-035/func/*')"
   ]
  },
  {
   "cell_type": "code",
   "execution_count": 6,
   "id": "c37505bb",
   "metadata": {},
   "outputs": [],
   "source": [
    "A90mask = ((behav['InitView']==1) & (behav['FinalView']==90) & (behav['Sequence_2']==15))\n",
    "B90mask = ((behav['InitView']==2) & (behav['FinalView']==90) & (behav['Sequence_2']==15))\n",
    "        \n",
    "A90_E_indx = behav.index[(behav['Consistent']==1) & A90mask]\n",
    "B90_E_indx = behav.index[(behav['Consistent']==1) & B90mask]\n",
    "\n",
    "A90_U_indx = behav.index[(behav['Consistent']==0) & B90mask]\n",
    "B90_U_indx = behav.index[(behav['Consistent']==0) & A90mask]"
   ]
  },
  {
   "cell_type": "code",
   "execution_count": 7,
   "id": "41d76892",
   "metadata": {},
   "outputs": [
    {
     "data": {
      "text/plain": [
       "7"
      ]
     },
     "execution_count": 7,
     "metadata": {},
     "output_type": "execute_result"
    }
   ],
   "source": [
    "min(len(A90_U_indx), len(B90_U_indx))"
   ]
  },
  {
   "cell_type": "code",
   "execution_count": 8,
   "id": "1ae94edc",
   "metadata": {},
   "outputs": [
    {
     "data": {
      "text/plain": [
       "[89, 220, 95]"
      ]
     },
     "execution_count": 8,
     "metadata": {},
     "output_type": "execute_result"
    }
   ],
   "source": [
    "import random\n",
    "random.sample(list(B90_U_indx), 3)"
   ]
  },
  {
   "cell_type": "code",
   "execution_count": 9,
   "id": "fc69afd6",
   "metadata": {},
   "outputs": [
    {
     "data": {
      "text/plain": [
       "[41, 89, 95, 105, 145, 220, 242]"
      ]
     },
     "execution_count": 9,
     "metadata": {},
     "output_type": "execute_result"
    }
   ],
   "source": [
    "list(B90_U_indx)"
   ]
  },
  {
   "cell_type": "code",
   "execution_count": 10,
   "id": "cafbe48a",
   "metadata": {},
   "outputs": [
    {
     "data": {
      "text/html": [
       "<div>\n",
       "<style scoped>\n",
       "    .dataframe tbody tr th:only-of-type {\n",
       "        vertical-align: middle;\n",
       "    }\n",
       "\n",
       "    .dataframe tbody tr th {\n",
       "        vertical-align: top;\n",
       "    }\n",
       "\n",
       "    .dataframe thead th {\n",
       "        text-align: right;\n",
       "    }\n",
       "</style>\n",
       "<table border=\"1\" class=\"dataframe\">\n",
       "  <thead>\n",
       "    <tr style=\"text-align: right;\">\n",
       "      <th></th>\n",
       "      <th>Subject</th>\n",
       "      <th>Scene</th>\n",
       "      <th>InitView</th>\n",
       "      <th>FinalView</th>\n",
       "      <th>Diff</th>\n",
       "      <th>Orients_1</th>\n",
       "      <th>Orients_2</th>\n",
       "      <th>Consistent</th>\n",
       "      <th>Hit</th>\n",
       "      <th>RT</th>\n",
       "      <th>Sequence_1</th>\n",
       "      <th>Sequence_2</th>\n",
       "      <th>Sequence_3</th>\n",
       "      <th>Sequence_4</th>\n",
       "      <th>Sequence_5</th>\n",
       "      <th>Jitter</th>\n",
       "      <th>Fix</th>\n",
       "    </tr>\n",
       "  </thead>\n",
       "  <tbody>\n",
       "    <tr>\n",
       "      <th>0</th>\n",
       "      <td>1</td>\n",
       "      <td>7</td>\n",
       "      <td>1</td>\n",
       "      <td>90</td>\n",
       "      <td>5.0</td>\n",
       "      <td>0</td>\n",
       "      <td>5.0</td>\n",
       "      <td>1</td>\n",
       "      <td>1.0</td>\n",
       "      <td>0.763023</td>\n",
       "      <td>0</td>\n",
       "      <td>15</td>\n",
       "      <td>30</td>\n",
       "      <td>45</td>\n",
       "      <td>90</td>\n",
       "      <td>152</td>\n",
       "      <td>148</td>\n",
       "    </tr>\n",
       "    <tr>\n",
       "      <th>1</th>\n",
       "      <td>1</td>\n",
       "      <td>3</td>\n",
       "      <td>2</td>\n",
       "      <td>30</td>\n",
       "      <td>5.0</td>\n",
       "      <td>0</td>\n",
       "      <td>5.0</td>\n",
       "      <td>1</td>\n",
       "      <td>1.0</td>\n",
       "      <td>0.706215</td>\n",
       "      <td>0</td>\n",
       "      <td>15</td>\n",
       "      <td>20</td>\n",
       "      <td>25</td>\n",
       "      <td>30</td>\n",
       "      <td>129</td>\n",
       "      <td>171</td>\n",
       "    </tr>\n",
       "    <tr>\n",
       "      <th>2</th>\n",
       "      <td>1</td>\n",
       "      <td>13</td>\n",
       "      <td>2</td>\n",
       "      <td>30</td>\n",
       "      <td>-5.0</td>\n",
       "      <td>-2</td>\n",
       "      <td>-7.0</td>\n",
       "      <td>0</td>\n",
       "      <td>1.0</td>\n",
       "      <td>0.783116</td>\n",
       "      <td>0</td>\n",
       "      <td>15</td>\n",
       "      <td>20</td>\n",
       "      <td>25</td>\n",
       "      <td>30</td>\n",
       "      <td>145</td>\n",
       "      <td>155</td>\n",
       "    </tr>\n",
       "    <tr>\n",
       "      <th>3</th>\n",
       "      <td>1</td>\n",
       "      <td>20</td>\n",
       "      <td>2</td>\n",
       "      <td>90</td>\n",
       "      <td>-4.5</td>\n",
       "      <td>0</td>\n",
       "      <td>-4.5</td>\n",
       "      <td>1</td>\n",
       "      <td>1.0</td>\n",
       "      <td>1.191430</td>\n",
       "      <td>0</td>\n",
       "      <td>30</td>\n",
       "      <td>45</td>\n",
       "      <td>50</td>\n",
       "      <td>90</td>\n",
       "      <td>176</td>\n",
       "      <td>124</td>\n",
       "    </tr>\n",
       "    <tr>\n",
       "      <th>4</th>\n",
       "      <td>1</td>\n",
       "      <td>13</td>\n",
       "      <td>2</td>\n",
       "      <td>90</td>\n",
       "      <td>-4.0</td>\n",
       "      <td>-1</td>\n",
       "      <td>-5.0</td>\n",
       "      <td>1</td>\n",
       "      <td>0.0</td>\n",
       "      <td>1.267132</td>\n",
       "      <td>0</td>\n",
       "      <td>20</td>\n",
       "      <td>45</td>\n",
       "      <td>55</td>\n",
       "      <td>90</td>\n",
       "      <td>168</td>\n",
       "      <td>132</td>\n",
       "    </tr>\n",
       "    <tr>\n",
       "      <th>...</th>\n",
       "      <td>...</td>\n",
       "      <td>...</td>\n",
       "      <td>...</td>\n",
       "      <td>...</td>\n",
       "      <td>...</td>\n",
       "      <td>...</td>\n",
       "      <td>...</td>\n",
       "      <td>...</td>\n",
       "      <td>...</td>\n",
       "      <td>...</td>\n",
       "      <td>...</td>\n",
       "      <td>...</td>\n",
       "      <td>...</td>\n",
       "      <td>...</td>\n",
       "      <td>...</td>\n",
       "      <td>...</td>\n",
       "      <td>...</td>\n",
       "    </tr>\n",
       "    <tr>\n",
       "      <th>331</th>\n",
       "      <td>35</td>\n",
       "      <td>4</td>\n",
       "      <td>1</td>\n",
       "      <td>30</td>\n",
       "      <td>0.5</td>\n",
       "      <td>0</td>\n",
       "      <td>0.5</td>\n",
       "      <td>1</td>\n",
       "      <td>1.0</td>\n",
       "      <td>0.526852</td>\n",
       "      <td>0</td>\n",
       "      <td>15</td>\n",
       "      <td>20</td>\n",
       "      <td>25</td>\n",
       "      <td>30</td>\n",
       "      <td>126</td>\n",
       "      <td>174</td>\n",
       "    </tr>\n",
       "    <tr>\n",
       "      <th>332</th>\n",
       "      <td>35</td>\n",
       "      <td>9</td>\n",
       "      <td>1</td>\n",
       "      <td>90</td>\n",
       "      <td>0.5</td>\n",
       "      <td>-2</td>\n",
       "      <td>-1.5</td>\n",
       "      <td>1</td>\n",
       "      <td>1.0</td>\n",
       "      <td>0.891972</td>\n",
       "      <td>0</td>\n",
       "      <td>20</td>\n",
       "      <td>30</td>\n",
       "      <td>50</td>\n",
       "      <td>90</td>\n",
       "      <td>127</td>\n",
       "      <td>173</td>\n",
       "    </tr>\n",
       "    <tr>\n",
       "      <th>333</th>\n",
       "      <td>35</td>\n",
       "      <td>8</td>\n",
       "      <td>1</td>\n",
       "      <td>30</td>\n",
       "      <td>0.5</td>\n",
       "      <td>2</td>\n",
       "      <td>2.5</td>\n",
       "      <td>1</td>\n",
       "      <td>1.0</td>\n",
       "      <td>0.900208</td>\n",
       "      <td>0</td>\n",
       "      <td>15</td>\n",
       "      <td>20</td>\n",
       "      <td>25</td>\n",
       "      <td>30</td>\n",
       "      <td>139</td>\n",
       "      <td>161</td>\n",
       "    </tr>\n",
       "    <tr>\n",
       "      <th>334</th>\n",
       "      <td>35</td>\n",
       "      <td>13</td>\n",
       "      <td>2</td>\n",
       "      <td>30</td>\n",
       "      <td>-0.5</td>\n",
       "      <td>1</td>\n",
       "      <td>0.5</td>\n",
       "      <td>1</td>\n",
       "      <td>1.0</td>\n",
       "      <td>0.426043</td>\n",
       "      <td>0</td>\n",
       "      <td>15</td>\n",
       "      <td>20</td>\n",
       "      <td>25</td>\n",
       "      <td>30</td>\n",
       "      <td>159</td>\n",
       "      <td>141</td>\n",
       "    </tr>\n",
       "    <tr>\n",
       "      <th>335</th>\n",
       "      <td>35</td>\n",
       "      <td>5</td>\n",
       "      <td>2</td>\n",
       "      <td>90</td>\n",
       "      <td>-0.5</td>\n",
       "      <td>-1</td>\n",
       "      <td>-1.5</td>\n",
       "      <td>0</td>\n",
       "      <td>1.0</td>\n",
       "      <td>0.440898</td>\n",
       "      <td>0</td>\n",
       "      <td>30</td>\n",
       "      <td>45</td>\n",
       "      <td>55</td>\n",
       "      <td>90</td>\n",
       "      <td>121</td>\n",
       "      <td>179</td>\n",
       "    </tr>\n",
       "  </tbody>\n",
       "</table>\n",
       "<p>11760 rows × 17 columns</p>\n",
       "</div>"
      ],
      "text/plain": [
       "     Subject  Scene  InitView  FinalView  Diff  Orients_1  Orients_2  \\\n",
       "0          1      7         1         90   5.0          0        5.0   \n",
       "1          1      3         2         30   5.0          0        5.0   \n",
       "2          1     13         2         30  -5.0         -2       -7.0   \n",
       "3          1     20         2         90  -4.5          0       -4.5   \n",
       "4          1     13         2         90  -4.0         -1       -5.0   \n",
       "..       ...    ...       ...        ...   ...        ...        ...   \n",
       "331       35      4         1         30   0.5          0        0.5   \n",
       "332       35      9         1         90   0.5         -2       -1.5   \n",
       "333       35      8         1         30   0.5          2        2.5   \n",
       "334       35     13         2         30  -0.5          1        0.5   \n",
       "335       35      5         2         90  -0.5         -1       -1.5   \n",
       "\n",
       "     Consistent  Hit        RT  Sequence_1  Sequence_2  Sequence_3  \\\n",
       "0             1  1.0  0.763023           0          15          30   \n",
       "1             1  1.0  0.706215           0          15          20   \n",
       "2             0  1.0  0.783116           0          15          20   \n",
       "3             1  1.0  1.191430           0          30          45   \n",
       "4             1  0.0  1.267132           0          20          45   \n",
       "..          ...  ...       ...         ...         ...         ...   \n",
       "331           1  1.0  0.526852           0          15          20   \n",
       "332           1  1.0  0.891972           0          20          30   \n",
       "333           1  1.0  0.900208           0          15          20   \n",
       "334           1  1.0  0.426043           0          15          20   \n",
       "335           0  1.0  0.440898           0          30          45   \n",
       "\n",
       "     Sequence_4  Sequence_5  Jitter  Fix  \n",
       "0            45          90     152  148  \n",
       "1            25          30     129  171  \n",
       "2            25          30     145  155  \n",
       "3            50          90     176  124  \n",
       "4            55          90     168  132  \n",
       "..          ...         ...     ...  ...  \n",
       "331          25          30     126  174  \n",
       "332          50          90     127  173  \n",
       "333          25          30     139  161  \n",
       "334          25          30     159  141  \n",
       "335          55          90     121  179  \n",
       "\n",
       "[11760 rows x 17 columns]"
      ]
     },
     "execution_count": 10,
     "metadata": {},
     "output_type": "execute_result"
    }
   ],
   "source": [
    "allsubjs_trials"
   ]
  },
  {
   "cell_type": "code",
   "execution_count": 11,
   "id": "000dd138",
   "metadata": {},
   "outputs": [
    {
     "name": "stdout",
     "output_type": "stream",
     "text": [
      "Subject 1, 28, incongruent: 6\n",
      "Subject 2, 29, incongruent: 9\n",
      "Subject 3, 25, incongruent: 6\n",
      "Subject 4, 26, incongruent: 4\n",
      "Subject 5, 28, incongruent: 7\n",
      "Subject 6, 18, incongruent: 3\n",
      "Subject 7, 25, incongruent: 7\n",
      "Subject 8, 22, incongruent: 5\n",
      "Subject 9, 25, incongruent: 5\n",
      "Subject 10, 30, incongruent: 8\n",
      "Subject 11, 28, incongruent: 7\n",
      "Subject 12, 23, incongruent: 7\n",
      "Subject 13, 22, incongruent: 4\n",
      "Subject 14, 23, incongruent: 5\n",
      "Subject 15, 21, incongruent: 7\n",
      "Subject 16, 21, incongruent: 3\n",
      "Subject 17, 33, incongruent: 9\n",
      "Subject 18, 31, incongruent: 11\n",
      "Subject 19, 30, incongruent: 9\n",
      "Subject 20, 22, incongruent: 5\n",
      "Subject 21, 23, incongruent: 5\n",
      "Subject 22, 37, incongruent: 7\n",
      "Subject 23, 26, incongruent: 6\n",
      "Subject 24, 30, incongruent: 9\n",
      "Subject 25, 20, incongruent: 7\n",
      "Subject 26, 33, incongruent: 11\n",
      "Subject 27, 23, incongruent: 7\n",
      "Subject 28, 28, incongruent: 6\n",
      "Subject 29, 22, incongruent: 5\n",
      "Subject 30, 28, incongruent: 9\n",
      "Subject 31, 20, incongruent: 6\n",
      "Subject 32, 36, incongruent: 10\n",
      "Subject 33, 27, incongruent: 8\n",
      "Subject 34, 16, incongruent: 5\n",
      "Subject 35, 33, incongruent: 10\n"
     ]
    }
   ],
   "source": [
    "for subj in range(1, 36):\n",
    "    thissubj = allsubjs_trials[allsubjs_trials['Subject']==subj]\n",
    "    rot15_trials = thissubj[(thissubj['FinalView']==90)&(thissubj['InitView']==2)&(thissubj['Sequence_2']==15)]\n",
    "    print(f'Subject {subj}, {len(rot15_trials)}, incongruent: {rot15_trials.Consistent.value_counts().get(0, 0)}')"
   ]
  },
  {
   "cell_type": "code",
   "execution_count": 25,
   "id": "c5ff5f7a-1a8b-4e47-9485-6119c8f46fc0",
   "metadata": {},
   "outputs": [
    {
     "data": {
      "text/plain": [
       "15    0.308503\n",
       "20    0.228912\n",
       "25    0.174320\n",
       "30    0.126531\n",
       "35    0.081633\n",
       "40    0.047279\n",
       "45    0.024660\n",
       "50    0.008163\n",
       "Name: Sequence_2, dtype: float64"
      ]
     },
     "execution_count": 25,
     "metadata": {},
     "output_type": "execute_result"
    }
   ],
   "source": [
    "allsubjs_trials[allsubjs_trials['FinalView']==90].Sequence_2.value_counts()/5880"
   ]
  },
  {
   "cell_type": "code",
   "execution_count": 20,
   "id": "3b46e6e4",
   "metadata": {},
   "outputs": [
    {
     "data": {
      "text/plain": [
       "5880"
      ]
     },
     "execution_count": 20,
     "metadata": {},
     "output_type": "execute_result"
    }
   ],
   "source": [
    "len(allsubjs_trials[allsubjs_trials['FinalView']==90].Sequence_2)"
   ]
  },
  {
   "cell_type": "code",
   "execution_count": 22,
   "id": "db7e6da9",
   "metadata": {},
   "outputs": [],
   "source": [
    "secondviews = allsubjs_trials[allsubjs_trials['FinalView']==90].Sequence_2.to_list()"
   ]
  },
  {
   "cell_type": "code",
   "execution_count": 24,
   "id": "3a47636e",
   "metadata": {},
   "outputs": [
    {
     "data": {
      "text/plain": [
       "5880"
      ]
     },
     "execution_count": 24,
     "metadata": {},
     "output_type": "execute_result"
    }
   ],
   "source": [
    "len(secondviews)"
   ]
  },
  {
   "cell_type": "code",
   "execution_count": 45,
   "id": "e3df3f24",
   "metadata": {},
   "outputs": [
    {
     "data": {
      "image/png": "[encoded data removed]",
      "text/plain": [
       "<Figure size 1440x864 with 1 Axes>"
      ]
     },
     "metadata": {
      "needs_background": "light"
     },
     "output_type": "display_data"
    }
   ],
   "source": [
    "plt.figure(figsize=(20, 12))\n",
    "ax = sns.histplot(data=secondviews, \n",
    "         stat='density', discrete=True, kde=False,\n",
    "         shrink=4.95)\n",
    "ax.tick_params(axis='both', labelsize=22)\n",
    "for axis in ['top','bottom','left','right']:\n",
    "    ax.spines[axis].set_linewidth(2)\n",
    "plt.savefig('results_plots/view_density.png')"
   ]
  },
  {
   "cell_type": "markdown",
   "id": "ca59f8f3-a3a6-4634-9746-8191a591da7f",
   "metadata": {},
   "source": [
    "## Plot staircases"
   ]
  },
  {
   "cell_type": "code",
   "execution_count": null,
   "id": "4c581566-9396-4ce4-bfe2-28e2428573ba",
   "metadata": {},
   "outputs": [],
   "source": [
    "n_missed = []\n",
    "remove_subjs = []\n",
    "fig = plt.figure(figsize=(15,10))\n",
    "nsubjs = len(allsubjs_trials.Subject.unique())\n",
    "for s in allsubjs_trials.Subject.unique():\n",
    "    thisstair = np.array(abs(allsubjs_trials.loc[allsubjs_trials['Subject'] == s]['Diff']))\n",
    "    realstair = abs(allsubjs_trials[allsubjs_trials['Subject']==s].Orients_1.values - \n",
    "                   allsubjs_trials[allsubjs_trials['Subject']==s].Orients_2.values)\n",
    "    theseresps = np.array(allsubjs_trials.loc[allsubjs_trials['Subject'] == s]['Hit'])\n",
    "    howmuchceil = sum(realstair==10)\n",
    "    missingtrials = np.count_nonzero(np.isnan(theseresps))\n",
    "    n_missed.append(missingtrials)\n",
    "    ax = fig.add_subplot(ceil(nsubjs/4), 4, s)\n",
    "    ax.set_ylim([0, 25])\n",
    "    k = np.nansum(theseresps)\n",
    "    n = len(thisstair)\n",
    "    if binom_test(k, n, p=0.5, alternative='greater')>0.05:\n",
    "    #if howmuchceil >= len(thisstair)/4 or missingtrials >= len(thisstair)/3:\n",
    "        #print(k/n)\n",
    "        ax.plot(thisstair, 'r')\n",
    "        remove_subjs.append(s)\n",
    "    else:\n",
    "        ax.plot(thisstair, 'k')\n",
    "    ax.plot(realstair, 'b')"
   ]
  },
  {
   "cell_type": "code",
   "execution_count": null,
   "id": "1723c1c4-3cab-4d6d-853a-dfd7da77f796",
   "metadata": {},
   "outputs": [],
   "source": [
    "# Which participants to remove\n",
    "remove_subjs"
   ]
  },
  {
   "cell_type": "code",
   "execution_count": null,
   "id": "a0d87b5c-cbbc-4a06-8549-c695f5947c79",
   "metadata": {},
   "outputs": [],
   "source": [
    "#allsubjs_trials = allsubjs_trials[~allsubjs_trials['Subject'].isin(remove_subjs)]"
   ]
  },
  {
   "cell_type": "markdown",
   "id": "947a1832-7bb5-4e43-9827-8953906dfe4d",
   "metadata": {},
   "source": [
    "## Expected vs Unexpected t-test"
   ]
  },
  {
   "cell_type": "code",
   "execution_count": null,
   "id": "511b9af2-e46a-4667-a63d-9bcf3a8718b2",
   "metadata": {},
   "outputs": [],
   "source": [
    "allsubj_means = allsubjs_trials.groupby(['Subject', 'Consistent']).mean().reset_index()"
   ]
  },
  {
   "cell_type": "code",
   "execution_count": null,
   "id": "46314505",
   "metadata": {},
   "outputs": [],
   "source": [
    "allsubj_means.groupby(['Consistent'])['Hit'].agg(['mean', 'sem'])"
   ]
  },
  {
   "cell_type": "code",
   "execution_count": null,
   "id": "86502274-d320-40d5-94ab-b7613803a350",
   "metadata": {},
   "outputs": [],
   "source": [
    "pg.ttest(allsubj_means[allsubj_means['Consistent']==1]['Hit'], \n",
    "         allsubj_means[allsubj_means['Consistent']==0]['Hit'], paired=True)"
   ]
  },
  {
   "cell_type": "markdown",
   "id": "2d0888af-a9dd-448c-b146-23137b885ed7",
   "metadata": {},
   "source": [
    "## Plot"
   ]
  },
  {
   "cell_type": "code",
   "execution_count": null,
   "id": "bd1396cb-5f27-40f1-9b28-4e4093a29961",
   "metadata": {},
   "outputs": [],
   "source": [
    "pretty_behav_plot(allsubj_means, saveimg=True)"
   ]
  },
  {
   "cell_type": "code",
   "execution_count": null,
   "id": "fbe0b993-e637-4217-9779-6e497f2ad1e6",
   "metadata": {},
   "outputs": [],
   "source": [
    "# Get all differences\n",
    "alldiffs = []\n",
    "for sub in allsubj_means.Subject.unique():\n",
    "    thisdiff = allsubj_means[(allsubj_means.Subject==sub)&(allsubj_means.Consistent==1)].Hit.values[0]-\\\n",
    "               allsubj_means[(allsubj_means.Subject==sub)&(allsubj_means.Consistent==0)].Hit.values[0]\n",
    "    alldiffs.append({'Subject': sub, 'Difference': thisdiff})\n",
    "alldiffs = pd.DataFrame(alldiffs)"
   ]
  },
  {
   "cell_type": "code",
   "execution_count": null,
   "id": "dd767ed2-7f09-4570-a373-6635e6b29c15",
   "metadata": {},
   "outputs": [],
   "source": [
    "fig = plt.figure(figsize=(10,8))\n",
    "gs = GridSpec(1, 2, figure=fig)\n",
    "with sns.axes_style('white'):\n",
    "    #ax0 = fig.add_subplot(121)\n",
    "    ax0 = fig.add_subplot(gs[0, :-1])\n",
    "    sns.barplot(x='Consistent', y='Hit', data=allsubj_means, ci=68, order=[1.0, 0.0], palette='Set2', ax=ax0)\n",
    "    ax0.set_ylabel('Hit rate', fontsize=24)\n",
    "    plt.yticks(fontsize=20) \n",
    "    ax0.set_xlabel(None)\n",
    "    ax0.set_xticklabels(['Expected', 'Unexpected'], fontsize=20)\n",
    "    ax0.set(ylim=(0.5, 0.75))\n",
    "    ax0.spines['top'].set_visible(False)\n",
    "    ax0.spines['right'].set_visible(False)\n",
    "with sns.axes_style('white'):\n",
    "    #ax1 = fig.add_subplot(122)\n",
    "    ax1 = fig.add_subplot(gs[0, -1])\n",
    "    sns.violinplot(y='Difference', data=alldiffs, color=\".8\", inner=None)\n",
    "    sns.stripplot(y='Difference', data=alldiffs, jitter=0.07, ax=ax1, color='black', alpha=.5)\n",
    "    # Get mean and 95% CI:\n",
    "    meandiff = alldiffs['Difference'].mean()\n",
    "    tstats = pg.ttest(alldiffs['Difference'], 0.0)\n",
    "    ci95 = tstats['CI95%'][0]\n",
    "    #plt.gca().set_aspect('equal')\n",
    "    #ax1.axis('equal')\n",
    "    for tick in ax1.get_xticks():\n",
    "        ax1.plot([tick-0.1, tick+0.1], [meandiff, meandiff],\n",
    "                    lw=4, color='k')\n",
    "        ax1.plot([tick, tick], [ci95[0], ci95[1]], lw=3, color='k')\n",
    "        ax1.plot([tick-0.01, tick+0.01], [ci95[0], ci95[0]], lw=3, color='k')\n",
    "        ax1.plot([tick-0.01, tick+0.01], [ci95[1], ci95[1]], lw=3, color='k')\n",
    "        #circlemarker = matplotlib.patches.Ellipse((tick+0.0032, meandiff), 0.06, 0.02, color='k')\n",
    "        #ax1.add_patch(circlemarker)\n",
    "    ax1.axhline(0.0, linestyle='--', color='black')\n",
    "    plt.yticks(fontsize=20) \n",
    "    ax1.set_ylabel('Δ Hit rate', fontsize=24)\n",
    "    ax1.set(ylim=(-0.2, 0.4))\n",
    "    ax1.axes_style = 'white'\n",
    "    ax1.spines['top'].set_visible(False)\n",
    "    ax1.spines['right'].set_visible(False)\n",
    "    ax1.spines['bottom'].set_visible(False)\n",
    "plt.tight_layout()\n",
    "#plt.savefig('Plots/Behav_acc.pdf')"
   ]
  },
  {
   "cell_type": "markdown",
   "id": "a7a0fd0e-d02a-4ff9-ad54-afb292d80fc6",
   "metadata": {},
   "source": [
    "## Demographic information"
   ]
  },
  {
   "cell_type": "code",
   "execution_count": null,
   "id": "262aaf40-7670-44b9-b060-fbd600e0fb03",
   "metadata": {},
   "outputs": [],
   "source": [
    "particfile = '../../bids/participants.tsv'\n",
    "particinfo = pd.read_csv(particfile, sep='\\t')"
   ]
  },
  {
   "cell_type": "code",
   "execution_count": null,
   "id": "0d5229b0-bbe4-4149-b7f7-0ee0d1da030e",
   "metadata": {},
   "outputs": [],
   "source": [
    "#particinfo = particinfo[particinfo.participant_id!='sub-006']"
   ]
  },
  {
   "cell_type": "code",
   "execution_count": null,
   "id": "26e48c30-34a1-4cf7-89c4-1a289aa5cca7",
   "metadata": {},
   "outputs": [],
   "source": [
    "particinfo.age.agg(['mean', 'std'])"
   ]
  },
  {
   "cell_type": "code",
   "execution_count": null,
   "id": "ae78cd5d-3e39-4df1-b783-4707e6e97c5a",
   "metadata": {},
   "outputs": [],
   "source": [
    "particinfo.sex.value_counts()"
   ]
  },
  {
   "cell_type": "code",
   "execution_count": null,
   "id": "ae91dd0f-4da0-4312-9380-0fe5bd9132f2",
   "metadata": {},
   "outputs": [],
   "source": []
  }
 ],
 "metadata": {
  "kernelspec": {
   "display_name": "giacomo37",
   "language": "python",
   "name": "python3"
  },
  "language_info": {
   "codemirror_mode": {
    "name": "ipython",
    "version": 3
   },
   "file_extension": ".py",
   "mimetype": "text/x-python",
   "name": "python",
   "nbconvert_exporter": "python",
   "pygments_lexer": "ipython3",
   "version": "3.8.5"
  }
 },
 "nbformat": 4,
 "nbformat_minor": 5
}
