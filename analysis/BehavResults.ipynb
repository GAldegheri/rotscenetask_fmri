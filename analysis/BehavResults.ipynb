{
 "cells": [
  {
   "cell_type": "code",
   "execution_count": null,
   "id": "11bc86a9-62ac-4ecd-ac0a-75416fd633b3",
   "metadata": {},
   "outputs": [],
   "source": [
    "import pandas as pd\n",
    "import pingouin as pg\n",
    "import numpy as np\n",
    "from math import ceil\n",
    "from scipy.stats import binom_test\n",
    "import seaborn as sns\n",
    "import matplotlib.pyplot as plt\n",
    "from matplotlib.gridspec import GridSpec\n",
    "from glob import glob\n",
    "import os\n",
    "from plotting.plot import pretty_behav_plot\n",
    "\n",
    "%load_ext autoreload\n",
    "%autoreload 2"
   ]
  },
  {
   "cell_type": "markdown",
   "id": "f464f152-07be-4f9b-a5d3-7447249afd10",
   "metadata": {},
   "source": [
    "## Behavioral data"
   ]
  },
  {
   "cell_type": "code",
   "execution_count": null,
   "id": "51ec98ff-d52b-4c5a-809c-4912591bfa12",
   "metadata": {},
   "outputs": [],
   "source": [
    "allsubjdirs = sorted(glob('../../bids/sub-*'))\n",
    "subjlist = [f'sub-{s:03d}' for s in range(1, 36)] #if s != 6]\n",
    "allsubjs_trials = pd.DataFrame()\n",
    "for i, s in enumerate(subjlist):\n",
    "    behfile = glob(os.path.join('../../bids', s, 'func', '*beh.tsv'))[0]\n",
    "    behav = pd.read_csv(behfile, sep='\\t')\n",
    "    behav.insert(0, 'Subject', i + 1)\n",
    "    allsubjs_trials = pd.concat([allsubjs_trials, behav])"
   ]
  },
  {
   "cell_type": "code",
   "execution_count": null,
   "id": "c5ff5f7a-1a8b-4e47-9485-6119c8f46fc0",
   "metadata": {},
   "outputs": [],
   "source": [
    "allsubjs_trials"
   ]
  },
  {
   "cell_type": "markdown",
   "id": "ca59f8f3-a3a6-4634-9746-8191a591da7f",
   "metadata": {},
   "source": [
    "## Plot staircases"
   ]
  },
  {
   "cell_type": "code",
   "execution_count": null,
   "id": "4c581566-9396-4ce4-bfe2-28e2428573ba",
   "metadata": {},
   "outputs": [],
   "source": [
    "n_missed = []\n",
    "remove_subjs = []\n",
    "fig = plt.figure(figsize=(15,10))\n",
    "nsubjs = len(allsubjs_trials.Subject.unique())\n",
    "for s in allsubjs_trials.Subject.unique():\n",
    "    thisstair = np.array(abs(allsubjs_trials.loc[allsubjs_trials['Subject'] == s]['Diff']))\n",
    "    realstair = abs(allsubjs_trials[allsubjs_trials['Subject']==s].Orients_1.values - \n",
    "                   allsubjs_trials[allsubjs_trials['Subject']==s].Orients_2.values)\n",
    "    theseresps = np.array(allsubjs_trials.loc[allsubjs_trials['Subject'] == s]['Hit'])\n",
    "    howmuchceil = sum(realstair==10)\n",
    "    missingtrials = np.count_nonzero(np.isnan(theseresps))\n",
    "    n_missed.append(missingtrials)\n",
    "    ax = fig.add_subplot(ceil(nsubjs/4), 4, s)\n",
    "    ax.set_ylim([0, 25])\n",
    "    k = np.nansum(theseresps)\n",
    "    n = len(thisstair)\n",
    "    if binom_test(k, n, p=0.5, alternative='greater')>0.05:\n",
    "    #if howmuchceil >= len(thisstair)/4 or missingtrials >= len(thisstair)/3:\n",
    "        #print(k/n)\n",
    "        ax.plot(thisstair, 'r')\n",
    "        remove_subjs.append(s)\n",
    "    else:\n",
    "        ax.plot(thisstair, 'k')\n",
    "    ax.plot(realstair, 'b')"
   ]
  },
  {
   "cell_type": "code",
   "execution_count": null,
   "id": "1723c1c4-3cab-4d6d-853a-dfd7da77f796",
   "metadata": {},
   "outputs": [],
   "source": [
    "# Which participants to remove\n",
    "remove_subjs"
   ]
  },
  {
   "cell_type": "code",
   "execution_count": null,
   "id": "a0d87b5c-cbbc-4a06-8549-c695f5947c79",
   "metadata": {},
   "outputs": [],
   "source": [
    "#allsubjs_trials = allsubjs_trials[~allsubjs_trials['Subject'].isin(remove_subjs)]"
   ]
  },
  {
   "cell_type": "markdown",
   "id": "947a1832-7bb5-4e43-9827-8953906dfe4d",
   "metadata": {},
   "source": [
    "## Expected vs Unexpected t-test"
   ]
  },
  {
   "cell_type": "code",
   "execution_count": null,
   "id": "511b9af2-e46a-4667-a63d-9bcf3a8718b2",
   "metadata": {},
   "outputs": [],
   "source": [
    "allsubj_means = allsubjs_trials.groupby(['Subject', 'Consistent']).mean().reset_index()"
   ]
  },
  {
   "cell_type": "code",
   "execution_count": null,
   "id": "46314505",
   "metadata": {},
   "outputs": [],
   "source": [
    "allsubj_means.groupby(['Consistent'])['Hit'].agg(['mean', 'sem'])"
   ]
  },
  {
   "cell_type": "code",
   "execution_count": null,
   "id": "86502274-d320-40d5-94ab-b7613803a350",
   "metadata": {},
   "outputs": [],
   "source": [
    "pg.ttest(allsubj_means[allsubj_means['Consistent']==1]['Hit'], \n",
    "         allsubj_means[allsubj_means['Consistent']==0]['Hit'], paired=True)"
   ]
  },
  {
   "cell_type": "markdown",
   "id": "2d0888af-a9dd-448c-b146-23137b885ed7",
   "metadata": {},
   "source": [
    "## Plot"
   ]
  },
  {
   "cell_type": "code",
   "execution_count": null,
   "id": "bd1396cb-5f27-40f1-9b28-4e4093a29961",
   "metadata": {},
   "outputs": [],
   "source": [
    "pretty_behav_plot(allsubj_means, saveimg=True)"
   ]
  },
  {
   "cell_type": "code",
   "execution_count": null,
   "id": "fbe0b993-e637-4217-9779-6e497f2ad1e6",
   "metadata": {},
   "outputs": [],
   "source": [
    "# Get all differences\n",
    "alldiffs = []\n",
    "for sub in allsubj_means.Subject.unique():\n",
    "    thisdiff = allsubj_means[(allsubj_means.Subject==sub)&(allsubj_means.Consistent==1)].Hit.values[0]-\\\n",
    "               allsubj_means[(allsubj_means.Subject==sub)&(allsubj_means.Consistent==0)].Hit.values[0]\n",
    "    alldiffs.append({'Subject': sub, 'Difference': thisdiff})\n",
    "alldiffs = pd.DataFrame(alldiffs)"
   ]
  },
  {
   "cell_type": "code",
   "execution_count": null,
   "id": "dd767ed2-7f09-4570-a373-6635e6b29c15",
   "metadata": {},
   "outputs": [],
   "source": [
    "fig = plt.figure(figsize=(10,8))\n",
    "gs = GridSpec(1, 2, figure=fig)\n",
    "with sns.axes_style('white'):\n",
    "    #ax0 = fig.add_subplot(121)\n",
    "    ax0 = fig.add_subplot(gs[0, :-1])\n",
    "    sns.barplot(x='Consistent', y='Hit', data=allsubj_means, ci=68, order=[1.0, 0.0], palette='Set2', ax=ax0)\n",
    "    ax0.set_ylabel('Hit rate', fontsize=24)\n",
    "    plt.yticks(fontsize=20) \n",
    "    ax0.set_xlabel(None)\n",
    "    ax0.set_xticklabels(['Expected', 'Unexpected'], fontsize=20)\n",
    "    ax0.set(ylim=(0.5, 0.75))\n",
    "    ax0.spines['top'].set_visible(False)\n",
    "    ax0.spines['right'].set_visible(False)\n",
    "with sns.axes_style('white'):\n",
    "    #ax1 = fig.add_subplot(122)\n",
    "    ax1 = fig.add_subplot(gs[0, -1])\n",
    "    sns.violinplot(y='Difference', data=alldiffs, color=\".8\", inner=None)\n",
    "    sns.stripplot(y='Difference', data=alldiffs, jitter=0.07, ax=ax1, color='black', alpha=.5)\n",
    "    # Get mean and 95% CI:\n",
    "    meandiff = alldiffs['Difference'].mean()\n",
    "    tstats = pg.ttest(alldiffs['Difference'], 0.0)\n",
    "    ci95 = tstats['CI95%'][0]\n",
    "    #plt.gca().set_aspect('equal')\n",
    "    #ax1.axis('equal')\n",
    "    for tick in ax1.get_xticks():\n",
    "        ax1.plot([tick-0.1, tick+0.1], [meandiff, meandiff],\n",
    "                    lw=4, color='k')\n",
    "        ax1.plot([tick, tick], [ci95[0], ci95[1]], lw=3, color='k')\n",
    "        ax1.plot([tick-0.01, tick+0.01], [ci95[0], ci95[0]], lw=3, color='k')\n",
    "        ax1.plot([tick-0.01, tick+0.01], [ci95[1], ci95[1]], lw=3, color='k')\n",
    "        #circlemarker = matplotlib.patches.Ellipse((tick+0.0032, meandiff), 0.06, 0.02, color='k')\n",
    "        #ax1.add_patch(circlemarker)\n",
    "    ax1.axhline(0.0, linestyle='--', color='black')\n",
    "    plt.yticks(fontsize=20) \n",
    "    ax1.set_ylabel('Δ Hit rate', fontsize=24)\n",
    "    ax1.set(ylim=(-0.2, 0.4))\n",
    "    ax1.axes_style = 'white'\n",
    "    ax1.spines['top'].set_visible(False)\n",
    "    ax1.spines['right'].set_visible(False)\n",
    "    ax1.spines['bottom'].set_visible(False)\n",
    "plt.tight_layout()\n",
    "#plt.savefig('Plots/Behav_acc.pdf')"
   ]
  },
  {
   "cell_type": "markdown",
   "id": "a7a0fd0e-d02a-4ff9-ad54-afb292d80fc6",
   "metadata": {},
   "source": [
    "## Demographic information"
   ]
  },
  {
   "cell_type": "code",
   "execution_count": null,
   "id": "262aaf40-7670-44b9-b060-fbd600e0fb03",
   "metadata": {},
   "outputs": [],
   "source": [
    "particfile = '../../bids/participants.tsv'\n",
    "particinfo = pd.read_csv(particfile, sep='\\t')"
   ]
  },
  {
   "cell_type": "code",
   "execution_count": null,
   "id": "0d5229b0-bbe4-4149-b7f7-0ee0d1da030e",
   "metadata": {},
   "outputs": [],
   "source": [
    "#particinfo = particinfo[particinfo.participant_id!='sub-006']"
   ]
  },
  {
   "cell_type": "code",
   "execution_count": null,
   "id": "26e48c30-34a1-4cf7-89c4-1a289aa5cca7",
   "metadata": {},
   "outputs": [],
   "source": [
    "particinfo.age.agg(['mean', 'std'])"
   ]
  },
  {
   "cell_type": "code",
   "execution_count": null,
   "id": "ae78cd5d-3e39-4df1-b783-4707e6e97c5a",
   "metadata": {},
   "outputs": [],
   "source": [
    "particinfo.sex.value_counts()"
   ]
  },
  {
   "cell_type": "code",
   "execution_count": null,
   "id": "ae91dd0f-4da0-4312-9380-0fe5bd9132f2",
   "metadata": {},
   "outputs": [],
   "source": []
  }
 ],
 "metadata": {
  "kernelspec": {
   "display_name": "giacomo37",
   "language": "python",
   "name": "python3"
  },
  "language_info": {
   "codemirror_mode": {
    "name": "ipython",
    "version": 3
   },
   "file_extension": ".py",
   "mimetype": "text/x-python",
   "name": "python",
   "nbconvert_exporter": "python",
   "pygments_lexer": "ipython3",
   "version": "3.8.5"
  }
 },
 "nbformat": 4,
 "nbformat_minor": 5
}
