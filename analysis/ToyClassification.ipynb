{
 "cells": [
  {
   "cell_type": "code",
   "execution_count": 1,
   "metadata": {},
   "outputs": [],
   "source": [
    "from sklearn.datasets import make_classification\n",
    "import matplotlib.pyplot as plt\n",
    "import numpy as np\n",
    "from sklearn import svm"
   ]
  },
  {
   "cell_type": "code",
   "execution_count": 2,
   "metadata": {},
   "outputs": [],
   "source": [
    "def trainandtest_svm(x, y, shuffle=True, seed=42):\n",
    "    \n",
    "    zscore = lambda x: (x - np.mean(x))/np.std(x)\n",
    "    \n",
    "    if shuffle:\n",
    "        rng = np.random.default_rng(seed=seed)\n",
    "        shuffled_indices = rng.permutation(len(x))\n",
    "        x = x[shuffled_indices]\n",
    "        y = y[shuffled_indices]\n",
    "    \n",
    "    train_x = x[:800]\n",
    "    train_y = y[:800]\n",
    "    test_x = x[800:]\n",
    "    test_y = y[800:]\n",
    "\n",
    "    train_z = zscore(train_x)\n",
    "    test_z = zscore(test_x)\n",
    "\n",
    "    clf = svm.SVC(kernel='linear')\n",
    "    clf.fit(train_z, train_y)\n",
    "\n",
    "    y_pred = clf.predict(test_z)\n",
    "\n",
    "    # Compute distance from bound\n",
    "    y = clf.decision_function(test_z)\n",
    "    w_norm = np.linalg.norm(clf.coef_)\n",
    "    dist = y / w_norm\n",
    "\n",
    "    zscoredist = zscore(dist)\n",
    "    zscoredist[test_y==0] *= -1\n",
    "    \n",
    "    return np.mean(zscoredist)"
   ]
  },
  {
   "cell_type": "code",
   "execution_count": 3,
   "metadata": {},
   "outputs": [],
   "source": [
    "x0, y0 = make_classification(n_samples=1000, n_features=200, n_classes=2,\n",
    "                               n_informative=200, n_redundant=0, class_sep=0.4,\n",
    "                               flip_y=0., shuffle=False, n_clusters_per_class=2, random_state=123)"
   ]
  },
  {
   "cell_type": "code",
   "execution_count": 4,
   "metadata": {},
   "outputs": [],
   "source": [
    "x1, y1 = make_classification(n_samples=1000, n_features=200, n_classes=2,\n",
    "                               n_informative=200, n_redundant=0, class_sep=0.9,\n",
    "                               flip_y=0., shuffle=False, n_clusters_per_class=2, random_state=123)"
   ]
  },
  {
   "cell_type": "code",
   "execution_count": 5,
   "metadata": {},
   "outputs": [],
   "source": [
    "xavg = (x0 + x1)/2"
   ]
  },
  {
   "cell_type": "code",
   "execution_count": 6,
   "metadata": {},
   "outputs": [],
   "source": [
    "dist0 = trainandtest_svm(x0, y0)"
   ]
  },
  {
   "cell_type": "code",
   "execution_count": 7,
   "metadata": {},
   "outputs": [
    {
     "data": {
      "text/plain": [
       "0.10845767184336859"
      ]
     },
     "execution_count": 7,
     "metadata": {},
     "output_type": "execute_result"
    }
   ],
   "source": [
    "dist0"
   ]
  },
  {
   "cell_type": "code",
   "execution_count": 8,
   "metadata": {},
   "outputs": [],
   "source": [
    "dist1 = trainandtest_svm(x1, y1)"
   ]
  },
  {
   "cell_type": "code",
   "execution_count": 9,
   "metadata": {},
   "outputs": [
    {
     "data": {
      "text/plain": [
       "0.42452758669887586"
      ]
     },
     "execution_count": 9,
     "metadata": {},
     "output_type": "execute_result"
    }
   ],
   "source": [
    "dist1"
   ]
  },
  {
   "cell_type": "code",
   "execution_count": 10,
   "metadata": {},
   "outputs": [],
   "source": [
    "distavg = trainandtest_svm(xavg, y0)"
   ]
  },
  {
   "cell_type": "code",
   "execution_count": 11,
   "metadata": {},
   "outputs": [
    {
     "data": {
      "text/plain": [
       "0.25410803446427865"
      ]
     },
     "execution_count": 11,
     "metadata": {},
     "output_type": "execute_result"
    }
   ],
   "source": [
    "distavg"
   ]
  },
  {
   "cell_type": "code",
   "execution_count": null,
   "metadata": {},
   "outputs": [],
   "source": []
  }
 ],
 "metadata": {
  "kernelspec": {
   "display_name": "giacomo37",
   "language": "python",
   "name": "python3"
  },
  "language_info": {
   "codemirror_mode": {
    "name": "ipython",
    "version": 3
   },
   "file_extension": ".py",
   "mimetype": "text/x-python",
   "name": "python",
   "nbconvert_exporter": "python",
   "pygments_lexer": "ipython3",
   "version": "3.8.5"
  }
 },
 "nbformat": 4,
 "nbformat_minor": 2
}
