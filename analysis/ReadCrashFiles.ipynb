{
 "cells": [
  {
   "cell_type": "code",
   "execution_count": 4,
   "metadata": {},
   "outputs": [],
   "source": [
    "from nipype.utils.filemanip import loadpkl"
   ]
  },
  {
   "cell_type": "code",
   "execution_count": null,
   "metadata": {},
   "outputs": [],
   "source": []
  },
  {
   "cell_type": "code",
   "execution_count": 16,
   "metadata": {},
   "outputs": [],
   "source": [
    "res = loadpkl('crash-20241001-110620-giaald-spec_model.b0.c27.bI.b0-90373ae8-110f-4376-9e92-d195419e8e39.pklz')"
   ]
  },
  {
   "cell_type": "code",
   "execution_count": 17,
   "metadata": {},
   "outputs": [
    {
     "data": {
      "text/plain": [
       "{'node': model_wf.spec_model.b0.c27.bI.b0,\n",
       " 'traceback': ['Traceback (most recent call last):\\n',\n",
       "  '  File \"/home/predatt/giaald/nipype/nipype/pipeline/plugins/linear.py\", line 46, in run\\n    node.run(updatehash=updatehash)\\n',\n",
       "  '  File \"/home/predatt/giaald/nipype/nipype/pipeline/engine/nodes.py\", line 516, in run\\n    result = self._run_interface(execute=True)\\n',\n",
       "  '  File \"/home/predatt/giaald/nipype/nipype/pipeline/engine/nodes.py\", line 635, in _run_interface\\n    return self._run_command(execute)\\n',\n",
       "  '  File \"/home/predatt/giaald/nipype/nipype/pipeline/engine/nodes.py\", line 741, in _run_command\\n    result = self._interface.run(cwd=outdir)\\n',\n",
       "  '  File \"/home/predatt/giaald/nipype/nipype/interfaces/base/core.py\", line 419, in run\\n    runtime = self._run_interface(runtime)\\n',\n",
       "  '  File \"/home/predatt/giaald/nipype/nipype/interfaces/utility/wrappers.py\", line 142, in _run_interface\\n    out = function_handle(**args)\\n',\n",
       "  '  File \"<string>\", line 22, in modelspecify\\n',\n",
       "  '  File \"/home/predatt/giaald/.conda/envs/giacomo37/lib/python3.8/site-packages/pandas/util/_decorators.py\", line 311, in wrapper\\n    return func(*args, **kwargs)\\n',\n",
       "  '  File \"/home/predatt/giaald/.conda/envs/giacomo37/lib/python3.8/site-packages/pandas/io/parsers/readers.py\", line 586, in read_csv\\n    return _read(filepath_or_buffer, kwds)\\n',\n",
       "  '  File \"/home/predatt/giaald/.conda/envs/giacomo37/lib/python3.8/site-packages/pandas/io/parsers/readers.py\", line 488, in _read\\n    return parser.read(nrows)\\n',\n",
       "  '  File \"/home/predatt/giaald/.conda/envs/giacomo37/lib/python3.8/site-packages/pandas/io/parsers/readers.py\", line 1047, in read\\n    index, columns, col_dict = self._engine.read(nrows)\\n',\n",
       "  '  File \"/home/predatt/giaald/.conda/envs/giacomo37/lib/python3.8/site-packages/pandas/io/parsers/c_parser_wrapper.py\", line 223, in read\\n    chunks = self._reader.read_low_memory(nrows)\\n',\n",
       "  '  File \"pandas/_libs/parsers.pyx\", line 801, in pandas._libs.parsers.TextReader.read_low_memory\\n',\n",
       "  '  File \"pandas/_libs/parsers.pyx\", line 880, in pandas._libs.parsers.TextReader._read_rows\\n',\n",
       "  '  File \"pandas/_libs/parsers.pyx\", line 1026, in pandas._libs.parsers.TextReader._convert_column_data\\n',\n",
       "  '  File \"pandas/_libs/parsers.pyx\", line 1073, in pandas._libs.parsers.TextReader._convert_tokens\\n',\n",
       "  '  File \"pandas/_libs/parsers.pyx\", line 1152, in pandas._libs.parsers.TextReader._convert_with_dtype\\n',\n",
       "  '  File \"/home/predatt/giaald/.conda/envs/giacomo37/lib/python3.8/site-packages/pandas/core/dtypes/common.py\", line 673, in is_integer_dtype\\n    def is_integer_dtype(arr_or_dtype) -> bool:\\n',\n",
       "  'KeyboardInterrupt\\n',\n",
       "  '\\n',\n",
       "  '\\n',\n",
       "  'When creating this crashfile, the results file corresponding\\n',\n",
       "  'to the node could not be found.']}"
      ]
     },
     "execution_count": 17,
     "metadata": {},
     "output_type": "execute_result"
    }
   ],
   "source": [
    "res"
   ]
  },
  {
   "cell_type": "code",
   "execution_count": null,
   "metadata": {},
   "outputs": [],
   "source": []
  }
 ],
 "metadata": {
  "kernelspec": {
   "display_name": "giacomo37",
   "language": "python",
   "name": "python3"
  },
  "language_info": {
   "codemirror_mode": {
    "name": "ipython",
    "version": 3
   },
   "file_extension": ".py",
   "mimetype": "text/x-python",
   "name": "python",
   "nbconvert_exporter": "python",
   "pygments_lexer": "ipython3",
   "version": "3.8.5"
  }
 },
 "nbformat": 4,
 "nbformat_minor": 2
}
