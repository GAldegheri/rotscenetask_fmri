{
 "cells": [
  {
   "cell_type": "code",
   "execution_count": 22,
   "id": "d32dc181-47f3-4098-a176-0294df3379f0",
   "metadata": {},
   "outputs": [],
   "source": [
    "import pandas as pd\n",
    "import pingouin as pg\n",
    "import seaborn as sns\n",
    "import matplotlib.pyplot as plt\n",
    "import numpy as np\n",
    "from glob import glob"
   ]
  },
  {
   "cell_type": "code",
   "execution_count": 23,
   "id": "098186ed-6321-4ba8-9d7b-eea2ee259bb8",
   "metadata": {},
   "outputs": [],
   "source": [
    "allfiles = glob('../../Univar_results/test_m5/*.csv')\n",
    "allfiles = [f for f in allfiles if 'sub-006' not in f]"
   ]
  },
  {
   "cell_type": "code",
   "execution_count": 24,
   "id": "7ccde250-3104-4bac-948d-4cdc65199ae5",
   "metadata": {},
   "outputs": [
    {
     "data": {
      "text/plain": [
       "34"
      ]
     },
     "execution_count": 24,
     "metadata": {},
     "output_type": "execute_result"
    }
   ],
   "source": [
    "len(allfiles)"
   ]
  },
  {
   "cell_type": "code",
   "execution_count": 25,
   "id": "b3fde827-4869-420c-9586-f6f7517ae3de",
   "metadata": {},
   "outputs": [],
   "source": [
    "univar_df = []\n",
    "for f in allfiles:\n",
    "    univar_df.append(pd.read_csv(f))\n",
    "univar_df = pd.concat(univar_df)"
   ]
  },
  {
   "cell_type": "code",
   "execution_count": 26,
   "id": "6a0caab0-b1eb-4703-ab6c-255bbd7e0b69",
   "metadata": {},
   "outputs": [],
   "source": [
    "univar_df = univar_df.groupby(['condition', 'subject']).mean().reset_index()"
   ]
  },
  {
   "cell_type": "code",
   "execution_count": 27,
   "id": "34debcd9-c4d0-42b4-9740-23fc542c7f70",
   "metadata": {},
   "outputs": [
    {
     "data": {
      "text/plain": [
       "condition\n",
       "expected     -1.924122\n",
       "unexpected   -1.847878\n",
       "Name: mean_beta, dtype: float64"
      ]
     },
     "execution_count": 27,
     "metadata": {},
     "output_type": "execute_result"
    }
   ],
   "source": [
    "univar_df.groupby(['condition'])['mean_beta'].mean()"
   ]
  },
  {
   "cell_type": "code",
   "execution_count": 28,
   "id": "61116e99-3178-4ef1-adf7-0a717dfef596",
   "metadata": {},
   "outputs": [
    {
     "data": {
      "text/html": [
       "<div>\n",
       "<style scoped>\n",
       "    .dataframe tbody tr th:only-of-type {\n",
       "        vertical-align: middle;\n",
       "    }\n",
       "\n",
       "    .dataframe tbody tr th {\n",
       "        vertical-align: top;\n",
       "    }\n",
       "\n",
       "    .dataframe thead th {\n",
       "        text-align: right;\n",
       "    }\n",
       "</style>\n",
       "<table border=\"1\" class=\"dataframe\">\n",
       "  <thead>\n",
       "    <tr style=\"text-align: right;\">\n",
       "      <th></th>\n",
       "      <th>T</th>\n",
       "      <th>dof</th>\n",
       "      <th>alternative</th>\n",
       "      <th>p-val</th>\n",
       "      <th>CI95%</th>\n",
       "      <th>cohen-d</th>\n",
       "      <th>BF10</th>\n",
       "      <th>power</th>\n",
       "    </tr>\n",
       "  </thead>\n",
       "  <tbody>\n",
       "    <tr>\n",
       "      <th>T-test</th>\n",
       "      <td>-1.034888</td>\n",
       "      <td>33</td>\n",
       "      <td>two-sided</td>\n",
       "      <td>0.308246</td>\n",
       "      <td>[-0.23, 0.07]</td>\n",
       "      <td>0.043261</td>\n",
       "      <td>0.301</td>\n",
       "      <td>0.056904</td>\n",
       "    </tr>\n",
       "  </tbody>\n",
       "</table>\n",
       "</div>"
      ],
      "text/plain": [
       "               T  dof alternative     p-val          CI95%   cohen-d   BF10  \\\n",
       "T-test -1.034888   33   two-sided  0.308246  [-0.23, 0.07]  0.043261  0.301   \n",
       "\n",
       "           power  \n",
       "T-test  0.056904  "
      ]
     },
     "execution_count": 28,
     "metadata": {},
     "output_type": "execute_result"
    }
   ],
   "source": [
    "pg.ttest(univar_df[univar_df['condition']=='expected'].mean_beta,\n",
    "         univar_df[univar_df['condition']=='unexpected'].mean_beta,\n",
    "         paired=True)"
   ]
  },
  {
   "cell_type": "code",
   "execution_count": null,
   "id": "0f02b5f1-6eb5-4568-9b43-e14c30d60c5f",
   "metadata": {},
   "outputs": [],
   "source": []
  }
 ],
 "metadata": {
  "kernelspec": {
   "display_name": "giacomo37",
   "language": "python",
   "name": "giacomo37"
  },
  "language_info": {
   "codemirror_mode": {
    "name": "ipython",
    "version": 3
   },
   "file_extension": ".py",
   "mimetype": "text/x-python",
   "name": "python",
   "nbconvert_exporter": "python",
   "pygments_lexer": "ipython3",
   "version": "3.8.5"
  }
 },
 "nbformat": 4,
 "nbformat_minor": 5
}
