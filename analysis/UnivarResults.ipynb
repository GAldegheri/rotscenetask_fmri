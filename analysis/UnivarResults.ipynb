{
 "cells": [
  {
   "cell_type": "code",
   "execution_count": 52,
   "id": "0012d0c7",
   "metadata": {},
   "outputs": [
    {
     "name": "stderr",
     "output_type": "stream",
     "text": [
      "/home/predatt/giaald/.conda/envs/giacomo37/lib/python3.8/site-packages/outdated/utils.py:14: OutdatedPackageWarning: The package outdated is out of date. Your version is 0.2.1, the latest is 0.2.2.\n",
      "Set the environment variable OUTDATED_IGNORE=1 to disable these warnings.\n",
      "  return warn(\n",
      "/home/predatt/giaald/.conda/envs/giacomo37/lib/python3.8/site-packages/outdated/utils.py:14: OutdatedPackageWarning: The package pingouin is out of date. Your version is 0.5.0, the latest is 0.5.4.\n",
      "Set the environment variable OUTDATED_IGNORE=1 to disable these warnings.\n",
      "  return warn(\n"
     ]
    }
   ],
   "source": [
    "from readresults.readres_univar import get_contrast_files\n",
    "from nilearn.glm.second_level import SecondLevelModel\n",
    "from nilearn.glm import threshold_stats_img\n",
    "import pandas as pd\n",
    "from nilearn import plotting, surface, datasets\n",
    "from nilearn.reporting import get_clusters_table\n",
    "from nilearn.image import new_img_like\n",
    "import nibabel as nb\n",
    "import numpy as np\n",
    "from glob import glob\n",
    "import pingouin as pg"
   ]
  },
  {
   "cell_type": "markdown",
   "id": "5c04a4de-05a5-41d2-b74b-3720b234639e",
   "metadata": {},
   "source": [
    "## Second-level analysis"
   ]
  },
  {
   "cell_type": "code",
   "execution_count": 17,
   "id": "5242229e",
   "metadata": {},
   "outputs": [],
   "source": [
    "subjlist = [f'sub-{i:03d}' for i in range(1, 36) if i != 6]\n",
    "design_matrix = pd.DataFrame([1] * len(subjlist), columns=['intercept'])\n",
    "contrfiles = get_contrast_files(subjlist, 'test', 5, 1)"
   ]
  },
  {
   "cell_type": "code",
   "execution_count": 19,
   "id": "7d989b8f",
   "metadata": {},
   "outputs": [],
   "source": [
    "second_level_model = SecondLevelModel().fit(\n",
    "    contrfiles, design_matrix=design_matrix\n",
    ")"
   ]
  },
  {
   "cell_type": "code",
   "execution_count": 26,
   "id": "5abe6726",
   "metadata": {},
   "outputs": [],
   "source": [
    "z_map = second_level_model.compute_contrast(second_level_stat_type='t', output_type=\"z_score\")"
   ]
  },
  {
   "cell_type": "code",
   "execution_count": 32,
   "id": "0a9e0520",
   "metadata": {},
   "outputs": [],
   "source": [
    "thresholded_map, threshold = threshold_stats_img(\n",
    "    z_map,\n",
    "    alpha=0.001,\n",
    "    height_control=\"fpr\",\n",
    "    cluster_threshold=10,\n",
    "    two_sided=True,\n",
    ")\n",
    "thresholded_map = new_img_like(thresholded_map, np.nan_to_num(thresholded_map.get_fdata()))"
   ]
  },
  {
   "cell_type": "code",
   "execution_count": 33,
   "id": "123987f2",
   "metadata": {},
   "outputs": [
    {
     "data": {
      "text/html": [
       "<div>\n",
       "<style scoped>\n",
       "    .dataframe tbody tr th:only-of-type {\n",
       "        vertical-align: middle;\n",
       "    }\n",
       "\n",
       "    .dataframe tbody tr th {\n",
       "        vertical-align: top;\n",
       "    }\n",
       "\n",
       "    .dataframe thead th {\n",
       "        text-align: right;\n",
       "    }\n",
       "</style>\n",
       "<table border=\"1\" class=\"dataframe\">\n",
       "  <thead>\n",
       "    <tr style=\"text-align: right;\">\n",
       "      <th></th>\n",
       "      <th>Cluster ID</th>\n",
       "      <th>X</th>\n",
       "      <th>Y</th>\n",
       "      <th>Z</th>\n",
       "      <th>Peak Stat</th>\n",
       "      <th>Cluster Size (mm3)</th>\n",
       "    </tr>\n",
       "  </thead>\n",
       "  <tbody>\n",
       "    <tr>\n",
       "      <th>0</th>\n",
       "      <td>1</td>\n",
       "      <td>-6.0</td>\n",
       "      <td>-68.0</td>\n",
       "      <td>56.0</td>\n",
       "      <td>4.947572</td>\n",
       "      <td>616</td>\n",
       "    </tr>\n",
       "    <tr>\n",
       "      <th>1</th>\n",
       "      <td>1a</td>\n",
       "      <td>-10.0</td>\n",
       "      <td>-62.0</td>\n",
       "      <td>52.0</td>\n",
       "      <td>4.318722</td>\n",
       "      <td></td>\n",
       "    </tr>\n",
       "    <tr>\n",
       "      <th>2</th>\n",
       "      <td>1b</td>\n",
       "      <td>-6.0</td>\n",
       "      <td>-68.0</td>\n",
       "      <td>62.0</td>\n",
       "      <td>3.822460</td>\n",
       "      <td></td>\n",
       "    </tr>\n",
       "    <tr>\n",
       "      <th>3</th>\n",
       "      <td>1c</td>\n",
       "      <td>-14.0</td>\n",
       "      <td>-64.0</td>\n",
       "      <td>54.0</td>\n",
       "      <td>3.506159</td>\n",
       "      <td></td>\n",
       "    </tr>\n",
       "    <tr>\n",
       "      <th>4</th>\n",
       "      <td>2</td>\n",
       "      <td>36.0</td>\n",
       "      <td>-72.0</td>\n",
       "      <td>42.0</td>\n",
       "      <td>4.721338</td>\n",
       "      <td>1104</td>\n",
       "    </tr>\n",
       "    <tr>\n",
       "      <th>5</th>\n",
       "      <td>2a</td>\n",
       "      <td>34.0</td>\n",
       "      <td>-58.0</td>\n",
       "      <td>42.0</td>\n",
       "      <td>4.064059</td>\n",
       "      <td></td>\n",
       "    </tr>\n",
       "    <tr>\n",
       "      <th>6</th>\n",
       "      <td>2b</td>\n",
       "      <td>34.0</td>\n",
       "      <td>-56.0</td>\n",
       "      <td>50.0</td>\n",
       "      <td>4.047959</td>\n",
       "      <td></td>\n",
       "    </tr>\n",
       "    <tr>\n",
       "      <th>7</th>\n",
       "      <td>2c</td>\n",
       "      <td>40.0</td>\n",
       "      <td>-64.0</td>\n",
       "      <td>40.0</td>\n",
       "      <td>3.961346</td>\n",
       "      <td></td>\n",
       "    </tr>\n",
       "    <tr>\n",
       "      <th>8</th>\n",
       "      <td>3</td>\n",
       "      <td>-24.0</td>\n",
       "      <td>-66.0</td>\n",
       "      <td>44.0</td>\n",
       "      <td>4.690061</td>\n",
       "      <td>616</td>\n",
       "    </tr>\n",
       "    <tr>\n",
       "      <th>9</th>\n",
       "      <td>4</td>\n",
       "      <td>8.0</td>\n",
       "      <td>-70.0</td>\n",
       "      <td>54.0</td>\n",
       "      <td>4.606001</td>\n",
       "      <td>656</td>\n",
       "    </tr>\n",
       "    <tr>\n",
       "      <th>10</th>\n",
       "      <td>4a</td>\n",
       "      <td>22.0</td>\n",
       "      <td>-66.0</td>\n",
       "      <td>54.0</td>\n",
       "      <td>4.112967</td>\n",
       "      <td></td>\n",
       "    </tr>\n",
       "    <tr>\n",
       "      <th>11</th>\n",
       "      <td>5</td>\n",
       "      <td>26.0</td>\n",
       "      <td>-4.0</td>\n",
       "      <td>50.0</td>\n",
       "      <td>4.063841</td>\n",
       "      <td>456</td>\n",
       "    </tr>\n",
       "    <tr>\n",
       "      <th>12</th>\n",
       "      <td>5a</td>\n",
       "      <td>26.0</td>\n",
       "      <td>6.0</td>\n",
       "      <td>60.0</td>\n",
       "      <td>3.830124</td>\n",
       "      <td></td>\n",
       "    </tr>\n",
       "    <tr>\n",
       "      <th>13</th>\n",
       "      <td>5b</td>\n",
       "      <td>20.0</td>\n",
       "      <td>10.0</td>\n",
       "      <td>54.0</td>\n",
       "      <td>3.766029</td>\n",
       "      <td></td>\n",
       "    </tr>\n",
       "    <tr>\n",
       "      <th>14</th>\n",
       "      <td>5c</td>\n",
       "      <td>26.0</td>\n",
       "      <td>4.0</td>\n",
       "      <td>52.0</td>\n",
       "      <td>3.568544</td>\n",
       "      <td></td>\n",
       "    </tr>\n",
       "    <tr>\n",
       "      <th>15</th>\n",
       "      <td>6</td>\n",
       "      <td>-34.0</td>\n",
       "      <td>-54.0</td>\n",
       "      <td>46.0</td>\n",
       "      <td>4.052968</td>\n",
       "      <td>144</td>\n",
       "    </tr>\n",
       "    <tr>\n",
       "      <th>16</th>\n",
       "      <td>7</td>\n",
       "      <td>-26.0</td>\n",
       "      <td>-60.0</td>\n",
       "      <td>54.0</td>\n",
       "      <td>4.031042</td>\n",
       "      <td>168</td>\n",
       "    </tr>\n",
       "    <tr>\n",
       "      <th>17</th>\n",
       "      <td>8</td>\n",
       "      <td>-26.0</td>\n",
       "      <td>8.0</td>\n",
       "      <td>58.0</td>\n",
       "      <td>3.988768</td>\n",
       "      <td>136</td>\n",
       "    </tr>\n",
       "    <tr>\n",
       "      <th>18</th>\n",
       "      <td>9</td>\n",
       "      <td>-32.0</td>\n",
       "      <td>-78.0</td>\n",
       "      <td>30.0</td>\n",
       "      <td>3.986738</td>\n",
       "      <td>120</td>\n",
       "    </tr>\n",
       "    <tr>\n",
       "      <th>19</th>\n",
       "      <td>10</td>\n",
       "      <td>-56.0</td>\n",
       "      <td>-54.0</td>\n",
       "      <td>0.0</td>\n",
       "      <td>3.864475</td>\n",
       "      <td>120</td>\n",
       "    </tr>\n",
       "    <tr>\n",
       "      <th>20</th>\n",
       "      <td>11</td>\n",
       "      <td>-42.0</td>\n",
       "      <td>-36.0</td>\n",
       "      <td>52.0</td>\n",
       "      <td>3.845797</td>\n",
       "      <td>136</td>\n",
       "    </tr>\n",
       "    <tr>\n",
       "      <th>21</th>\n",
       "      <td>12</td>\n",
       "      <td>20.0</td>\n",
       "      <td>-56.0</td>\n",
       "      <td>24.0</td>\n",
       "      <td>3.833104</td>\n",
       "      <td>88</td>\n",
       "    </tr>\n",
       "    <tr>\n",
       "      <th>22</th>\n",
       "      <td>13</td>\n",
       "      <td>-38.0</td>\n",
       "      <td>-44.0</td>\n",
       "      <td>50.0</td>\n",
       "      <td>3.758369</td>\n",
       "      <td>152</td>\n",
       "    </tr>\n",
       "    <tr>\n",
       "      <th>23</th>\n",
       "      <td>1</td>\n",
       "      <td>26.0</td>\n",
       "      <td>-2.0</td>\n",
       "      <td>18.0</td>\n",
       "      <td>-4.211453</td>\n",
       "      <td>88</td>\n",
       "    </tr>\n",
       "  </tbody>\n",
       "</table>\n",
       "</div>"
      ],
      "text/plain": [
       "   Cluster ID     X     Y     Z  Peak Stat Cluster Size (mm3)\n",
       "0           1  -6.0 -68.0  56.0   4.947572                616\n",
       "1          1a -10.0 -62.0  52.0   4.318722                   \n",
       "2          1b  -6.0 -68.0  62.0   3.822460                   \n",
       "3          1c -14.0 -64.0  54.0   3.506159                   \n",
       "4           2  36.0 -72.0  42.0   4.721338               1104\n",
       "5          2a  34.0 -58.0  42.0   4.064059                   \n",
       "6          2b  34.0 -56.0  50.0   4.047959                   \n",
       "7          2c  40.0 -64.0  40.0   3.961346                   \n",
       "8           3 -24.0 -66.0  44.0   4.690061                616\n",
       "9           4   8.0 -70.0  54.0   4.606001                656\n",
       "10         4a  22.0 -66.0  54.0   4.112967                   \n",
       "11          5  26.0  -4.0  50.0   4.063841                456\n",
       "12         5a  26.0   6.0  60.0   3.830124                   \n",
       "13         5b  20.0  10.0  54.0   3.766029                   \n",
       "14         5c  26.0   4.0  52.0   3.568544                   \n",
       "15          6 -34.0 -54.0  46.0   4.052968                144\n",
       "16          7 -26.0 -60.0  54.0   4.031042                168\n",
       "17          8 -26.0   8.0  58.0   3.988768                136\n",
       "18          9 -32.0 -78.0  30.0   3.986738                120\n",
       "19         10 -56.0 -54.0   0.0   3.864475                120\n",
       "20         11 -42.0 -36.0  52.0   3.845797                136\n",
       "21         12  20.0 -56.0  24.0   3.833104                 88\n",
       "22         13 -38.0 -44.0  50.0   3.758369                152\n",
       "23          1  26.0  -2.0  18.0  -4.211453                 88"
      ]
     },
     "execution_count": 33,
     "metadata": {},
     "output_type": "execute_result"
    }
   ],
   "source": [
    "get_clusters_table(z_map, threshold, cluster_threshold=10,\n",
    "                   two_sided=True)"
   ]
  },
  {
   "cell_type": "code",
   "execution_count": 34,
   "id": "f2f1b225",
   "metadata": {},
   "outputs": [
    {
     "data": {
      "image/png": "[encoded data removed]",
      "text/plain": [
       "<Figure size 475.2x252 with 4 Axes>"
      ]
     },
     "metadata": {},
     "output_type": "display_data"
    }
   ],
   "source": [
    "disp = plotting.plot_glass_brain(z_map, threshold=threshold, draw_cross=False)"
   ]
  },
  {
   "cell_type": "code",
   "execution_count": 35,
   "id": "1ed46477",
   "metadata": {},
   "outputs": [],
   "source": [
    "nb.save(thresholded_map, 'results_plots/univar_maps/incongr_vs_congr.nii')"
   ]
  },
  {
   "cell_type": "markdown",
   "id": "dc3ee811",
   "metadata": {},
   "source": [
    "### Surface plot"
   ]
  },
  {
   "cell_type": "code",
   "execution_count": 27,
   "id": "a86301b2",
   "metadata": {},
   "outputs": [
    {
     "name": "stderr",
     "output_type": "stream",
     "text": [
      "/home/predatt/giaald/.conda/envs/giacomo37/lib/python3.8/site-packages/nilearn/surface/surface.py:464: RuntimeWarning: Mean of empty slice\n",
      "  texture = np.nanmean(all_samples, axis=2)\n"
     ]
    }
   ],
   "source": [
    "fsaverage = datasets.fetch_surf_fsaverage()\n",
    "texture = surface.vol_to_surf(thresholded_map, fsaverage.infl_right)\n",
    "curv_right = surface.load_surf_data(fsaverage.curv_right)\n",
    "curv_right_sign = np.sign(curv_right)"
   ]
  },
  {
   "cell_type": "code",
   "execution_count": 35,
   "id": "8675a927",
   "metadata": {},
   "outputs": [],
   "source": [
    "from nilearn import datasets\n",
    "\n",
    "stat_img = nb.load(datasets.load_sample_motor_activation_image())"
   ]
  },
  {
   "cell_type": "code",
   "execution_count": 39,
   "id": "e70edc71",
   "metadata": {},
   "outputs": [
    {
     "data": {
      "text/plain": [
       "<nilearn.plotting.displays._slicers.OrthoSlicer at 0x7f9edb1dd8e0>"
      ]
     },
     "execution_count": 39,
     "metadata": {},
     "output_type": "execute_result"
    },
    {
     "data": {
      "image/png": "[encoded data removed]",
      "text/plain": [
       "<Figure size 525.6x252 with 5 Axes>"
      ]
     },
     "metadata": {},
     "output_type": "display_data"
    }
   ],
   "source": [
    "plotting.plot_stat_map(stat_img)"
   ]
  },
  {
   "cell_type": "code",
   "execution_count": 28,
   "id": "009a558a",
   "metadata": {},
   "outputs": [
    {
     "data": {
      "image/png": "[encoded data removed]",
      "text/plain": [
       "<Figure size 338.4x288 with 2 Axes>"
      ]
     },
     "metadata": {
      "needs_background": "light"
     },
     "output_type": "display_data"
    }
   ],
   "source": [
    "fig = plotting.plot_surf_stat_map(\n",
    "    fsaverage.infl_right, texture, hemi='right',\n",
    "    title='Surface right hemisphere', colorbar=True,\n",
    "    threshold=1., bg_map=curv_right_sign,\n",
    ")\n",
    "fig.show()"
   ]
  },
  {
   "cell_type": "markdown",
   "id": "bd1e68e3-30db-43bb-857f-4f3244989a21",
   "metadata": {},
   "source": [
    "## ROI analysis"
   ]
  },
  {
   "cell_type": "code",
   "execution_count": 41,
   "id": "098186ed-6321-4ba8-9d7b-eea2ee259bb8",
   "metadata": {},
   "outputs": [],
   "source": [
    "allfiles = glob('../../Univar_results/test_m5/*.csv')\n",
    "allfiles = [f for f in allfiles if 'sub-006' not in f]"
   ]
  },
  {
   "cell_type": "code",
   "execution_count": 42,
   "id": "18e4a287",
   "metadata": {},
   "outputs": [
    {
     "data": {
      "text/plain": [
       "['../../Univar_results/test_m5/sub-023_ba-19-37.csv',\n",
       " '../../Univar_results/test_m5/sub-012_ba-19-37.csv',\n",
       " '../../Univar_results/test_m5/sub-014_ba-19-37.csv',\n",
       " '../../Univar_results/test_m5/sub-017_ba-19-37.csv',\n",
       " '../../Univar_results/test_m5/sub-028_ba-19-37.csv',\n",
       " '../../Univar_results/test_m5/sub-015_ba-19-37.csv',\n",
       " '../../Univar_results/test_m5/sub-031_ba-19-37.csv',\n",
       " '../../Univar_results/test_m5/sub-004_ba-19-37.csv',\n",
       " '../../Univar_results/test_m5/sub-020_ba-19-37.csv',\n",
       " '../../Univar_results/test_m5/sub-011_ba-19-37.csv',\n",
       " '../../Univar_results/test_m5/sub-034_ba-19-37.csv',\n",
       " '../../Univar_results/test_m5/sub-033_ba-19-37.csv',\n",
       " '../../Univar_results/test_m5/sub-010_ba-19-37.csv',\n",
       " '../../Univar_results/test_m5/sub-013_ba-19-37.csv',\n",
       " '../../Univar_results/test_m5/sub-002_ba-19-37.csv',\n",
       " '../../Univar_results/test_m5/sub-009_ba-19-37.csv',\n",
       " '../../Univar_results/test_m5/sub-003_ba-19-37.csv',\n",
       " '../../Univar_results/test_m5/sub-007_ba-19-37.csv',\n",
       " '../../Univar_results/test_m5/sub-025_ba-19-37.csv',\n",
       " '../../Univar_results/test_m5/sub-008_ba-19-37.csv',\n",
       " '../../Univar_results/test_m5/sub-018_ba-19-37.csv',\n",
       " '../../Univar_results/test_m5/sub-022_ba-19-37.csv',\n",
       " '../../Univar_results/test_m5/sub-005_ba-19-37.csv',\n",
       " '../../Univar_results/test_m5/sub-035_ba-19-37.csv',\n",
       " '../../Univar_results/test_m5/sub-024_ba-19-37.csv',\n",
       " '../../Univar_results/test_m5/sub-027_ba-19-37.csv',\n",
       " '../../Univar_results/test_m5/sub-016_ba-19-37.csv',\n",
       " '../../Univar_results/test_m5/sub-021_ba-19-37.csv',\n",
       " '../../Univar_results/test_m5/sub-032_ba-19-37.csv',\n",
       " '../../Univar_results/test_m5/sub-019_ba-19-37.csv',\n",
       " '../../Univar_results/test_m5/sub-026_ba-19-37.csv',\n",
       " '../../Univar_results/test_m5/sub-030_ba-19-37.csv',\n",
       " '../../Univar_results/test_m5/sub-001_ba-19-37.csv',\n",
       " '../../Univar_results/test_m5/sub-029_ba-19-37.csv',\n",
       " '../../Univar_results/test_m5/sub-001_ba-17-18.csv',\n",
       " '../../Univar_results/test_m5/sub-002_ba-17-18.csv',\n",
       " '../../Univar_results/test_m5/sub-004_ba-17-18.csv',\n",
       " '../../Univar_results/test_m5/sub-005_ba-17-18.csv',\n",
       " '../../Univar_results/test_m5/sub-003_ba-17-18.csv',\n",
       " '../../Univar_results/test_m5/sub-034_ba-17-18.csv',\n",
       " '../../Univar_results/test_m5/sub-032_ba-17-18.csv',\n",
       " '../../Univar_results/test_m5/sub-035_ba-17-18.csv',\n",
       " '../../Univar_results/test_m5/sub-030_ba-17-18.csv',\n",
       " '../../Univar_results/test_m5/sub-020_ba-17-18.csv',\n",
       " '../../Univar_results/test_m5/sub-033_ba-17-18.csv',\n",
       " '../../Univar_results/test_m5/sub-029_ba-17-18.csv',\n",
       " '../../Univar_results/test_m5/sub-025_ba-17-18.csv',\n",
       " '../../Univar_results/test_m5/sub-031_ba-17-18.csv',\n",
       " '../../Univar_results/test_m5/sub-028_ba-17-18.csv',\n",
       " '../../Univar_results/test_m5/sub-016_ba-17-18.csv',\n",
       " '../../Univar_results/test_m5/sub-010_ba-17-18.csv',\n",
       " '../../Univar_results/test_m5/sub-011_ba-17-18.csv',\n",
       " '../../Univar_results/test_m5/sub-014_ba-17-18.csv',\n",
       " '../../Univar_results/test_m5/sub-026_ba-17-18.csv',\n",
       " '../../Univar_results/test_m5/sub-024_ba-17-18.csv',\n",
       " '../../Univar_results/test_m5/sub-018_ba-17-18.csv',\n",
       " '../../Univar_results/test_m5/sub-017_ba-17-18.csv',\n",
       " '../../Univar_results/test_m5/sub-023_ba-17-18.csv',\n",
       " '../../Univar_results/test_m5/sub-012_ba-17-18.csv',\n",
       " '../../Univar_results/test_m5/sub-015_ba-17-18.csv',\n",
       " '../../Univar_results/test_m5/sub-013_ba-17-18.csv',\n",
       " '../../Univar_results/test_m5/sub-008_ba-17-18.csv',\n",
       " '../../Univar_results/test_m5/sub-009_ba-17-18.csv',\n",
       " '../../Univar_results/test_m5/sub-019_ba-17-18.csv',\n",
       " '../../Univar_results/test_m5/sub-021_ba-17-18.csv',\n",
       " '../../Univar_results/test_m5/sub-022_ba-17-18.csv',\n",
       " '../../Univar_results/test_m5/sub-027_ba-17-18.csv',\n",
       " '../../Univar_results/test_m5/sub-007_ba-17-18.csv']"
      ]
     },
     "execution_count": 42,
     "metadata": {},
     "output_type": "execute_result"
    }
   ],
   "source": [
    "allfiles"
   ]
  },
  {
   "cell_type": "code",
   "execution_count": 43,
   "id": "7ccde250-3104-4bac-948d-4cdc65199ae5",
   "metadata": {},
   "outputs": [
    {
     "data": {
      "text/plain": [
       "68"
      ]
     },
     "execution_count": 43,
     "metadata": {},
     "output_type": "execute_result"
    }
   ],
   "source": [
    "len(allfiles)"
   ]
  },
  {
   "cell_type": "code",
   "execution_count": 45,
   "id": "b3fde827-4869-420c-9586-f6f7517ae3de",
   "metadata": {},
   "outputs": [],
   "source": [
    "univar_df = []\n",
    "for f in allfiles:\n",
    "    thisdf = pd.read_csv(f)\n",
    "    thisdf['roi'] = 'ba-17-18' if 'ba-17-18' in f else 'ba-19-37'\n",
    "    univar_df.append(thisdf)\n",
    "univar_df = pd.concat(univar_df)"
   ]
  },
  {
   "cell_type": "code",
   "execution_count": 47,
   "id": "f5d73030",
   "metadata": {},
   "outputs": [
    {
     "data": {
      "text/plain": [
       "array(['ba-19-37', 'ba-17-18'], dtype=object)"
      ]
     },
     "execution_count": 47,
     "metadata": {},
     "output_type": "execute_result"
    }
   ],
   "source": [
    "univar_df.roi.unique()"
   ]
  },
  {
   "cell_type": "code",
   "execution_count": 48,
   "id": "6a0caab0-b1eb-4703-ab6c-255bbd7e0b69",
   "metadata": {},
   "outputs": [],
   "source": [
    "univar_df = univar_df.groupby(['condition', 'roi', 'subject']).mean().reset_index()"
   ]
  },
  {
   "cell_type": "code",
   "execution_count": 51,
   "id": "34debcd9-c4d0-42b4-9740-23fc542c7f70",
   "metadata": {},
   "outputs": [
    {
     "data": {
      "text/html": [
       "<div>\n",
       "<style scoped>\n",
       "    .dataframe tbody tr th:only-of-type {\n",
       "        vertical-align: middle;\n",
       "    }\n",
       "\n",
       "    .dataframe tbody tr th {\n",
       "        vertical-align: top;\n",
       "    }\n",
       "\n",
       "    .dataframe thead th {\n",
       "        text-align: right;\n",
       "    }\n",
       "</style>\n",
       "<table border=\"1\" class=\"dataframe\">\n",
       "  <thead>\n",
       "    <tr style=\"text-align: right;\">\n",
       "      <th></th>\n",
       "      <th></th>\n",
       "      <th>mean</th>\n",
       "      <th>sem</th>\n",
       "    </tr>\n",
       "    <tr>\n",
       "      <th>roi</th>\n",
       "      <th>condition</th>\n",
       "      <th></th>\n",
       "      <th></th>\n",
       "    </tr>\n",
       "  </thead>\n",
       "  <tbody>\n",
       "    <tr>\n",
       "      <th rowspan=\"2\" valign=\"top\">ba-17-18</th>\n",
       "      <th>expected</th>\n",
       "      <td>-1.924122</td>\n",
       "      <td>0.292792</td>\n",
       "    </tr>\n",
       "    <tr>\n",
       "      <th>unexpected</th>\n",
       "      <td>-1.847878</td>\n",
       "      <td>0.311420</td>\n",
       "    </tr>\n",
       "    <tr>\n",
       "      <th rowspan=\"2\" valign=\"top\">ba-19-37</th>\n",
       "      <th>expected</th>\n",
       "      <td>-0.630116</td>\n",
       "      <td>0.220054</td>\n",
       "    </tr>\n",
       "    <tr>\n",
       "      <th>unexpected</th>\n",
       "      <td>-0.541722</td>\n",
       "      <td>0.225718</td>\n",
       "    </tr>\n",
       "  </tbody>\n",
       "</table>\n",
       "</div>"
      ],
      "text/plain": [
       "                         mean       sem\n",
       "roi      condition                     \n",
       "ba-17-18 expected   -1.924122  0.292792\n",
       "         unexpected -1.847878  0.311420\n",
       "ba-19-37 expected   -0.630116  0.220054\n",
       "         unexpected -0.541722  0.225718"
      ]
     },
     "execution_count": 51,
     "metadata": {},
     "output_type": "execute_result"
    }
   ],
   "source": [
    "univar_df.groupby(['roi', 'condition'])['mean_beta'].agg(['mean', 'sem'])"
   ]
  },
  {
   "cell_type": "code",
   "execution_count": 53,
   "id": "50a049c2",
   "metadata": {},
   "outputs": [],
   "source": [
    "univar_1718 = univar_df[univar_df['roi']=='ba-17-18']\n",
    "univar_1937 = univar_df[univar_df['roi']=='ba-19-37']"
   ]
  },
  {
   "cell_type": "code",
   "execution_count": 54,
   "id": "61116e99-3178-4ef1-adf7-0a717dfef596",
   "metadata": {},
   "outputs": [
    {
     "data": {
      "text/html": [
       "<div>\n",
       "<style scoped>\n",
       "    .dataframe tbody tr th:only-of-type {\n",
       "        vertical-align: middle;\n",
       "    }\n",
       "\n",
       "    .dataframe tbody tr th {\n",
       "        vertical-align: top;\n",
       "    }\n",
       "\n",
       "    .dataframe thead th {\n",
       "        text-align: right;\n",
       "    }\n",
       "</style>\n",
       "<table border=\"1\" class=\"dataframe\">\n",
       "  <thead>\n",
       "    <tr style=\"text-align: right;\">\n",
       "      <th></th>\n",
       "      <th>T</th>\n",
       "      <th>dof</th>\n",
       "      <th>alternative</th>\n",
       "      <th>p-val</th>\n",
       "      <th>CI95%</th>\n",
       "      <th>cohen-d</th>\n",
       "      <th>BF10</th>\n",
       "      <th>power</th>\n",
       "    </tr>\n",
       "  </thead>\n",
       "  <tbody>\n",
       "    <tr>\n",
       "      <th>T-test</th>\n",
       "      <td>-1.034888</td>\n",
       "      <td>33</td>\n",
       "      <td>two-sided</td>\n",
       "      <td>0.308246</td>\n",
       "      <td>[-0.23, 0.07]</td>\n",
       "      <td>0.043261</td>\n",
       "      <td>0.301</td>\n",
       "      <td>0.056904</td>\n",
       "    </tr>\n",
       "  </tbody>\n",
       "</table>\n",
       "</div>"
      ],
      "text/plain": [
       "               T  dof alternative     p-val          CI95%   cohen-d   BF10  \\\n",
       "T-test -1.034888   33   two-sided  0.308246  [-0.23, 0.07]  0.043261  0.301   \n",
       "\n",
       "           power  \n",
       "T-test  0.056904  "
      ]
     },
     "execution_count": 54,
     "metadata": {},
     "output_type": "execute_result"
    }
   ],
   "source": [
    "pg.ttest(univar_1718[univar_1718['condition']=='expected'].mean_beta,\n",
    "         univar_1718[univar_1718['condition']=='unexpected'].mean_beta,\n",
    "         paired=True)"
   ]
  },
  {
   "cell_type": "code",
   "execution_count": 55,
   "id": "0f02b5f1-6eb5-4568-9b43-e14c30d60c5f",
   "metadata": {},
   "outputs": [
    {
     "data": {
      "text/html": [
       "<div>\n",
       "<style scoped>\n",
       "    .dataframe tbody tr th:only-of-type {\n",
       "        vertical-align: middle;\n",
       "    }\n",
       "\n",
       "    .dataframe tbody tr th {\n",
       "        vertical-align: top;\n",
       "    }\n",
       "\n",
       "    .dataframe thead th {\n",
       "        text-align: right;\n",
       "    }\n",
       "</style>\n",
       "<table border=\"1\" class=\"dataframe\">\n",
       "  <thead>\n",
       "    <tr style=\"text-align: right;\">\n",
       "      <th></th>\n",
       "      <th>T</th>\n",
       "      <th>dof</th>\n",
       "      <th>alternative</th>\n",
       "      <th>p-val</th>\n",
       "      <th>CI95%</th>\n",
       "      <th>cohen-d</th>\n",
       "      <th>BF10</th>\n",
       "      <th>power</th>\n",
       "    </tr>\n",
       "  </thead>\n",
       "  <tbody>\n",
       "    <tr>\n",
       "      <th>T-test</th>\n",
       "      <td>-1.30722</td>\n",
       "      <td>33</td>\n",
       "      <td>two-sided</td>\n",
       "      <td>0.200174</td>\n",
       "      <td>[-0.23, 0.05]</td>\n",
       "      <td>0.068009</td>\n",
       "      <td>0.4</td>\n",
       "      <td>0.06716</td>\n",
       "    </tr>\n",
       "  </tbody>\n",
       "</table>\n",
       "</div>"
      ],
      "text/plain": [
       "              T  dof alternative     p-val          CI95%   cohen-d BF10  \\\n",
       "T-test -1.30722   33   two-sided  0.200174  [-0.23, 0.05]  0.068009  0.4   \n",
       "\n",
       "          power  \n",
       "T-test  0.06716  "
      ]
     },
     "execution_count": 55,
     "metadata": {},
     "output_type": "execute_result"
    }
   ],
   "source": [
    "pg.ttest(univar_1937[univar_1937['condition']=='expected'].mean_beta,\n",
    "         univar_1937[univar_1937['condition']=='unexpected'].mean_beta,\n",
    "         paired=True)"
   ]
  },
  {
   "cell_type": "code",
   "execution_count": null,
   "id": "084332bd",
   "metadata": {},
   "outputs": [],
   "source": []
  }
 ],
 "metadata": {
  "kernelspec": {
   "display_name": "giacomo37",
   "language": "python",
   "name": "python3"
  },
  "language_info": {
   "codemirror_mode": {
    "name": "ipython",
    "version": 3
   },
   "file_extension": ".py",
   "mimetype": "text/x-python",
   "name": "python",
   "nbconvert_exporter": "python",
   "pygments_lexer": "ipython3",
   "version": "3.8.5"
  }
 },
 "nbformat": 4,
 "nbformat_minor": 5
}
