{
 "cells": [
  {
   "cell_type": "code",
   "execution_count": 6,
   "id": "d32dc181-47f3-4098-a176-0294df3379f0",
   "metadata": {},
   "outputs": [
    {
     "name": "stderr",
     "output_type": "stream",
     "text": [
      "/home/predatt/giaald/.conda/envs/giacomo37/lib/python3.8/site-packages/outdated/utils.py:14: OutdatedPackageWarning: The package outdated is out of date. Your version is 0.2.1, the latest is 0.2.2.\n",
      "Set the environment variable OUTDATED_IGNORE=1 to disable these warnings.\n",
      "  return warn(\n",
      "/home/predatt/giaald/.conda/envs/giacomo37/lib/python3.8/site-packages/outdated/utils.py:14: OutdatedPackageWarning: The package pingouin is out of date. Your version is 0.5.0, the latest is 0.5.3.\n",
      "Set the environment variable OUTDATED_IGNORE=1 to disable these warnings.\n",
      "  return warn(\n"
     ]
    }
   ],
   "source": [
    "import pandas as pd\n",
    "import pingouin as pg\n",
    "import seaborn as sns\n",
    "import matplotlib.pyplot as plt\n",
    "import numpy as np\n",
    "from glob import glob\n",
    "import os"
   ]
  },
  {
   "cell_type": "markdown",
   "id": "5c04a4de-05a5-41d2-b74b-3720b234639e",
   "metadata": {},
   "source": [
    "## Second-level analysis"
   ]
  },
  {
   "cell_type": "code",
   "execution_count": 20,
   "id": "be4a09f5-d4ca-4c31-a42d-a249d25b00ad",
   "metadata": {},
   "outputs": [],
   "source": [
    "from utils import Options, loadmat\n",
    "from configs import bids_dir\n",
    "from mvpa.loading import get_correct_model\n",
    "\n",
    "def load_labeled_contrasts(opt):\n",
    "    \"\"\"\n",
    "    'opt' should contain sub, task, model\n",
    "    \"\"\"\n",
    "    contr_dir = bids_dir+'derivatives/spm-preproc/derivatives/spm-stats/contrasts/'\n",
    "    datamodel = get_correct_model(opt)\n",
    "    data_dir = os.path.join(contr_dir, f'{opt.sub}/{opt.task}/model_{datamodel:g}/')\n",
    "    \n",
    "    SPM = loadmat(os.path.join(data_dir, 'SPM.mat'))\n",
    "    regr_names = [n[6:-6] if '*bf(1)' in n else n[6:] for n in SPM['SPM']['xX']['name']]\n",
    "    file_names = [os.path.join(data_dir, b.fname) for b in SPM['SPM']['Vbeta']]\n",
    "    \n",
    "    exclude = ['buttonpress', 'constant', 'tx', 'ty', 'tz', 'rx', 'ry', 'rz']\n",
    "    \n",
    "    file_names = [f for f, r in zip(file_names, regr_names) if r not in exclude]\n",
    "    regr_names = [r for r in regr_names if r not in exclude]\n",
    "    \n",
    "    return regr_names, file_names\n"
   ]
  },
  {
   "cell_type": "code",
   "execution_count": 21,
   "id": "1fd4a1f2-2f7a-4156-ab9e-93822419ac8c",
   "metadata": {},
   "outputs": [],
   "source": [
    "opt = Options(\n",
    "    sub='sub-001',\n",
    "    task='test',\n",
    "    model=5\n",
    ")\n",
    "regr_names, file_names = load_labeled_contrasts(opt)"
   ]
  },
  {
   "cell_type": "code",
   "execution_count": 22,
   "id": "fff2ef86-96ed-48a3-ac1a-bed5475cf28c",
   "metadata": {},
   "outputs": [
    {
     "data": {
      "text/plain": [
       "['/project/3018040.05/bids/derivatives/spm-preproc/derivatives/spm-stats/contrasts/sub-001/test/model_5/beta_0001.nii',\n",
       " '/project/3018040.05/bids/derivatives/spm-preproc/derivatives/spm-stats/contrasts/sub-001/test/model_5/beta_0002.nii',\n",
       " '/project/3018040.05/bids/derivatives/spm-preproc/derivatives/spm-stats/contrasts/sub-001/test/model_5/beta_0009.nii',\n",
       " '/project/3018040.05/bids/derivatives/spm-preproc/derivatives/spm-stats/contrasts/sub-001/test/model_5/beta_0010.nii',\n",
       " '/project/3018040.05/bids/derivatives/spm-preproc/derivatives/spm-stats/contrasts/sub-001/test/model_5/beta_0017.nii',\n",
       " '/project/3018040.05/bids/derivatives/spm-preproc/derivatives/spm-stats/contrasts/sub-001/test/model_5/beta_0018.nii',\n",
       " '/project/3018040.05/bids/derivatives/spm-preproc/derivatives/spm-stats/contrasts/sub-001/test/model_5/beta_0025.nii',\n",
       " '/project/3018040.05/bids/derivatives/spm-preproc/derivatives/spm-stats/contrasts/sub-001/test/model_5/beta_0026.nii',\n",
       " '/project/3018040.05/bids/derivatives/spm-preproc/derivatives/spm-stats/contrasts/sub-001/test/model_5/beta_0033.nii',\n",
       " '/project/3018040.05/bids/derivatives/spm-preproc/derivatives/spm-stats/contrasts/sub-001/test/model_5/beta_0034.nii',\n",
       " '/project/3018040.05/bids/derivatives/spm-preproc/derivatives/spm-stats/contrasts/sub-001/test/model_5/beta_0041.nii',\n",
       " '/project/3018040.05/bids/derivatives/spm-preproc/derivatives/spm-stats/contrasts/sub-001/test/model_5/beta_0042.nii',\n",
       " '/project/3018040.05/bids/derivatives/spm-preproc/derivatives/spm-stats/contrasts/sub-001/test/model_5/beta_0049.nii',\n",
       " '/project/3018040.05/bids/derivatives/spm-preproc/derivatives/spm-stats/contrasts/sub-001/test/model_5/beta_0050.nii']"
      ]
     },
     "execution_count": 22,
     "metadata": {},
     "output_type": "execute_result"
    }
   ],
   "source": [
    "file_names"
   ]
  },
  {
   "cell_type": "markdown",
   "id": "bd1e68e3-30db-43bb-857f-4f3244989a21",
   "metadata": {},
   "source": [
    "## ROI analysis"
   ]
  },
  {
   "cell_type": "code",
   "execution_count": 23,
   "id": "098186ed-6321-4ba8-9d7b-eea2ee259bb8",
   "metadata": {},
   "outputs": [],
   "source": [
    "allfiles = glob('../../Univar_results/test_m5/*.csv')\n",
    "allfiles = [f for f in allfiles if 'sub-006' not in f]"
   ]
  },
  {
   "cell_type": "code",
   "execution_count": 24,
   "id": "7ccde250-3104-4bac-948d-4cdc65199ae5",
   "metadata": {},
   "outputs": [
    {
     "data": {
      "text/plain": [
       "34"
      ]
     },
     "execution_count": 24,
     "metadata": {},
     "output_type": "execute_result"
    }
   ],
   "source": [
    "len(allfiles)"
   ]
  },
  {
   "cell_type": "code",
   "execution_count": 25,
   "id": "b3fde827-4869-420c-9586-f6f7517ae3de",
   "metadata": {},
   "outputs": [],
   "source": [
    "univar_df = []\n",
    "for f in allfiles:\n",
    "    univar_df.append(pd.read_csv(f))\n",
    "univar_df = pd.concat(univar_df)"
   ]
  },
  {
   "cell_type": "code",
   "execution_count": 26,
   "id": "6a0caab0-b1eb-4703-ab6c-255bbd7e0b69",
   "metadata": {},
   "outputs": [],
   "source": [
    "univar_df = univar_df.groupby(['condition', 'subject']).mean().reset_index()"
   ]
  },
  {
   "cell_type": "code",
   "execution_count": 27,
   "id": "34debcd9-c4d0-42b4-9740-23fc542c7f70",
   "metadata": {},
   "outputs": [
    {
     "data": {
      "text/plain": [
       "condition\n",
       "expected     -1.924122\n",
       "unexpected   -1.847878\n",
       "Name: mean_beta, dtype: float64"
      ]
     },
     "execution_count": 27,
     "metadata": {},
     "output_type": "execute_result"
    }
   ],
   "source": [
    "univar_df.groupby(['condition'])['mean_beta'].mean()"
   ]
  },
  {
   "cell_type": "code",
   "execution_count": 28,
   "id": "61116e99-3178-4ef1-adf7-0a717dfef596",
   "metadata": {},
   "outputs": [
    {
     "data": {
      "text/html": [
       "<div>\n",
       "<style scoped>\n",
       "    .dataframe tbody tr th:only-of-type {\n",
       "        vertical-align: middle;\n",
       "    }\n",
       "\n",
       "    .dataframe tbody tr th {\n",
       "        vertical-align: top;\n",
       "    }\n",
       "\n",
       "    .dataframe thead th {\n",
       "        text-align: right;\n",
       "    }\n",
       "</style>\n",
       "<table border=\"1\" class=\"dataframe\">\n",
       "  <thead>\n",
       "    <tr style=\"text-align: right;\">\n",
       "      <th></th>\n",
       "      <th>T</th>\n",
       "      <th>dof</th>\n",
       "      <th>alternative</th>\n",
       "      <th>p-val</th>\n",
       "      <th>CI95%</th>\n",
       "      <th>cohen-d</th>\n",
       "      <th>BF10</th>\n",
       "      <th>power</th>\n",
       "    </tr>\n",
       "  </thead>\n",
       "  <tbody>\n",
       "    <tr>\n",
       "      <th>T-test</th>\n",
       "      <td>-1.034888</td>\n",
       "      <td>33</td>\n",
       "      <td>two-sided</td>\n",
       "      <td>0.308246</td>\n",
       "      <td>[-0.23, 0.07]</td>\n",
       "      <td>0.043261</td>\n",
       "      <td>0.301</td>\n",
       "      <td>0.056904</td>\n",
       "    </tr>\n",
       "  </tbody>\n",
       "</table>\n",
       "</div>"
      ],
      "text/plain": [
       "               T  dof alternative     p-val          CI95%   cohen-d   BF10  \\\n",
       "T-test -1.034888   33   two-sided  0.308246  [-0.23, 0.07]  0.043261  0.301   \n",
       "\n",
       "           power  \n",
       "T-test  0.056904  "
      ]
     },
     "execution_count": 28,
     "metadata": {},
     "output_type": "execute_result"
    }
   ],
   "source": [
    "pg.ttest(univar_df[univar_df['condition']=='expected'].mean_beta,\n",
    "         univar_df[univar_df['condition']=='unexpected'].mean_beta,\n",
    "         paired=True)"
   ]
  },
  {
   "cell_type": "code",
   "execution_count": null,
   "id": "0f02b5f1-6eb5-4568-9b43-e14c30d60c5f",
   "metadata": {},
   "outputs": [],
   "source": []
  }
 ],
 "metadata": {
  "kernelspec": {
   "display_name": "giacomo37",
   "language": "python",
   "name": "giacomo37"
  },
  "language_info": {
   "codemirror_mode": {
    "name": "ipython",
    "version": 3
   },
   "file_extension": ".py",
   "mimetype": "text/x-python",
   "name": "python",
   "nbconvert_exporter": "python",
   "pygments_lexer": "ipython3",
   "version": "3.8.5"
  }
 },
 "nbformat": 4,
 "nbformat_minor": 5
}
