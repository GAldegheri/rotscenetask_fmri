{
 "cells": [
  {
   "cell_type": "code",
   "execution_count": 1,
   "id": "3b3c2d52-3995-489a-9627-fbc20fd74aee",
   "metadata": {},
   "outputs": [
    {
     "name": "stderr",
     "output_type": "stream",
     "text": [
      "/home/predatt/giaald/.conda/envs/giacomo37/lib/python3.8/site-packages/mvpa2/datasets/base.py:465: DeprecationWarning: `np.float` is a deprecated alias for the builtin `float`. To silence this warning, use `float` by itself. Doing this will not modify any behavior and is safe. If you specifically wanted the numpy scalar type, use `np.float64` here.\n",
      "Deprecated in NumPy 1.20; for more details and guidance: https://numpy.org/devdocs/release/1.20.0-notes.html#deprecations\n",
      "  def __init__(self, shape=None, sid=None, fid=None, dtype=np.float):\n",
      "/home/predatt/giaald/nipype/nipype/utils/misc.py:9: DeprecationWarning: Using or importing the ABCs from 'collections' instead of from 'collections.abc' is deprecated since Python 3.3, and in 3.9 it will stop working\n",
      "  from collections import Iterator\n",
      "/home/predatt/giaald/nipype/nipype/interfaces/base/traits_extension.py:22: DeprecationWarning: Using or importing the ABCs from 'collections' instead of from 'collections.abc' is deprecated since Python 3.3, and in 3.9 it will stop working\n",
      "  from collections import Sequence\n"
     ]
    },
    {
     "name": "stdout",
     "output_type": "stream",
     "text": [
      "231003-11:45:29,897 nipype.utils WARNING:\n",
      "\t A newer version (1.8.4) of nipy/nipype is available. You are using 1.6.0-dev+g804adc0\n"
     ]
    },
    {
     "name": "stderr",
     "output_type": "stream",
     "text": [
      "stty: standard input: Inappropriate ioctl for device\n"
     ]
    }
   ],
   "source": [
    "from mvpa.loading import load_TRs, load_betas\n",
    "from mvpa.decoding import decode_CV, decode_traintest\n",
    "from mvpa.mvpa_utils import correct_labels\n",
    "from infocoupling_main import decode_timecourses\n",
    "from utils import Options\n",
    "import pandas as pd\n",
    "import seaborn as sns\n",
    "from readresults.readres_mvpa import get_subj_avg\n",
    "import numpy as np\n",
    "import os\n",
    "from configs import bids_dir\n",
    "import pickle as pkl\n",
    "\n",
    "%load_ext autoreload\n",
    "%autoreload 2"
   ]
  },
  {
   "cell_type": "code",
   "execution_count": 35,
   "id": "2a7a0403-86c0-44da-9af3-5a231789d510",
   "metadata": {},
   "outputs": [],
   "source": [
    "import gzip\n",
    "with gzip.open('../../infocoupl_wf/batch/crashdump_20231003_', 'rb') as f:\n",
    "    crashdump = pkl.load(f)"
   ]
  },
  {
   "cell_type": "code",
   "execution_count": 36,
   "id": "1105bf0f-cc3c-4f85-adda-bece1792a134",
   "metadata": {},
   "outputs": [
    {
     "data": {
      "text/plain": [
       "{'result': None,\n",
       " 'hostname': 'dccn-c038.dccn.nl',\n",
       " 'traceback': ['Traceback (most recent call last):\\n',\n",
       "  '  File \"/project/3018040.05/infocoupl_wf/batch/pyscript_20231003_144706_infocoupl_wf_decode_timecourses.a0.py\", line 38, in <module>\\n    result = info[\\'node\\'].run(updatehash=info[\\'updatehash\\'])\\n',\n",
       "  '  File \"/home/predatt/giaald/nipype/nipype/pipeline/engine/nodes.py\", line 486, in run\\n    self._get_hashval()\\n',\n",
       "  '  File \"/home/predatt/giaald/nipype/nipype/pipeline/engine/nodes.py\", line 538, in _get_hashval\\n    self._get_inputs()\\n',\n",
       "  '  File \"/home/predatt/giaald/nipype/nipype/pipeline/engine/nodes.py\", line 580, in _get_inputs\\n    outputs = _load_resultfile(results_fname).outputs\\n',\n",
       "  '  File \"/home/predatt/giaald/nipype/nipype/pipeline/engine/utils.py\", line 293, in load_resultfile\\n    result = loadpkl(results_file)\\n',\n",
       "  '  File \"/home/predatt/giaald/nipype/nipype/utils/filemanip.py\", line 672, in loadpkl\\n    raise e\\n',\n",
       "  '  File \"/home/predatt/giaald/nipype/nipype/utils/filemanip.py\", line 649, in loadpkl\\n    unpkl = pickle.loads(pkl_contents)\\n',\n",
       "  \"ModuleNotFoundError: No module named 'general_utils'\\n\"]}"
      ]
     },
     "execution_count": 36,
     "metadata": {},
     "output_type": "execute_result"
    }
   ],
   "source": [
    "crashdump"
   ]
  },
  {
   "cell_type": "code",
   "execution_count": 21,
   "id": "1d5093ca-3ed8-4f53-a937-6d230892f5b5",
   "metadata": {},
   "outputs": [
    {
     "data": {
      "text/plain": [
       "{'result': None,\n",
       " 'hostname': 'dccn-c049.dccn.nl',\n",
       " 'traceback': ['Traceback (most recent call last):\\n',\n",
       "  '  File \"/project/3018040.05/infocoupl_wf/batch/pyscript_20231003_123321_infocoupl_wf_decode_timecourses.a0.py\", line 38, in <module>\\n    result = info[\\'node\\'].run(updatehash=info[\\'updatehash\\'])\\n',\n",
       "  '  File \"/home/predatt/giaald/nipype/nipype/pipeline/engine/nodes.py\", line 486, in run\\n    self._get_hashval()\\n',\n",
       "  '  File \"/home/predatt/giaald/nipype/nipype/pipeline/engine/nodes.py\", line 538, in _get_hashval\\n    self._get_inputs()\\n',\n",
       "  '  File \"/home/predatt/giaald/nipype/nipype/pipeline/engine/nodes.py\", line 580, in _get_inputs\\n    outputs = _load_resultfile(results_fname).outputs\\n',\n",
       "  '  File \"/home/predatt/giaald/nipype/nipype/pipeline/engine/utils.py\", line 293, in load_resultfile\\n    result = loadpkl(results_file)\\n',\n",
       "  '  File \"/home/predatt/giaald/nipype/nipype/utils/filemanip.py\", line 672, in loadpkl\\n    raise e\\n',\n",
       "  '  File \"/home/predatt/giaald/nipype/nipype/utils/filemanip.py\", line 649, in loadpkl\\n    unpkl = pickle.loads(pkl_contents)\\n',\n",
       "  \"ModuleNotFoundError: No module named 'utils'\\n\"]}"
      ]
     },
     "execution_count": 21,
     "metadata": {},
     "output_type": "execute_result"
    }
   ],
   "source": [
    "crashdump"
   ]
  },
  {
   "cell_type": "code",
   "execution_count": 15,
   "id": "f925eb61-3be9-4dd8-865a-660a9fc6abdc",
   "metadata": {},
   "outputs": [
    {
     "data": {
      "text/plain": [
       "{'result': None,\n",
       " 'hostname': 'dccn-c039.dccn.nl',\n",
       " 'traceback': ['Traceback (most recent call last):\\n',\n",
       "  '  File \"/project/3018040.05/infocoupl_wf/batch/pyscript_20231003_121131_infocoupl_wf_decode_timecourses.a0.py\", line 38, in <module>\\n    result = info[\\'node\\'].run(updatehash=info[\\'updatehash\\'])\\n',\n",
       "  '  File \"/home/predatt/giaald/nipype/nipype/pipeline/engine/nodes.py\", line 486, in run\\n    self._get_hashval()\\n',\n",
       "  '  File \"/home/predatt/giaald/nipype/nipype/pipeline/engine/nodes.py\", line 538, in _get_hashval\\n    self._get_inputs()\\n',\n",
       "  '  File \"/home/predatt/giaald/nipype/nipype/pipeline/engine/nodes.py\", line 580, in _get_inputs\\n    outputs = _load_resultfile(results_fname).outputs\\n',\n",
       "  '  File \"/home/predatt/giaald/nipype/nipype/pipeline/engine/utils.py\", line 293, in load_resultfile\\n    result = loadpkl(results_file)\\n',\n",
       "  '  File \"/home/predatt/giaald/nipype/nipype/utils/filemanip.py\", line 672, in loadpkl\\n    raise e\\n',\n",
       "  '  File \"/home/predatt/giaald/nipype/nipype/utils/filemanip.py\", line 649, in loadpkl\\n    unpkl = pickle.loads(pkl_contents)\\n',\n",
       "  \"ModuleNotFoundError: No module named 'utils'\\n\"]}"
      ]
     },
     "execution_count": 15,
     "metadata": {},
     "output_type": "execute_result"
    }
   ],
   "source": [
    "crashdump"
   ]
  },
  {
   "cell_type": "code",
   "execution_count": 7,
   "id": "ff062aec-7c69-4b46-bb2a-537d510fc3e3",
   "metadata": {},
   "outputs": [
    {
     "data": {
      "text/plain": [
       "{'result': None,\n",
       " 'hostname': 'dccn-c039.dccn.nl',\n",
       " 'traceback': ['Traceback (most recent call last):\\n',\n",
       "  '  File \"/project/3018040.05/infocoupl_wf/batch/pyscript_20231003_113223_infocoupl_wf_decode_timecourses.a0.py\", line 38, in <module>\\n    result = info[\\'node\\'].run(updatehash=info[\\'updatehash\\'])\\n',\n",
       "  '  File \"/home/predatt/giaald/nipype/nipype/pipeline/engine/nodes.py\", line 486, in run\\n    self._get_hashval()\\n',\n",
       "  '  File \"/home/predatt/giaald/nipype/nipype/pipeline/engine/nodes.py\", line 538, in _get_hashval\\n    self._get_inputs()\\n',\n",
       "  '  File \"/home/predatt/giaald/nipype/nipype/pipeline/engine/nodes.py\", line 580, in _get_inputs\\n    outputs = _load_resultfile(results_fname).outputs\\n',\n",
       "  '  File \"/home/predatt/giaald/nipype/nipype/pipeline/engine/utils.py\", line 293, in load_resultfile\\n    result = loadpkl(results_file)\\n',\n",
       "  '  File \"/home/predatt/giaald/nipype/nipype/utils/filemanip.py\", line 672, in loadpkl\\n    raise e\\n',\n",
       "  '  File \"/home/predatt/giaald/nipype/nipype/utils/filemanip.py\", line 649, in loadpkl\\n    unpkl = pickle.loads(pkl_contents)\\n',\n",
       "  \"ModuleNotFoundError: No module named 'utils'\\n\"]}"
      ]
     },
     "execution_count": 7,
     "metadata": {},
     "output_type": "execute_result"
    }
   ],
   "source": [
    "crashdump"
   ]
  },
  {
   "cell_type": "code",
   "execution_count": 3,
   "id": "37b21e1e-15df-4c4a-ac72-529de33dd144",
   "metadata": {},
   "outputs": [],
   "source": [
    "tc = pd.read_csv('example_timecourse_TRs.csv')"
   ]
  },
  {
   "cell_type": "code",
   "execution_count": 13,
   "id": "9caeedf5-8bbb-404f-a684-309b18625c49",
   "metadata": {},
   "outputs": [],
   "source": [
    "import numpy as np\n",
    "from nipype.interfaces.base import Bunch\n",
    "\n",
    "subj_info = []\n",
    "\n",
    "for run in tc.runno.unique():\n",
    "\n",
    "    regressor_names = []\n",
    "    regressors = []\n",
    "    thisrun = tc[tc['runno']==run]\n",
    "    for i, exp in [(True, 'expected'), (False, 'unexpected')]:\n",
    "        regressor_names.append(exp)\n",
    "        thiscond = thisrun[thisrun['expected']==i]\n",
    "        allTRs = np.zeros((404, 1))\n",
    "        for _, r in thiscond.iterrows():\n",
    "            allTRs[r.TRno] = r.distance\n",
    "        regressors.append(allTRs.tolist())\n",
    "\n",
    "    subj_info.append(Bunch(conditions=['dummy'], onsets=[[0.0]],\n",
    "                           durations=[[0.0]], \n",
    "                           regressor_names=regressor_names,\n",
    "                           regressors=regressors))"
   ]
  },
  {
   "cell_type": "code",
   "execution_count": 16,
   "id": "0974061b-cc28-4bea-85b6-206f013f5e64",
   "metadata": {},
   "outputs": [
    {
     "data": {
      "text/plain": [
       "['expected', 'unexpected']"
      ]
     },
     "execution_count": 16,
     "metadata": {},
     "output_type": "execute_result"
    }
   ],
   "source": [
    "subj_info[0].regressor_names"
   ]
  },
  {
   "cell_type": "code",
   "execution_count": 17,
   "id": "fc9aa862-1ba2-421d-a460-27d1ee15f854",
   "metadata": {},
   "outputs": [
    {
     "data": {
      "text/plain": [
       "['dummy']"
      ]
     },
     "execution_count": 17,
     "metadata": {},
     "output_type": "execute_result"
    }
   ],
   "source": [
    "subj_info[0].conditions"
   ]
  },
  {
   "cell_type": "code",
   "execution_count": 12,
   "id": "aaf93d8b-3e01-4906-ae45-db02cf2763da",
   "metadata": {},
   "outputs": [
    {
     "data": {
      "text/plain": [
       "array([1, 2, 3, 4, 5, 6, 7])"
      ]
     },
     "execution_count": 12,
     "metadata": {},
     "output_type": "execute_result"
    }
   ],
   "source": [
    "tc.runno.unique()"
   ]
  },
  {
   "cell_type": "code",
   "execution_count": 11,
   "id": "f40a6b86-3fc5-4db6-812d-28b1cd54e0f7",
   "metadata": {},
   "outputs": [
    {
     "data": {
      "text/plain": [
       "1"
      ]
     },
     "execution_count": 11,
     "metadata": {},
     "output_type": "execute_result"
    }
   ],
   "source": [
    "len(subj_info)"
   ]
  },
  {
   "cell_type": "code",
   "execution_count": 10,
   "id": "10a27e0f-bf8b-4452-93ed-e213f585e9cf",
   "metadata": {},
   "outputs": [
    {
     "data": {
      "text/plain": [
       "[[[0.0],\n",
       "  [0.0],\n",
       "  [0.0],\n",
       "  [0.0],\n",
       "  [0.0],\n",
       "  [0.0],\n",
       "  [0.0],\n",
       "  [0.0],\n",
       "  [0.0],\n",
       "  [0.0],\n",
       "  [0.0],\n",
       "  [0.0],\n",
       "  [0.0],\n",
       "  [0.0],\n",
       "  [0.0],\n",
       "  [0.0],\n",
       "  [0.0],\n",
       "  [0.0],\n",
       "  [0.0],\n",
       "  [0.0],\n",
       "  [0.0],\n",
       "  [0.2153604218378448],\n",
       "  [-0.2987212873018556],\n",
       "  [-0.091473582068866],\n",
       "  [-0.8719593875546252],\n",
       "  [-0.0117774255492864],\n",
       "  [0.3127908555218131],\n",
       "  [-0.5786098250700608],\n",
       "  [0.4015975189693184],\n",
       "  [-1.89958824935482],\n",
       "  [-0.8847526169260951],\n",
       "  [0.3615530407500304],\n",
       "  [0.3592304848086416],\n",
       "  [0.6210834613557893],\n",
       "  [0.3234921718261451],\n",
       "  [0.8922302628945991],\n",
       "  [1.5881539177882826],\n",
       "  [0.969958242554374],\n",
       "  [0.0],\n",
       "  [0.0],\n",
       "  [0.0],\n",
       "  [0.0],\n",
       "  [0.0],\n",
       "  [0.0],\n",
       "  [0.0539057250401627],\n",
       "  [-0.1903000855940583],\n",
       "  [-0.1407698108244668],\n",
       "  [0.5894234713131312],\n",
       "  [0.0521076993627758],\n",
       "  [0.1203351476420165],\n",
       "  [-0.8281848970111879],\n",
       "  [0.3762944256444457],\n",
       "  [0.3905715354021989],\n",
       "  [0.9938277693090252],\n",
       "  [0.3520696885301013],\n",
       "  [0.0311528574001034],\n",
       "  [-0.5896118379046246],\n",
       "  [-0.2707313389693626],\n",
       "  [0.4756777493417143],\n",
       "  [-0.2237141437726413],\n",
       "  [-0.0947474598626853],\n",
       "  [0.3373175360335711],\n",
       "  [0.1191384353043291],\n",
       "  [0.8688583521327701],\n",
       "  [0.980810249125582],\n",
       "  [0.824002186123772],\n",
       "  [0.2133728636214348],\n",
       "  [0.4403334130378694],\n",
       "  [-1.051019930137605],\n",
       "  [-0.0108272444980164],\n",
       "  [2.0216783486538867],\n",
       "  [1.1133177818002964],\n",
       "  [1.1321090629840622],\n",
       "  [-0.1818154952177787],\n",
       "  [1.1310626219516908],\n",
       "  [1.349198454567638],\n",
       "  [-0.1694547834132496],\n",
       "  [0.1797482687602863],\n",
       "  [1.780965252872883],\n",
       "  [1.59434085731643],\n",
       "  [2.248798587880895],\n",
       "  [1.623049950563169],\n",
       "  [1.5408113451013865],\n",
       "  [0.8733270384560267],\n",
       "  [0.3799024416560744],\n",
       "  [0.0],\n",
       "  [0.0],\n",
       "  [0.0],\n",
       "  [0.0],\n",
       "  [0.0],\n",
       "  [0.0],\n",
       "  [0.0],\n",
       "  [0.0],\n",
       "  [0.0],\n",
       "  [0.0],\n",
       "  [0.0],\n",
       "  [0.0],\n",
       "  [0.0],\n",
       "  [0.0],\n",
       "  [0.0],\n",
       "  [0.0],\n",
       "  [0.0],\n",
       "  [0.0],\n",
       "  [0.0],\n",
       "  [0.0],\n",
       "  [0.0],\n",
       "  [-0.955462373579244],\n",
       "  [-0.7335047427702555],\n",
       "  [-0.2260058196165707],\n",
       "  [-1.3354454796281814],\n",
       "  [-1.7236866235811592],\n",
       "  [0.3245860074621884],\n",
       "  [0.2908714806443001],\n",
       "  [0.0977274618098143],\n",
       "  [-0.5314832445650857],\n",
       "  [0.5532498060277625],\n",
       "  [0.1473027854868086],\n",
       "  [-0.1048110747762396],\n",
       "  [-0.3383666995964506],\n",
       "  [1.2395428087393328],\n",
       "  [0.0167365164882011],\n",
       "  [-0.2705030623935516],\n",
       "  [1.0977225898135683],\n",
       "  [1.1844233927781476],\n",
       "  [0.0],\n",
       "  [0.0],\n",
       "  [0.0],\n",
       "  [0.0],\n",
       "  [0.0],\n",
       "  [0.3587598739284018],\n",
       "  [0.4317509128204091],\n",
       "  [1.010911956113112],\n",
       "  [-0.6439546260525512],\n",
       "  [0.7911768059707792],\n",
       "  [-1.9537828733091755],\n",
       "  [-1.8436661734621216],\n",
       "  [-1.3594325819814057],\n",
       "  [-0.8317076172011053],\n",
       "  [-0.0305127926936334],\n",
       "  [-1.0746635287411537],\n",
       "  [-2.280393812224585],\n",
       "  [-1.452702877995083],\n",
       "  [-0.677077199443815],\n",
       "  [0.6688536391653551],\n",
       "  [1.202450564754997],\n",
       "  [-0.7181720988409496],\n",
       "  [0.8888927451502096],\n",
       "  [-1.155654649557693],\n",
       "  [-1.4317274632824608],\n",
       "  [-1.6006544772225688],\n",
       "  [-1.0986421971566258],\n",
       "  [-2.173241437749571],\n",
       "  [-2.4441923104455423],\n",
       "  [-1.652253170994763],\n",
       "  [-1.079715911592675],\n",
       "  [0.1981364383296287],\n",
       "  [0.5377806704198275],\n",
       "  [0.913006447509805],\n",
       "  [1.9161218225473389],\n",
       "  [1.9960888111209285],\n",
       "  [-1.738672420674763],\n",
       "  [-0.943121363545203],\n",
       "  [-0.3230328547727021],\n",
       "  [0.2079809734318417],\n",
       "  [1.5080151445960728],\n",
       "  [-0.1072324538212358],\n",
       "  [0.2842387322188827],\n",
       "  [-0.2302700693702701],\n",
       "  [0.3205455749946397],\n",
       "  [-0.5844824334324731],\n",
       "  [-0.1853341112952531],\n",
       "  [-0.6612811611064592],\n",
       "  [0.3004303573077799],\n",
       "  [-0.5152784871439366],\n",
       "  [-0.0400953575873934],\n",
       "  [0.1133130454790978],\n",
       "  [0.0110947730047321],\n",
       "  [0.0399570011713107],\n",
       "  [-0.0159212008680492],\n",
       "  [0.7527032152337297],\n",
       "  [0.1570091996358794],\n",
       "  [0.7622551545064722],\n",
       "  [0.9372105553960172],\n",
       "  [0.199253266600639],\n",
       "  [-1.427182343291926],\n",
       "  [-0.4120272981125477],\n",
       "  [-1.0057713118612124],\n",
       "  [-1.324378240826361],\n",
       "  [-1.3221913076152674],\n",
       "  [-1.0543351833752352],\n",
       "  [-1.1408327181876246],\n",
       "  [-1.8829602792882048],\n",
       "  [-1.1641798228854203],\n",
       "  [-0.7015044840379299],\n",
       "  [0.8859197808460361],\n",
       "  [0.715062268625331],\n",
       "  [-0.6451831539264221],\n",
       "  [0.8827742355216646],\n",
       "  [1.2405427508569753],\n",
       "  [0.6289263958730034],\n",
       "  [1.1157274227247822],\n",
       "  [0.0],\n",
       "  [0.0],\n",
       "  [0.0],\n",
       "  [0.0],\n",
       "  [0.0],\n",
       "  [0.0],\n",
       "  [0.0],\n",
       "  [0.0],\n",
       "  [0.0],\n",
       "  [0.0],\n",
       "  [0.0],\n",
       "  [0.0],\n",
       "  [0.0],\n",
       "  [1.1456313860577871],\n",
       "  [1.5733580279138022],\n",
       "  [2.5417540052748557],\n",
       "  [2.9316607245620068],\n",
       "  [2.634161874745324],\n",
       "  [2.3260977156802345],\n",
       "  [1.106354955636211],\n",
       "  [1.809432483202299],\n",
       "  [1.432482849057204],\n",
       "  [1.7070197381006291],\n",
       "  [0.8441500246821713],\n",
       "  [0.8267504691407523],\n",
       "  [-0.2282782374714649],\n",
       "  [0.8224704436093547],\n",
       "  [0.8707132958309588],\n",
       "  [1.002958114293485],\n",
       "  [-0.7703474392364533],\n",
       "  [-0.6363723344752473],\n",
       "  [0.4271989483652869],\n",
       "  [1.915997341366996],\n",
       "  [1.762413654508622],\n",
       "  [0.366979714314295],\n",
       "  [0.2571331649923128],\n",
       "  [1.3966679300499698],\n",
       "  [0.4886528077446056],\n",
       "  [1.0954368703099704],\n",
       "  [-1.324878511887155],\n",
       "  [0.5829711311602858],\n",
       "  [-0.8847738365973958],\n",
       "  [-1.0676948533045445],\n",
       "  [-0.9695931945093196],\n",
       "  [-0.3921629146632339],\n",
       "  [-1.2623931020796682],\n",
       "  [-0.459352929384684],\n",
       "  [0.8222443205491915],\n",
       "  [0.6177342589989533],\n",
       "  [0.832285969458595],\n",
       "  [0.8630249527257552],\n",
       "  [2.012745231430238],\n",
       "  [0.326485179393418],\n",
       "  [0.452203572254986],\n",
       "  [-0.5468801174416361],\n",
       "  [-0.6823666580283865],\n",
       "  [0.0968374093889151],\n",
       "  [0.4602479695051867],\n",
       "  [-0.3087130957119486],\n",
       "  [0.2495293614223998],\n",
       "  [-0.0960858556828978],\n",
       "  [-0.0087188236947877],\n",
       "  [-0.4339886135425619],\n",
       "  [1.078447436261343],\n",
       "  [-0.2659290745570164],\n",
       "  [-0.3623732800735645],\n",
       "  [-1.0264374580711548],\n",
       "  [-1.8858023995459643],\n",
       "  [-2.160244908631204],\n",
       "  [-0.4671476961442607],\n",
       "  [0.0],\n",
       "  [0.0],\n",
       "  [0.0],\n",
       "  [0.0],\n",
       "  [0.0],\n",
       "  [-0.018150744411842],\n",
       "  [0.30970485623902],\n",
       "  [0.3173266929437217],\n",
       "  [-0.165661529637054],\n",
       "  [0.8187932018108809],\n",
       "  [0.2940478252460495],\n",
       "  [1.281015667628752],\n",
       "  [0.7778508090253384],\n",
       "  [0.3034053396457084],\n",
       "  [0.3977367125418687],\n",
       "  [0.0],\n",
       "  [0.0],\n",
       "  [0.0],\n",
       "  [0.0],\n",
       "  [0.0],\n",
       "  [0.0],\n",
       "  [-1.719212900588954],\n",
       "  [-0.8547464650984147],\n",
       "  [0.3407319994423098],\n",
       "  [-0.5999068416718298],\n",
       "  [0.8716081105354532],\n",
       "  [0.3036420162577258],\n",
       "  [0.6051092134864287],\n",
       "  [-0.383703843147596],\n",
       "  [-0.4407581408662302],\n",
       "  [-0.0802749775201275],\n",
       "  [0.9571737270218448],\n",
       "  [2.0580268729199744],\n",
       "  [0.8251130240569704],\n",
       "  [0.6712593481203566],\n",
       "  [0.1676996678397727],\n",
       "  [-0.3679283432997082],\n",
       "  [-0.3779398790855244],\n",
       "  [-0.3232824103840645],\n",
       "  [0.0],\n",
       "  [0.0],\n",
       "  [0.0],\n",
       "  [0.0],\n",
       "  [0.0],\n",
       "  [-0.4991232818420327],\n",
       "  [0.2774102412367598],\n",
       "  [-0.0089910446354842],\n",
       "  [-0.3208805342511146],\n",
       "  [0.414202830073908],\n",
       "  [0.2647460960505216],\n",
       "  [-0.3547195056848039],\n",
       "  [-0.3843419400712253],\n",
       "  [-0.3014469996979645],\n",
       "  [-1.2910543027439154],\n",
       "  [0.7070542649354637],\n",
       "  [0.8835438166266858],\n",
       "  [0.6920765709652418],\n",
       "  [1.732080190050196],\n",
       "  [0.7332757235892966],\n",
       "  [0.6320717149423092],\n",
       "  [0.554176294766363],\n",
       "  [-0.2440469113424622],\n",
       "  [-0.2675406770038394],\n",
       "  [-0.7132449387599354],\n",
       "  [-1.128404654564111],\n",
       "  [-0.4558238536750824],\n",
       "  [-0.7368582253207766],\n",
       "  [0.0223524249328264],\n",
       "  [-0.1565526010130462],\n",
       "  [0.1229854024146286],\n",
       "  [-0.4199036993371992],\n",
       "  [-0.0425760319574376],\n",
       "  [0.1632938631344966],\n",
       "  [-0.3782836140126583],\n",
       "  [-0.7791762808419376],\n",
       "  [1.0324265974310425],\n",
       "  [0.2251433766624863],\n",
       "  [1.7743199127567042],\n",
       "  [1.446055208398702],\n",
       "  [1.0517186643629832],\n",
       "  [0.8375672677563223],\n",
       "  [0.163922088064764],\n",
       "  [-0.857424262169445],\n",
       "  [-0.584092990652171],\n",
       "  [0.574487831870501],\n",
       "  [0.0],\n",
       "  [0.0],\n",
       "  [0.0],\n",
       "  [0.0],\n",
       "  [0.0],\n",
       "  [0.0],\n",
       "  [0.5457223220686908],\n",
       "  [0.6110413403529508],\n",
       "  [0.3986604281920607],\n",
       "  [0.2514551776923024],\n",
       "  [1.352915550257179],\n",
       "  [0.3890295758647167],\n",
       "  [1.7541657373609942],\n",
       "  [0.4660745863546448],\n",
       "  [0.0201365117281254],\n",
       "  [0.7560824485200174],\n",
       "  [0.0],\n",
       "  [0.0],\n",
       "  [0.0],\n",
       "  [0.0],\n",
       "  [0.0],\n",
       "  [1.24123415671682],\n",
       "  [1.2560628333561448],\n",
       "  [0.5865576730896751],\n",
       "  [-0.7277259674385412],\n",
       "  [-0.2540651981882749],\n",
       "  [-0.11844197173276],\n",
       "  [-0.2172384956532589],\n",
       "  [0.2637357223786936],\n",
       "  [-0.1401812943278147],\n",
       "  [-0.3846351461822433],\n",
       "  [0.7912221695250276],\n",
       "  [0.214602687845697],\n",
       "  [0.4771655115621457],\n",
       "  [-0.7484454779721892],\n",
       "  [0.1593637122473579],\n",
       "  [-0.7536372343475606],\n",
       "  [-1.6269561442421283],\n",
       "  [-2.387137787414677],\n",
       "  [0.0],\n",
       "  [0.0],\n",
       "  [0.0],\n",
       "  [0.0],\n",
       "  [0.0],\n",
       "  [0.0],\n",
       "  [0.0],\n",
       "  [0.0],\n",
       "  [0.0]],\n",
       " [[0.0],\n",
       "  [0.0],\n",
       "  [0.0],\n",
       "  [0.0],\n",
       "  [0.0],\n",
       "  [0.0],\n",
       "  [0.0],\n",
       "  [0.0],\n",
       "  [0.0],\n",
       "  [0.0],\n",
       "  [0.0],\n",
       "  [0.0],\n",
       "  [0.0],\n",
       "  [0.0],\n",
       "  [0.0],\n",
       "  [0.0],\n",
       "  [0.0],\n",
       "  [0.0],\n",
       "  [0.0],\n",
       "  [0.0],\n",
       "  [0.0],\n",
       "  [0.0],\n",
       "  [0.0],\n",
       "  [0.0],\n",
       "  [0.0],\n",
       "  [0.0],\n",
       "  [0.0],\n",
       "  [0.0],\n",
       "  [0.0],\n",
       "  [0.0],\n",
       "  [0.0],\n",
       "  [0.0],\n",
       "  [0.0],\n",
       "  [0.0],\n",
       "  [0.0],\n",
       "  [0.0],\n",
       "  [-1.59763171158212],\n",
       "  [-1.3279384513540256],\n",
       "  [-1.24842357684355],\n",
       "  [-0.6141414877232945],\n",
       "  [0.8168239622063698],\n",
       "  [0.5215542852281194],\n",
       "  [0.1884153717285459],\n",
       "  [-0.2970421648983712],\n",
       "  [0.0570123309332821],\n",
       "  [0.3129582825342285],\n",
       "  [0.0],\n",
       "  [0.0],\n",
       "  [0.0],\n",
       "  [0.0],\n",
       "  [0.0],\n",
       "  [0.0],\n",
       "  [0.0],\n",
       "  [0.0],\n",
       "  [0.0],\n",
       "  [0.0],\n",
       "  [0.0],\n",
       "  [0.0],\n",
       "  [0.0],\n",
       "  [0.0],\n",
       "  [0.0],\n",
       "  [0.0],\n",
       "  [0.0],\n",
       "  [0.0],\n",
       "  [0.0],\n",
       "  [0.0],\n",
       "  [0.0],\n",
       "  [0.0],\n",
       "  [0.0],\n",
       "  [0.0],\n",
       "  [0.0],\n",
       "  [0.0],\n",
       "  [0.0],\n",
       "  [0.0],\n",
       "  [0.0],\n",
       "  [0.0],\n",
       "  [0.0],\n",
       "  [0.0],\n",
       "  [0.0],\n",
       "  [0.0],\n",
       "  [0.0],\n",
       "  [0.0],\n",
       "  [0.0],\n",
       "  [0.6455498262290288],\n",
       "  [0.4755255332441371],\n",
       "  [0.4654976839873317],\n",
       "  [0.4475560583555616],\n",
       "  [0.7486569890543542],\n",
       "  [0.6478615384178943],\n",
       "  [1.3385726030824978],\n",
       "  [0.9623145434977468],\n",
       "  [0.3748844562492143],\n",
       "  [0.5771076594496467],\n",
       "  [-0.6065058204696732],\n",
       "  [0.7220859899451352],\n",
       "  [0.4115165628133557],\n",
       "  [-0.0575495613301488],\n",
       "  [1.3098955966696886],\n",
       "  [0.9378717926833268],\n",
       "  [0.7618535676319552],\n",
       "  [0.9941600882989864],\n",
       "  [1.435488304911075],\n",
       "  [1.6862489544541546],\n",
       "  [1.5257907062662843],\n",
       "  [-0.9364090759568776],\n",
       "  [-0.2556226318581568],\n",
       "  [-0.6792931145141877],\n",
       "  [-0.4604175892893466],\n",
       "  [0.0],\n",
       "  [0.0],\n",
       "  [0.0],\n",
       "  [0.0],\n",
       "  [0.0],\n",
       "  [0.0],\n",
       "  [0.0],\n",
       "  [0.0],\n",
       "  [0.0],\n",
       "  [0.0],\n",
       "  [0.0],\n",
       "  [0.0],\n",
       "  [0.0],\n",
       "  [-0.2273313967114064],\n",
       "  [0.7819649674654728],\n",
       "  [0.9723612294992892],\n",
       "  [-1.0044199333816517],\n",
       "  [-0.3724881869192707],\n",
       "  [-0.8907004714424115],\n",
       "  [-0.2344074582624348],\n",
       "  [0.2725559740730189],\n",
       "  [0.3007394709370117],\n",
       "  [-0.0620179621365058],\n",
       "  [0.0],\n",
       "  [0.0],\n",
       "  [0.0],\n",
       "  [0.0],\n",
       "  [0.0],\n",
       "  [0.0],\n",
       "  [0.0],\n",
       "  [0.0],\n",
       "  [0.0],\n",
       "  [0.0],\n",
       "  [0.0],\n",
       "  [0.0],\n",
       "  [0.0],\n",
       "  [0.0],\n",
       "  [0.0],\n",
       "  [0.0],\n",
       "  [0.0],\n",
       "  [0.0],\n",
       "  [0.0],\n",
       "  [0.0],\n",
       "  [0.0],\n",
       "  [0.0],\n",
       "  [0.0],\n",
       "  [0.0],\n",
       "  [0.0],\n",
       "  [0.0],\n",
       "  [0.0],\n",
       "  [0.0],\n",
       "  [0.0],\n",
       "  [0.0],\n",
       "  [0.0],\n",
       "  [0.0],\n",
       "  [0.0],\n",
       "  [0.0],\n",
       "  [0.0],\n",
       "  [0.0],\n",
       "  [0.0],\n",
       "  [0.0],\n",
       "  [0.0],\n",
       "  [0.0],\n",
       "  [0.0],\n",
       "  [0.0],\n",
       "  [0.0],\n",
       "  [0.0],\n",
       "  [0.0],\n",
       "  [0.0],\n",
       "  [0.0],\n",
       "  [0.0],\n",
       "  [0.0],\n",
       "  [0.0],\n",
       "  [0.0],\n",
       "  [0.0],\n",
       "  [0.0],\n",
       "  [0.0],\n",
       "  [0.0],\n",
       "  [0.0],\n",
       "  [0.0],\n",
       "  [0.0],\n",
       "  [0.0],\n",
       "  [0.0],\n",
       "  [0.0],\n",
       "  [0.0],\n",
       "  [0.0],\n",
       "  [0.0],\n",
       "  [0.0],\n",
       "  [0.0],\n",
       "  [0.0],\n",
       "  [0.0],\n",
       "  [1.3055377800006591],\n",
       "  [1.105526604954742],\n",
       "  [1.3664060361643298],\n",
       "  [2.282877110621586],\n",
       "  [1.2067799398559316],\n",
       "  [0.919494454573759],\n",
       "  [1.3427013718333187],\n",
       "  [-0.4760094431572818],\n",
       "  [-1.1224880724510065],\n",
       "  [0.3836849184059622],\n",
       "  [-0.6564217027817151],\n",
       "  [0.7129130432351583],\n",
       "  [0.6588955714072618],\n",
       "  [-0.4725070263580657],\n",
       "  [-1.4391456768561794],\n",
       "  [-1.5455453543781978],\n",
       "  [-0.3532508622886872],\n",
       "  [-0.9234802372551024],\n",
       "  [0.0],\n",
       "  [0.0],\n",
       "  [0.0],\n",
       "  [0.0],\n",
       "  [0.0],\n",
       "  [0.0],\n",
       "  [0.0],\n",
       "  [0.0],\n",
       "  [0.0],\n",
       "  [0.0],\n",
       "  [0.0],\n",
       "  [0.0],\n",
       "  [0.0],\n",
       "  [0.0],\n",
       "  [0.0],\n",
       "  [0.0],\n",
       "  [0.0],\n",
       "  [0.0],\n",
       "  [0.0],\n",
       "  [0.0],\n",
       "  [0.0],\n",
       "  [0.0],\n",
       "  [0.0],\n",
       "  [0.0],\n",
       "  [0.0],\n",
       "  [0.0],\n",
       "  [0.0],\n",
       "  [0.0],\n",
       "  [0.0],\n",
       "  [0.0],\n",
       "  [0.0],\n",
       "  [0.0],\n",
       "  [0.0],\n",
       "  [0.0],\n",
       "  [0.0],\n",
       "  [0.0],\n",
       "  [0.0],\n",
       "  [0.0],\n",
       "  [0.0],\n",
       "  [0.0],\n",
       "  [0.0],\n",
       "  [0.0],\n",
       "  [0.0],\n",
       "  [0.0],\n",
       "  [0.0],\n",
       "  [0.0],\n",
       "  [0.0],\n",
       "  [0.0],\n",
       "  [0.0],\n",
       "  [0.0],\n",
       "  [0.0],\n",
       "  [0.0],\n",
       "  [-2.4727330642200007],\n",
       "  [-0.3995761612492557],\n",
       "  [0.0625844439942482],\n",
       "  [1.56564895799598],\n",
       "  [0.3258697870800736],\n",
       "  [-1.4337148211883657],\n",
       "  [-1.2809506537725797],\n",
       "  [-1.8930593033206635],\n",
       "  [-0.5398470796850794],\n",
       "  [-0.9411302554462804],\n",
       "  [0.0],\n",
       "  [0.0],\n",
       "  [0.0],\n",
       "  [0.0],\n",
       "  [0.0],\n",
       "  [-0.5223955292033192],\n",
       "  [-0.6238227224228555],\n",
       "  [-2.3653323594285296],\n",
       "  [-1.620857432805788],\n",
       "  [-2.28782769425176],\n",
       "  [-1.418416747806358],\n",
       "  [-1.6434059881515908],\n",
       "  [-1.775193616692353],\n",
       "  [-1.6693494761243286],\n",
       "  [-2.058651444146833],\n",
       "  [0.0],\n",
       "  [0.0],\n",
       "  [0.0],\n",
       "  [0.0],\n",
       "  [0.0],\n",
       "  [0.0],\n",
       "  [0.0],\n",
       "  [0.0],\n",
       "  [0.0],\n",
       "  [0.0],\n",
       "  [0.0],\n",
       "  [0.0],\n",
       "  [0.0],\n",
       "  [0.0828463993158263],\n",
       "  [-0.2323707555640427],\n",
       "  [-0.1852492153128341],\n",
       "  [-0.7585128106627897],\n",
       "  [-0.6438176592611065],\n",
       "  [-0.3671948863375972],\n",
       "  [-0.2987282319760327],\n",
       "  [0.1607581727218724],\n",
       "  [0.3193819815387523],\n",
       "  [-0.54638296263135],\n",
       "  [0.0],\n",
       "  [0.0],\n",
       "  [0.0],\n",
       "  [0.0],\n",
       "  [0.0],\n",
       "  [0.0],\n",
       "  [0.0],\n",
       "  [0.0],\n",
       "  [0.0],\n",
       "  [0.0],\n",
       "  [0.0],\n",
       "  [0.0],\n",
       "  [0.0],\n",
       "  [0.0],\n",
       "  [0.0],\n",
       "  [0.0],\n",
       "  [0.0],\n",
       "  [0.0],\n",
       "  [0.0],\n",
       "  [0.0],\n",
       "  [0.0],\n",
       "  [0.0],\n",
       "  [0.0],\n",
       "  [0.0],\n",
       "  [0.0],\n",
       "  [0.0],\n",
       "  [0.0],\n",
       "  [0.0],\n",
       "  [0.0],\n",
       "  [0.0],\n",
       "  [0.0],\n",
       "  [0.0],\n",
       "  [0.0],\n",
       "  [0.0],\n",
       "  [0.0],\n",
       "  [0.0],\n",
       "  [0.0],\n",
       "  [-0.6791653291183983],\n",
       "  [-0.0408387820218099],\n",
       "  [0.1204378257524405],\n",
       "  [0.0933209001917728],\n",
       "  [-0.4096409589000923],\n",
       "  [-0.0371694241665543],\n",
       "  [0.6470141099663547],\n",
       "  [0.2580539408429421],\n",
       "  [0.4749020046536102],\n",
       "  [0.2854251441448126],\n",
       "  [0.0],\n",
       "  [0.0],\n",
       "  [0.0],\n",
       "  [0.0],\n",
       "  [0.0],\n",
       "  [-0.5577645286196024],\n",
       "  [-0.3971122698587043],\n",
       "  [-1.3132056565952548],\n",
       "  [-1.748098800168015],\n",
       "  [-0.3795472885578859],\n",
       "  [-0.6514224507679085],\n",
       "  [-0.2899948022948383],\n",
       "  [-0.5700564112513111],\n",
       "  [-1.0806756852368151],\n",
       "  [-1.184169957121009],\n",
       "  [0.0],\n",
       "  [0.0],\n",
       "  [0.0],\n",
       "  [0.0],\n",
       "  [0.0],\n",
       "  [0.0],\n",
       "  [0.0],\n",
       "  [0.0],\n",
       "  [0.0],\n",
       "  [0.0],\n",
       "  [0.0],\n",
       "  [0.0],\n",
       "  [0.0],\n",
       "  [0.0],\n",
       "  [0.0],\n",
       "  [0.0],\n",
       "  [0.0],\n",
       "  [0.0],\n",
       "  [0.0],\n",
       "  [0.0],\n",
       "  [0.0],\n",
       "  [0.0],\n",
       "  [0.0],\n",
       "  [0.0],\n",
       "  [0.0]]]"
      ]
     },
     "execution_count": 10,
     "metadata": {},
     "output_type": "execute_result"
    }
   ],
   "source": [
    "subj_info[0].regressors"
   ]
  },
  {
   "cell_type": "code",
   "execution_count": 27,
   "id": "03a57fe2-d4c1-4da8-9cd3-7f380d8b08cc",
   "metadata": {},
   "outputs": [],
   "source": [
    "from glm.modelspec import specify_model_test\n",
    "\n"
   ]
  },
  {
   "cell_type": "code",
   "execution_count": 28,
   "id": "af884a76-bae6-437d-950b-1a082b122dfa",
   "metadata": {},
   "outputs": [],
   "source": [
    "a = ['a']\n",
    "a.extend(['b', 'c'])"
   ]
  },
  {
   "cell_type": "code",
   "execution_count": 29,
   "id": "cd9fe945-3375-4321-bdd5-3aa84adca80f",
   "metadata": {},
   "outputs": [
    {
     "data": {
      "text/plain": [
       "['a', 'b', 'c']"
      ]
     },
     "execution_count": 29,
     "metadata": {},
     "output_type": "execute_result"
    }
   ],
   "source": [
    "a"
   ]
  },
  {
   "cell_type": "code",
   "execution_count": 24,
   "id": "d2f69f1c-508d-494f-abe3-daaa523c81e7",
   "metadata": {},
   "outputs": [],
   "source": [
    "ooopt = Options()\n",
    "ooopt.a = 0"
   ]
  },
  {
   "cell_type": "code",
   "execution_count": 26,
   "id": "ab771202-7ef7-4700-97de-9458a2853b2f",
   "metadata": {},
   "outputs": [
    {
     "data": {
      "text/plain": [
       "0"
      ]
     },
     "execution_count": 26,
     "metadata": {},
     "output_type": "execute_result"
    }
   ],
   "source": [
    "ooopt.a"
   ]
  },
  {
   "cell_type": "code",
   "execution_count": 20,
   "id": "3c8f1fe4-2027-42df-aa22-8e3bb2a6b4c1",
   "metadata": {},
   "outputs": [],
   "source": [
    "xx = pd.DataFrame([{'a': 5, 'b': 1}, {'a': 5, 'b': 1}])"
   ]
  },
  {
   "cell_type": "code",
   "execution_count": 23,
   "id": "8c596b64-182b-4634-804a-0bbe0fe84df0",
   "metadata": {},
   "outputs": [
    {
     "data": {
      "text/plain": [
       "5"
      ]
     },
     "execution_count": 23,
     "metadata": {},
     "output_type": "execute_result"
    }
   ],
   "source": [
    "xx.a.unique()[0]"
   ]
  },
  {
   "cell_type": "code",
   "execution_count": 6,
   "id": "61d1a71f-547f-4ca6-9ec6-bfbee1a24757",
   "metadata": {},
   "outputs": [
    {
     "name": "stderr",
     "output_type": "stream",
     "text": [
      "  0%|          | 0/1169 [00:00<?, ?it/s]"
     ]
    },
    {
     "name": "stdout",
     "output_type": "stream",
     "text": [
      "WARNING: Detected incorrect (nan) scl_ fields. Resetting to scl_slope=1.0 and scl_inter=0.0\n",
      " * Please note: warnings are printed only once, but underlying problem might occur many times *\n"
     ]
    },
    {
     "name": "stderr",
     "output_type": "stream",
     "text": [
      "100%|██████████| 1169/1169 [12:54<00:00,  1.51it/s]\n"
     ]
    }
   ],
   "source": [
    "opt = Options(sub='sub-001',task='test',model=15)\n",
    "mask_templ = os.path.join(bids_dir, 'derivatives', 'spm-preproc', 'derivatives', \n",
    "                          'roi-masks', '{:s}', '{:s}_ba-17-18_R_contr-objscrvsbas_top-1000.nii')\n",
    "\n",
    "firDS = load_betas(opt, fir=True, mask_templ=mask_templ, max_delay=5)"
   ]
  },
  {
   "cell_type": "code",
   "execution_count": 16,
   "id": "b84bc1e7-db52-47a4-9c50-09a295e34a8c",
   "metadata": {},
   "outputs": [
    {
     "data": {
      "text/plain": [
       "dict_keys(['targets', 'chunks', 'time_indices', 'time_coords', 'bin'])"
      ]
     },
     "execution_count": 16,
     "metadata": {},
     "output_type": "execute_result"
    }
   ],
   "source": [
    "firDS.sa.keys()"
   ]
  },
  {
   "cell_type": "code",
   "execution_count": null,
   "id": "df716e51-e2c6-4f0c-94a0-2fc56949446e",
   "metadata": {},
   "outputs": [],
   "source": [
    "subj_info = []\n",
    "    \n",
    "for run in tc.runno.unique():\n",
    "\n",
    "    regressor_names = []\n",
    "    regressors = []\n",
    "    thisrun = tc[tc['runno']==run]\n",
    "    for lab in thisrun.label.unique():\n",
    "        regressor_names.append(lab)\n",
    "        thiscond = thisrun[thisrun['label']==lab]\n",
    "        allTRs = np.zeros((404, 1))\n",
    "        for _, r in thiscond.iterrows():\n",
    "            allTRs[r.TRno] = r.distance\n",
    "        regressors.append(allTRs.tolist())\n",
    "\n",
    "    subj_info.append(Bunch(conditions=['dummy'], onsets=[[0.0]], durations=[[0.0]],\n",
    "        regressor_names=regressor_names, regressors=regressors))"
   ]
  },
  {
   "cell_type": "code",
   "execution_count": 14,
   "id": "0a612948-cad7-4662-9a01-c571a0a4d126",
   "metadata": {},
   "outputs": [
    {
     "data": {
      "text/plain": [
       "array([ 1,  2,  3, ...,  8,  9, 10])"
      ]
     },
     "execution_count": 14,
     "metadata": {},
     "output_type": "execute_result"
    }
   ],
   "source": [
    "firDS.sa.bin"
   ]
  },
  {
   "cell_type": "code",
   "execution_count": 28,
   "id": "ee802630-da37-47be-b87f-2aa3b34533f8",
   "metadata": {},
   "outputs": [
    {
     "data": {
      "text/plain": [
       "112"
      ]
     },
     "execution_count": 28,
     "metadata": {},
     "output_type": "execute_result"
    }
   ],
   "source": [
    "len(firDS[firDS.sa.basisfunc==2].samples)"
   ]
  },
  {
   "cell_type": "code",
   "execution_count": 15,
   "id": "d0eaf126-ab23-4f12-bfb4-860288e251fa",
   "metadata": {},
   "outputs": [
    {
     "data": {
      "text/plain": [
       "array(['A_30_exp_1', 'A_30_exp_1*', 'A_30_exp_2', 'A_30_exp_2*',\n",
       "       'A_30_exp_3', 'A_30_exp_3*', 'A_30_unexp', 'A_30_unexp*',\n",
       "       'A_90_exp_1', 'A_90_exp_1*', 'A_90_exp_2', 'A_90_exp_2*',\n",
       "       'A_90_exp_3', 'A_90_exp_3*', 'A_90_unexp', 'A_90_unexp*',\n",
       "       'B_30_exp_1', 'B_30_exp_1*', 'B_30_exp_2', 'B_30_exp_2*',\n",
       "       'B_30_exp_3', 'B_30_exp_3*', 'B_30_unexp', 'B_30_unexp*',\n",
       "       'B_90_exp_1', 'B_90_exp_1*', 'B_90_exp_2', 'B_90_exp_2*',\n",
       "       'B_90_exp_3', 'B_90_exp_3*', 'B_90_unexp', 'B_90_unexp*'],\n",
       "      dtype='<U11')"
      ]
     },
     "execution_count": 15,
     "metadata": {},
     "output_type": "execute_result"
    }
   ],
   "source": [
    "np.unique(firDS.sa.targets)"
   ]
  },
  {
   "cell_type": "code",
   "execution_count": 30,
   "id": "c9245277-8a17-480f-b39c-460a318dd8fd",
   "metadata": {},
   "outputs": [],
   "source": [
    "from glob import glob\n",
    "from utils import loadmat\n",
    "from configs import bids_dir\n",
    "import os"
   ]
  },
  {
   "cell_type": "code",
   "execution_count": 31,
   "id": "caa8ee2a-cf1c-47df-8a86-46bd129b903a",
   "metadata": {},
   "outputs": [],
   "source": [
    "data_dir = os.path.join(bids_dir, 'derivatives/spm-preproc/derivatives/spm-stats/betas/sub-001/test/model_12/FIR')\n",
    "SPM = loadmat(os.path.join(data_dir, 'SPM.mat'))"
   ]
  },
  {
   "cell_type": "code",
   "execution_count": 32,
   "id": "d00da933-658d-4917-9e4a-d5726380fe20",
   "metadata": {},
   "outputs": [
    {
     "data": {
      "text/plain": [
       "1169"
      ]
     },
     "execution_count": 32,
     "metadata": {},
     "output_type": "execute_result"
    }
   ],
   "source": [
    "len(SPM['SPM']['xX']['name'])"
   ]
  },
  {
   "cell_type": "code",
   "execution_count": 33,
   "id": "a755afb1-ee50-46c5-981c-f2e351adbb84",
   "metadata": {},
   "outputs": [],
   "source": [
    "bf1names = [n for n in SPM['SPM']['xX']['name'] if 'bf(1)' in n]"
   ]
  },
  {
   "cell_type": "code",
   "execution_count": 37,
   "id": "7820c30d-6387-4a8d-bf44-fa7980f79e06",
   "metadata": {},
   "outputs": [
    {
     "data": {
      "text/plain": [
       "7.0"
      ]
     },
     "execution_count": 37,
     "metadata": {},
     "output_type": "execute_result"
    }
   ],
   "source": [
    "len(bf1names)/16"
   ]
  },
  {
   "cell_type": "code",
   "execution_count": 35,
   "id": "912cfe96-7c63-473c-9694-c2ddf429f6ca",
   "metadata": {},
   "outputs": [
    {
     "data": {
      "text/plain": [
       "['Sn(1) A_30_exp_1*bf(1)',\n",
       " 'Sn(1) A_30_exp_2*bf(1)',\n",
       " 'Sn(1) A_30_exp_3*bf(1)',\n",
       " 'Sn(1) A_30_unexp*bf(1)',\n",
       " 'Sn(1) A_90_exp_1*bf(1)',\n",
       " 'Sn(1) A_90_exp_2*bf(1)',\n",
       " 'Sn(1) A_90_exp_3*bf(1)',\n",
       " 'Sn(1) A_90_unexp*bf(1)',\n",
       " 'Sn(1) B_30_exp_1*bf(1)',\n",
       " 'Sn(1) B_30_exp_2*bf(1)',\n",
       " 'Sn(1) B_30_exp_3*bf(1)',\n",
       " 'Sn(1) B_30_unexp*bf(1)',\n",
       " 'Sn(1) B_90_exp_1*bf(1)',\n",
       " 'Sn(1) B_90_exp_2*bf(1)',\n",
       " 'Sn(1) B_90_exp_3*bf(1)',\n",
       " 'Sn(1) B_90_unexp*bf(1)',\n",
       " 'Sn(2) A_30_exp_1*bf(1)',\n",
       " 'Sn(2) A_30_exp_2*bf(1)',\n",
       " 'Sn(2) A_30_exp_3*bf(1)',\n",
       " 'Sn(2) A_30_unexp*bf(1)',\n",
       " 'Sn(2) A_90_exp_1*bf(1)',\n",
       " 'Sn(2) A_90_exp_2*bf(1)',\n",
       " 'Sn(2) A_90_exp_3*bf(1)',\n",
       " 'Sn(2) A_90_unexp*bf(1)',\n",
       " 'Sn(2) B_30_exp_1*bf(1)',\n",
       " 'Sn(2) B_30_exp_2*bf(1)',\n",
       " 'Sn(2) B_30_exp_3*bf(1)',\n",
       " 'Sn(2) B_30_unexp*bf(1)',\n",
       " 'Sn(2) B_90_exp_1*bf(1)',\n",
       " 'Sn(2) B_90_exp_2*bf(1)',\n",
       " 'Sn(2) B_90_exp_3*bf(1)',\n",
       " 'Sn(2) B_90_unexp*bf(1)',\n",
       " 'Sn(3) A_30_exp_1*bf(1)',\n",
       " 'Sn(3) A_30_exp_2*bf(1)',\n",
       " 'Sn(3) A_30_exp_3*bf(1)',\n",
       " 'Sn(3) A_30_unexp*bf(1)',\n",
       " 'Sn(3) A_90_exp_1*bf(1)',\n",
       " 'Sn(3) A_90_exp_2*bf(1)',\n",
       " 'Sn(3) A_90_exp_3*bf(1)',\n",
       " 'Sn(3) A_90_unexp*bf(1)',\n",
       " 'Sn(3) B_30_exp_1*bf(1)',\n",
       " 'Sn(3) B_30_exp_2*bf(1)',\n",
       " 'Sn(3) B_30_exp_3*bf(1)',\n",
       " 'Sn(3) B_30_unexp*bf(1)',\n",
       " 'Sn(3) B_90_exp_1*bf(1)',\n",
       " 'Sn(3) B_90_exp_2*bf(1)',\n",
       " 'Sn(3) B_90_exp_3*bf(1)',\n",
       " 'Sn(3) B_90_unexp*bf(1)',\n",
       " 'Sn(4) A_30_exp_1*bf(1)',\n",
       " 'Sn(4) A_30_exp_2*bf(1)',\n",
       " 'Sn(4) A_30_exp_3*bf(1)',\n",
       " 'Sn(4) A_30_unexp*bf(1)',\n",
       " 'Sn(4) A_90_exp_1*bf(1)',\n",
       " 'Sn(4) A_90_exp_2*bf(1)',\n",
       " 'Sn(4) A_90_exp_3*bf(1)',\n",
       " 'Sn(4) A_90_unexp*bf(1)',\n",
       " 'Sn(4) B_30_exp_1*bf(1)',\n",
       " 'Sn(4) B_30_exp_2*bf(1)',\n",
       " 'Sn(4) B_30_exp_3*bf(1)',\n",
       " 'Sn(4) B_30_unexp*bf(1)',\n",
       " 'Sn(4) B_90_exp_1*bf(1)',\n",
       " 'Sn(4) B_90_exp_2*bf(1)',\n",
       " 'Sn(4) B_90_exp_3*bf(1)',\n",
       " 'Sn(4) B_90_unexp*bf(1)',\n",
       " 'Sn(5) A_30_exp_1*bf(1)',\n",
       " 'Sn(5) A_30_exp_2*bf(1)',\n",
       " 'Sn(5) A_30_exp_3*bf(1)',\n",
       " 'Sn(5) A_30_unexp*bf(1)',\n",
       " 'Sn(5) A_90_exp_1*bf(1)',\n",
       " 'Sn(5) A_90_exp_2*bf(1)',\n",
       " 'Sn(5) A_90_exp_3*bf(1)',\n",
       " 'Sn(5) A_90_unexp*bf(1)',\n",
       " 'Sn(5) B_30_exp_1*bf(1)',\n",
       " 'Sn(5) B_30_exp_2*bf(1)',\n",
       " 'Sn(5) B_30_exp_3*bf(1)',\n",
       " 'Sn(5) B_30_unexp*bf(1)',\n",
       " 'Sn(5) B_90_exp_1*bf(1)',\n",
       " 'Sn(5) B_90_exp_2*bf(1)',\n",
       " 'Sn(5) B_90_exp_3*bf(1)',\n",
       " 'Sn(5) B_90_unexp*bf(1)',\n",
       " 'Sn(6) A_30_exp_1*bf(1)',\n",
       " 'Sn(6) A_30_exp_2*bf(1)',\n",
       " 'Sn(6) A_30_exp_3*bf(1)',\n",
       " 'Sn(6) A_30_unexp*bf(1)',\n",
       " 'Sn(6) A_90_exp_1*bf(1)',\n",
       " 'Sn(6) A_90_exp_2*bf(1)',\n",
       " 'Sn(6) A_90_exp_3*bf(1)',\n",
       " 'Sn(6) A_90_unexp*bf(1)',\n",
       " 'Sn(6) B_30_exp_1*bf(1)',\n",
       " 'Sn(6) B_30_exp_2*bf(1)',\n",
       " 'Sn(6) B_30_exp_3*bf(1)',\n",
       " 'Sn(6) B_30_unexp*bf(1)',\n",
       " 'Sn(6) B_90_exp_1*bf(1)',\n",
       " 'Sn(6) B_90_exp_2*bf(1)',\n",
       " 'Sn(6) B_90_exp_3*bf(1)',\n",
       " 'Sn(6) B_90_unexp*bf(1)',\n",
       " 'Sn(7) A_30_exp_1*bf(1)',\n",
       " 'Sn(7) A_30_exp_2*bf(1)',\n",
       " 'Sn(7) A_30_exp_3*bf(1)',\n",
       " 'Sn(7) A_30_unexp*bf(1)',\n",
       " 'Sn(7) A_90_exp_1*bf(1)',\n",
       " 'Sn(7) A_90_exp_2*bf(1)',\n",
       " 'Sn(7) A_90_exp_3*bf(1)',\n",
       " 'Sn(7) A_90_unexp*bf(1)',\n",
       " 'Sn(7) B_30_exp_1*bf(1)',\n",
       " 'Sn(7) B_30_exp_2*bf(1)',\n",
       " 'Sn(7) B_30_exp_3*bf(1)',\n",
       " 'Sn(7) B_30_unexp*bf(1)',\n",
       " 'Sn(7) B_90_exp_1*bf(1)',\n",
       " 'Sn(7) B_90_exp_2*bf(1)',\n",
       " 'Sn(7) B_90_exp_3*bf(1)',\n",
       " 'Sn(7) B_90_unexp*bf(1)']"
      ]
     },
     "execution_count": 35,
     "metadata": {},
     "output_type": "execute_result"
    }
   ],
   "source": [
    "bf1names"
   ]
  },
  {
   "cell_type": "code",
   "execution_count": 7,
   "id": "748e2adb-a65f-48f7-a75a-7d6e9f6ce23c",
   "metadata": {},
   "outputs": [],
   "source": [
    "regr_names = [n[6:] for n in SPM['SPM']['xX']['name']]"
   ]
  },
  {
   "cell_type": "code",
   "execution_count": 6,
   "id": "ecaac74d-fb87-4931-bac1-5869268e416e",
   "metadata": {},
   "outputs": [],
   "source": [
    "file_names = [os.path.join(data_dir, b.fname) for b in SPM['SPM']['Vbeta']]"
   ]
  },
  {
   "cell_type": "code",
   "execution_count": 50,
   "id": "4ff21fdc-b62b-4934-acb8-5e951a1f9089",
   "metadata": {},
   "outputs": [],
   "source": [
    "exclude = ['buttonpress', 'constant', 'tx', 'ty', 'tz', 'rx', 'ry', 'rz']\n",
    "for r in regr_names:\n",
    "    if r not in exclude:\n",
    "        assert '*bf' in r"
   ]
  },
  {
   "cell_type": "code",
   "execution_count": 55,
   "id": "4a3fd223-3291-4a1a-b13e-1483cded6004",
   "metadata": {},
   "outputs": [
    {
     "data": {
      "text/plain": [
       "'/project/3018040.05/bids/derivatives/spm-preproc/derivatives/spm-stats/betas/sub-001/test/model_12/FIR/beta_0001.nii'"
      ]
     },
     "execution_count": 55,
     "metadata": {},
     "output_type": "execute_result"
    }
   ],
   "source": [
    "file_names[0]"
   ]
  },
  {
   "cell_type": "code",
   "execution_count": 51,
   "id": "0794c707-d148-4dfc-bdc8-29c03edf25ae",
   "metadata": {},
   "outputs": [],
   "source": [
    "from mvpa2.datasets import mri"
   ]
  },
  {
   "cell_type": "code",
   "execution_count": 65,
   "id": "cab9ee54-5449-4ccf-85c7-3f7fb3cabf3c",
   "metadata": {},
   "outputs": [],
   "source": [
    "thisDS = mri.fmri_dataset(file_names[0], chunks=1)"
   ]
  },
  {
   "cell_type": "code",
   "execution_count": 66,
   "id": "89a9a4b1-2a6e-425f-b4ca-6bad331927e8",
   "metadata": {},
   "outputs": [
    {
     "data": {
      "text/plain": [
       "'A_30_exp_1*bf(1)'"
      ]
     },
     "execution_count": 66,
     "metadata": {},
     "output_type": "execute_result"
    }
   ],
   "source": [
    "regr_names[0]"
   ]
  },
  {
   "cell_type": "code",
   "execution_count": 94,
   "id": "17ff30e2-2ea1-4ca2-9e7b-fd66afeee821",
   "metadata": {},
   "outputs": [],
   "source": [
    "a = int(re.search(r'.*bf\\((\\d+)\\)', \"A_30_exp_1*bf(10)\").group(1))"
   ]
  },
  {
   "cell_type": "code",
   "execution_count": 61,
   "id": "a85bc79e-818f-435a-bdb4-c548c120d514",
   "metadata": {},
   "outputs": [
    {
     "data": {
      "text/plain": [
       "array([1])"
      ]
     },
     "execution_count": 61,
     "metadata": {},
     "output_type": "execute_result"
    }
   ],
   "source": [
    "thisDS.sa.chunks"
   ]
  },
  {
   "cell_type": "code",
   "execution_count": 64,
   "id": "50fa3969-dfd2-40f1-8a86-78a636898f5d",
   "metadata": {},
   "outputs": [],
   "source": [
    "thisDS.sa['basisfunc'] = [1]"
   ]
  },
  {
   "cell_type": "code",
   "execution_count": 49,
   "id": "d52afc78-c8a1-467c-a878-588beee6014f",
   "metadata": {},
   "outputs": [
    {
     "data": {
      "text/plain": [
       "1169"
      ]
     },
     "execution_count": 49,
     "metadata": {},
     "output_type": "execute_result"
    }
   ],
   "source": [
    "len(file_names)"
   ]
  },
  {
   "cell_type": "code",
   "execution_count": 22,
   "id": "75b9da46-fdbd-45a4-8c6a-cdd265019982",
   "metadata": {},
   "outputs": [],
   "source": [
    "import re\n",
    "m = re.search('firlength(\\d+)', '_bases_firlength20.order10')"
   ]
  },
  {
   "cell_type": "code",
   "execution_count": 25,
   "id": "898c333e-12bc-4ef5-8721-8ba9e0b29bf7",
   "metadata": {},
   "outputs": [
    {
     "data": {
      "text/plain": [
       "'20'"
      ]
     },
     "execution_count": 25,
     "metadata": {},
     "output_type": "execute_result"
    }
   ],
   "source": [
    "m.group(1)"
   ]
  },
  {
   "cell_type": "code",
   "execution_count": 26,
   "id": "6ff0372c-502e-45df-bf1b-521f40e682f2",
   "metadata": {},
   "outputs": [],
   "source": [
    "from nipype.interfaces.io import DataSink"
   ]
  },
  {
   "cell_type": "code",
   "execution_count": 2,
   "id": "ee537b6d-f08a-4f45-b290-e2500cf7deff",
   "metadata": {},
   "outputs": [
    {
     "name": "stdout",
     "output_type": "stream",
     "text": [
      "WARNING: Detected incorrect (nan) scl_ fields. Resetting to scl_slope=1.0 and scl_inter=0.0\n",
      " * Please note: warnings are printed only once, but underlying problem might occur many times *\n"
     ]
    }
   ],
   "source": [
    "sub = 'sub-001'\n",
    "task = ('train', 'test')\n",
    "model = (5, 15)\n",
    "roi = 'ba-17-18_L_contr-objscrvsbas_top-1000'\n",
    "approach = 'traintest'\n",
    "\n",
    "allres = decode_timecourses(sub, roi, task, model, approach)"
   ]
  },
  {
   "cell_type": "code",
   "execution_count": 14,
   "id": "14afb3ba-dc47-4f0f-a594-71b32d1555a7",
   "metadata": {},
   "outputs": [],
   "source": [
    "avgres = []\n",
    "for d in sorted(allres.delay.unique()):\n",
    "    thisdel = allres[allres['delay']==d]\n",
    "    thisdel = get_subj_avg(thisdel, avg_decodedirs=False)\n",
    "    avgres.append(thisdel)\n",
    "avgres = pd.concat(avgres)"
   ]
  },
  {
   "cell_type": "code",
   "execution_count": 15,
   "id": "5839baec-ae6e-40f9-a3b7-a246bc2b3eb9",
   "metadata": {},
   "outputs": [],
   "source": [
    "avgres = avgres.groupby(['delay', 'expected']).mean().reset_index()"
   ]
  },
  {
   "cell_type": "code",
   "execution_count": 13,
   "id": "c367ead4-6cba-4551-b3ff-e59266bd2781",
   "metadata": {},
   "outputs": [
    {
     "data": {
      "text/plain": [
       "[<matplotlib.lines.Line2D at 0x7f6a239ccb20>]"
      ]
     },
     "execution_count": 13,
     "metadata": {},
     "output_type": "execute_result"
    },
    {
     "data": {
      "image/png": "[encoded data removed]",
      "text/plain": [
       "<Figure size 432x288 with 1 Axes>"
      ]
     },
     "metadata": {
      "needs_background": "light"
     },
     "output_type": "display_data"
    }
   ],
   "source": [
    "import matplotlib.pyplot as plt\n",
    "\n",
    "plt.plot(avgres['delay'], avgres['distance'])"
   ]
  },
  {
   "cell_type": "code",
   "execution_count": 17,
   "id": "1342c0cf-a4ed-4ef1-b109-29452d737022",
   "metadata": {},
   "outputs": [
    {
     "data": {
      "text/plain": [
       "<AxesSubplot:xlabel='delay', ylabel='distance'>"
      ]
     },
     "execution_count": 17,
     "metadata": {},
     "output_type": "execute_result"
    },
    {
     "data": {
      "image/png": "[encoded data removed]",
      "text/plain": [
       "<Figure size 432x288 with 1 Axes>"
      ]
     },
     "metadata": {
      "needs_background": "light"
     },
     "output_type": "display_data"
    }
   ],
   "source": [
    "sns.lineplot(data=avgres, x='delay', y='distance', hue='expected')"
   ]
  },
  {
   "cell_type": "code",
   "execution_count": null,
   "id": "4831ea68-0cca-427a-8c80-d8db19986d34",
   "metadata": {},
   "outputs": [],
   "source": [
    "allres.delay"
   ]
  },
  {
   "cell_type": "code",
   "execution_count": null,
   "id": "25d96bac-8ece-4d12-bf23-ddefdfe4d679",
   "metadata": {},
   "outputs": [],
   "source": [
    "opt = Options(\n",
    "    sub='sub-001',\n",
    "    task='test',\n",
    "    model=15,\n",
    ")"
   ]
  },
  {
   "cell_type": "code",
   "execution_count": null,
   "id": "19cc926a-0eec-4a17-8e97-698f68f9eef4",
   "metadata": {},
   "outputs": [],
   "source": [
    "DS = load_TRs(opt, TR_delay=[6, 7, 8, 9])\n",
    "DS = correct_labels(DS, opt)"
   ]
  },
  {
   "cell_type": "code",
   "execution_count": null,
   "id": "3f8ea250-b42d-4cca-bbe7-e69262604551",
   "metadata": {},
   "outputs": [],
   "source": [
    "DS = DS.remove_nonfinite_features()"
   ]
  },
  {
   "cell_type": "code",
   "execution_count": null,
   "id": "e4086992-c07b-4754-8e85-31bf34cdcf17",
   "metadata": {},
   "outputs": [],
   "source": [
    "allres = []\n",
    "\n",
    "for d in [6, 7]:\n",
    "    print('delay:', d)\n",
    "    thisDS = DS[DS.sa.delay==d]\n",
    "    allres.append(decode_CV(thisDS, opt))"
   ]
  },
  {
   "cell_type": "code",
   "execution_count": null,
   "id": "05d6ca7d-c768-49ac-882d-2e14ec3efb3b",
   "metadata": {},
   "outputs": [],
   "source": [
    "allres[0]"
   ]
  },
  {
   "cell_type": "code",
   "execution_count": null,
   "id": "cf9193ef-0766-49e0-bb7c-1bb022ce6e5a",
   "metadata": {},
   "outputs": [],
   "source": [
    "allresdf = pd.concat(allres)"
   ]
  },
  {
   "cell_type": "code",
   "execution_count": null,
   "id": "8681e99f-2f56-4ce2-9fa4-b1c382ce64cd",
   "metadata": {},
   "outputs": [],
   "source": [
    "allresdf.delay.unique()"
   ]
  },
  {
   "cell_type": "code",
   "execution_count": null,
   "id": "ce6b7107-57f3-4cb5-b6d4-fcf3bab616bb",
   "metadata": {},
   "outputs": [],
   "source": [
    "DS[DS.sa.chunks==1].sa.delay"
   ]
  },
  {
   "cell_type": "code",
   "execution_count": null,
   "id": "e681d70a-e7c3-4d67-ba53-d7077349b927",
   "metadata": {},
   "outputs": [],
   "source": []
  }
 ],
 "metadata": {
  "kernelspec": {
   "display_name": "giacomo37",
   "language": "python",
   "name": "giacomo37"
  },
  "language_info": {
   "codemirror_mode": {
    "name": "ipython",
    "version": 3
   },
   "file_extension": ".py",
   "mimetype": "text/x-python",
   "name": "python",
   "nbconvert_exporter": "python",
   "pygments_lexer": "ipython3",
   "version": "3.8.5"
  }
 },
 "nbformat": 4,
 "nbformat_minor": 5
}
