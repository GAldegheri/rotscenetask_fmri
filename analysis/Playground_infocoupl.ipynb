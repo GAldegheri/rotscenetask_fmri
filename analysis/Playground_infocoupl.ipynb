{
 "cells": [
  {
   "cell_type": "code",
   "execution_count": 9,
   "id": "3b3c2d52-3995-489a-9627-fbc20fd74aee",
   "metadata": {},
   "outputs": [
    {
     "name": "stdout",
     "output_type": "stream",
     "text": [
      "The autoreload extension is already loaded. To reload it, use:\n",
      "  %reload_ext autoreload\n"
     ]
    }
   ],
   "source": [
    "from mvpa.loading import load_TRs\n",
    "from mvpa.decoding import decode_CV, decode_traintest\n",
    "from mvpa.mvpa_utils import correct_labels\n",
    "from utils import Options\n",
    "import pandas as pd\n",
    "\n",
    "%load_ext autoreload\n",
    "%autoreload 2"
   ]
  },
  {
   "cell_type": "code",
   "execution_count": 2,
   "id": "25d96bac-8ece-4d12-bf23-ddefdfe4d679",
   "metadata": {},
   "outputs": [],
   "source": [
    "opt = Options(\n",
    "    sub='sub-001',\n",
    "    task='test',\n",
    "    model=15,\n",
    ")"
   ]
  },
  {
   "cell_type": "code",
   "execution_count": 3,
   "id": "19cc926a-0eec-4a17-8e97-698f68f9eef4",
   "metadata": {},
   "outputs": [
    {
     "name": "stdout",
     "output_type": "stream",
     "text": [
      "WARNING: Detected incorrect (nan) scl_ fields. Resetting to scl_slope=1.0 and scl_inter=0.0\n",
      " * Please note: warnings are printed only once, but underlying problem might occur many times *\n"
     ]
    }
   ],
   "source": [
    "DS = load_TRs(opt, TR_delay=[6, 7, 8, 9])\n",
    "DS = correct_labels(DS, opt)"
   ]
  },
  {
   "cell_type": "code",
   "execution_count": 4,
   "id": "3f8ea250-b42d-4cca-bbe7-e69262604551",
   "metadata": {},
   "outputs": [],
   "source": [
    "DS = DS.remove_nonfinite_features()"
   ]
  },
  {
   "cell_type": "code",
   "execution_count": 5,
   "id": "e4086992-c07b-4754-8e85-31bf34cdcf17",
   "metadata": {},
   "outputs": [
    {
     "name": "stdout",
     "output_type": "stream",
     "text": [
      "delay: 6\n",
      "delay: 7\n"
     ]
    }
   ],
   "source": [
    "allres = []\n",
    "\n",
    "for d in [6, 7]:\n",
    "    print('delay:', d)\n",
    "    thisDS = DS[DS.sa.delay==d]\n",
    "    allres.append(decode_CV(thisDS, opt))"
   ]
  },
  {
   "cell_type": "code",
   "execution_count": 7,
   "id": "05d6ca7d-c768-49ac-882d-2e14ec3efb3b",
   "metadata": {},
   "outputs": [
    {
     "data": {
      "text/html": [
       "<div>\n",
       "<style scoped>\n",
       "    .dataframe tbody tr th:only-of-type {\n",
       "        vertical-align: middle;\n",
       "    }\n",
       "\n",
       "    .dataframe tbody tr th {\n",
       "        vertical-align: top;\n",
       "    }\n",
       "\n",
       "    .dataframe thead th {\n",
       "        text-align: right;\n",
       "    }\n",
       "</style>\n",
       "<table border=\"1\" class=\"dataframe\">\n",
       "  <thead>\n",
       "    <tr style=\"text-align: right;\">\n",
       "      <th></th>\n",
       "      <th>correct</th>\n",
       "      <th>output</th>\n",
       "      <th>rawdistance</th>\n",
       "      <th>distance</th>\n",
       "      <th>chunk</th>\n",
       "      <th>TRno</th>\n",
       "      <th>delay</th>\n",
       "      <th>expected</th>\n",
       "    </tr>\n",
       "  </thead>\n",
       "  <tbody>\n",
       "    <tr>\n",
       "      <th>0</th>\n",
       "      <td>0.666667</td>\n",
       "      <td>0.666667</td>\n",
       "      <td>-1358.765650</td>\n",
       "      <td>0.556954</td>\n",
       "      <td>1.0</td>\n",
       "      <td>104.000000</td>\n",
       "      <td>6.0</td>\n",
       "      <td>True</td>\n",
       "    </tr>\n",
       "    <tr>\n",
       "      <th>1</th>\n",
       "      <td>0.333333</td>\n",
       "      <td>0.333333</td>\n",
       "      <td>1227.549738</td>\n",
       "      <td>-0.489937</td>\n",
       "      <td>1.0</td>\n",
       "      <td>318.666667</td>\n",
       "      <td>6.0</td>\n",
       "      <td>True</td>\n",
       "    </tr>\n",
       "    <tr>\n",
       "      <th>2</th>\n",
       "      <td>0.333333</td>\n",
       "      <td>0.666667</td>\n",
       "      <td>-460.132322</td>\n",
       "      <td>0.098088</td>\n",
       "      <td>1.0</td>\n",
       "      <td>104.000000</td>\n",
       "      <td>6.0</td>\n",
       "      <td>True</td>\n",
       "    </tr>\n",
       "    <tr>\n",
       "      <th>3</th>\n",
       "      <td>0.000000</td>\n",
       "      <td>1.000000</td>\n",
       "      <td>-1006.332593</td>\n",
       "      <td>-0.612828</td>\n",
       "      <td>1.0</td>\n",
       "      <td>171.333333</td>\n",
       "      <td>6.0</td>\n",
       "      <td>True</td>\n",
       "    </tr>\n",
       "    <tr>\n",
       "      <th>4</th>\n",
       "      <td>0.666667</td>\n",
       "      <td>0.333333</td>\n",
       "      <td>922.963087</td>\n",
       "      <td>0.402418</td>\n",
       "      <td>1.0</td>\n",
       "      <td>295.000000</td>\n",
       "      <td>6.0</td>\n",
       "      <td>True</td>\n",
       "    </tr>\n",
       "    <tr>\n",
       "      <th>...</th>\n",
       "      <td>...</td>\n",
       "      <td>...</td>\n",
       "      <td>...</td>\n",
       "      <td>...</td>\n",
       "      <td>...</td>\n",
       "      <td>...</td>\n",
       "      <td>...</td>\n",
       "      <td>...</td>\n",
       "    </tr>\n",
       "    <tr>\n",
       "      <th>0</th>\n",
       "      <td>1.000000</td>\n",
       "      <td>1.000000</td>\n",
       "      <td>-2736.874203</td>\n",
       "      <td>1.289474</td>\n",
       "      <td>7.0</td>\n",
       "      <td>89.000000</td>\n",
       "      <td>6.0</td>\n",
       "      <td>False</td>\n",
       "    </tr>\n",
       "    <tr>\n",
       "      <th>1</th>\n",
       "      <td>1.000000</td>\n",
       "      <td>1.000000</td>\n",
       "      <td>-2422.675568</td>\n",
       "      <td>1.141483</td>\n",
       "      <td>7.0</td>\n",
       "      <td>96.000000</td>\n",
       "      <td>6.0</td>\n",
       "      <td>False</td>\n",
       "    </tr>\n",
       "    <tr>\n",
       "      <th>2</th>\n",
       "      <td>1.000000</td>\n",
       "      <td>1.000000</td>\n",
       "      <td>-181.452989</td>\n",
       "      <td>0.085849</td>\n",
       "      <td>7.0</td>\n",
       "      <td>104.000000</td>\n",
       "      <td>6.0</td>\n",
       "      <td>False</td>\n",
       "    </tr>\n",
       "    <tr>\n",
       "      <th>4</th>\n",
       "      <td>1.000000</td>\n",
       "      <td>0.000000</td>\n",
       "      <td>137.715044</td>\n",
       "      <td>0.064482</td>\n",
       "      <td>7.0</td>\n",
       "      <td>213.000000</td>\n",
       "      <td>6.0</td>\n",
       "      <td>False</td>\n",
       "    </tr>\n",
       "    <tr>\n",
       "      <th>5</th>\n",
       "      <td>1.000000</td>\n",
       "      <td>0.000000</td>\n",
       "      <td>2792.772739</td>\n",
       "      <td>1.315036</td>\n",
       "      <td>7.0</td>\n",
       "      <td>313.000000</td>\n",
       "      <td>6.0</td>\n",
       "      <td>False</td>\n",
       "    </tr>\n",
       "  </tbody>\n",
       "</table>\n",
       "<p>1008 rows × 8 columns</p>\n",
       "</div>"
      ],
      "text/plain": [
       "     correct    output  rawdistance  distance  chunk        TRno  delay  \\\n",
       "0   0.666667  0.666667 -1358.765650  0.556954    1.0  104.000000    6.0   \n",
       "1   0.333333  0.333333  1227.549738 -0.489937    1.0  318.666667    6.0   \n",
       "2   0.333333  0.666667  -460.132322  0.098088    1.0  104.000000    6.0   \n",
       "3   0.000000  1.000000 -1006.332593 -0.612828    1.0  171.333333    6.0   \n",
       "4   0.666667  0.333333   922.963087  0.402418    1.0  295.000000    6.0   \n",
       "..       ...       ...          ...       ...    ...         ...    ...   \n",
       "0   1.000000  1.000000 -2736.874203  1.289474    7.0   89.000000    6.0   \n",
       "1   1.000000  1.000000 -2422.675568  1.141483    7.0   96.000000    6.0   \n",
       "2   1.000000  1.000000  -181.452989  0.085849    7.0  104.000000    6.0   \n",
       "4   1.000000  0.000000   137.715044  0.064482    7.0  213.000000    6.0   \n",
       "5   1.000000  0.000000  2792.772739  1.315036    7.0  313.000000    6.0   \n",
       "\n",
       "    expected  \n",
       "0       True  \n",
       "1       True  \n",
       "2       True  \n",
       "3       True  \n",
       "4       True  \n",
       "..       ...  \n",
       "0      False  \n",
       "1      False  \n",
       "2      False  \n",
       "4      False  \n",
       "5      False  \n",
       "\n",
       "[1008 rows x 8 columns]"
      ]
     },
     "execution_count": 7,
     "metadata": {},
     "output_type": "execute_result"
    }
   ],
   "source": [
    "allres[0]"
   ]
  },
  {
   "cell_type": "code",
   "execution_count": 10,
   "id": "cf9193ef-0766-49e0-bb7c-1bb022ce6e5a",
   "metadata": {},
   "outputs": [],
   "source": [
    "allresdf = pd.concat(allres)"
   ]
  },
  {
   "cell_type": "code",
   "execution_count": 13,
   "id": "8681e99f-2f56-4ce2-9fa4-b1c382ce64cd",
   "metadata": {},
   "outputs": [
    {
     "data": {
      "text/plain": [
       "array([6., 7.])"
      ]
     },
     "execution_count": 13,
     "metadata": {},
     "output_type": "execute_result"
    }
   ],
   "source": [
    "allresdf.delay.unique()"
   ]
  },
  {
   "cell_type": "code",
   "execution_count": null,
   "id": "ce6b7107-57f3-4cb5-b6d4-fcf3bab616bb",
   "metadata": {},
   "outputs": [],
   "source": [
    "DS[DS.sa.chunks==1].sa.delay"
   ]
  },
  {
   "cell_type": "code",
   "execution_count": null,
   "id": "e681d70a-e7c3-4d67-ba53-d7077349b927",
   "metadata": {},
   "outputs": [],
   "source": []
  }
 ],
 "metadata": {
  "kernelspec": {
   "display_name": "giacomo37",
   "language": "python",
   "name": "giacomo37"
  },
  "language_info": {
   "codemirror_mode": {
    "name": "ipython",
    "version": 3
   },
   "file_extension": ".py",
   "mimetype": "text/x-python",
   "name": "python",
   "nbconvert_exporter": "python",
   "pygments_lexer": "ipython3",
   "version": "3.8.5"
  }
 },
 "nbformat": 4,
 "nbformat_minor": 5
}
