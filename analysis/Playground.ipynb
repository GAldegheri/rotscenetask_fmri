{
 "cells": [
  {
   "cell_type": "code",
   "execution_count": 42,
   "metadata": {},
   "outputs": [
    {
     "name": "stdout",
     "output_type": "stream",
     "text": [
      "The autoreload extension is already loaded. To reload it, use:\n",
      "  %reload_ext autoreload\n"
     ]
    }
   ],
   "source": [
    "import pandas as pd\n",
    "from utils import Options\n",
    "import pickle as pkl\n",
    "import numpy as np\n",
    "from glob import glob\n",
    "from readresults.readres_mvpa import merge_results, parse_roi_info, \\\n",
    "    get_subj_avg, fill_in_nvoxels, quick_get_results, combine_splits_all\n",
    "from mvpa.loading import load_betas\n",
    "from mvpa.mvpa_utils import split_expunexp\n",
    "import seaborn as sns\n",
    "from plotting.plot import plot_by_nvoxels\n",
    "import pingouin as pg\n",
    "import os\n",
    "\n",
    "%load_ext autoreload\n",
    "%autoreload 2"
   ]
  },
  {
   "cell_type": "code",
   "execution_count": 64,
   "metadata": {},
   "outputs": [],
   "source": [
    "tc = pd.read_csv('infocoupling/FIR_timecourses/sub-001_ba-17-18_contr-objscrvsbas_top-500.csv')"
   ]
  },
  {
   "cell_type": "code",
   "execution_count": 70,
   "metadata": {},
   "outputs": [],
   "source": [
    "n_timepoints = tc.delay.nunique()"
   ]
  },
  {
   "cell_type": "code",
   "execution_count": 66,
   "metadata": {},
   "outputs": [],
   "source": [
    "tc = tc.groupby(['delay', 'expected']).mean().reset_index()"
   ]
  },
  {
   "cell_type": "code",
   "execution_count": 76,
   "metadata": {},
   "outputs": [],
   "source": [
    "exp_multivar_array = np.hstack(tc[tc.expected==True].distance).reshape(1, n_timepoints)\n",
    "unexp_multivar_array = np.hstack(tc[tc.expected==False].distance).reshape(1, n_timepoints)"
   ]
  },
  {
   "cell_type": "code",
   "execution_count": 77,
   "metadata": {},
   "outputs": [
    {
     "data": {
      "text/plain": [
       "array([0.05074381])"
      ]
     },
     "execution_count": 77,
     "metadata": {},
     "output_type": "execute_result"
    }
   ],
   "source": [
    "np.mean(exp_multivar_array, axis=1)"
   ]
  },
  {
   "cell_type": "code",
   "execution_count": 81,
   "metadata": {},
   "outputs": [],
   "source": [
    "roi = 'ba-17-18'\n",
    "roi_basedir = '/project/3018040.05/anat_roi_masks'\n",
    "mask_templ = os.path.join(roi_basedir, roi+'.nii')\n",
    "\n",
    "opt = Options(\n",
    "        sub='sub-001',\n",
    "        roi=roi,\n",
    "        task='test',\n",
    "        model=27\n",
    "    )"
   ]
  },
  {
   "cell_type": "code",
   "execution_count": 82,
   "metadata": {},
   "outputs": [
    {
     "name": "stderr",
     "output_type": "stream",
     "text": [
      "100%|██████████| 329/329 [03:45<00:00,  1.46it/s]\n"
     ]
    }
   ],
   "source": [
    "DS = load_betas(opt, mask_templ=mask_templ, fir=True)"
   ]
  },
  {
   "cell_type": "code",
   "execution_count": 83,
   "metadata": {},
   "outputs": [],
   "source": [
    "DS = split_expunexp(DS)\n",
    "n_voxels = DS.samples.shape[1]\n",
    "nanmask = np.all(np.isfinite(DS.samples), axis=0)\n",
    "DS = DS[:, nanmask]"
   ]
  },
  {
   "cell_type": "code",
   "execution_count": 84,
   "metadata": {},
   "outputs": [],
   "source": [
    "brainmap = np.zeros(n_voxels)"
   ]
  },
  {
   "cell_type": "code",
   "execution_count": 86,
   "metadata": {},
   "outputs": [],
   "source": [
    "brainmap[nanmask] = 1"
   ]
  },
  {
   "cell_type": "code",
   "execution_count": 88,
   "metadata": {},
   "outputs": [
    {
     "data": {
      "text/plain": [
       "(13412,)"
      ]
     },
     "execution_count": 88,
     "metadata": {},
     "output_type": "execute_result"
    }
   ],
   "source": [
    "brainmap.shape"
   ]
  },
  {
   "cell_type": "code",
   "execution_count": 59,
   "metadata": {},
   "outputs": [],
   "source": [
    "univar_df = pd.DataFrame(\n",
    "        {'delay': DS.sa.delay,\n",
    "         'expected': DS.sa.expected,\n",
    "         'samples': list(DS.samples)}\n",
    "    )\n",
    "univar_df = univar_df.groupby(['delay', 'expected']).mean().reset_index()"
   ]
  },
  {
   "cell_type": "code",
   "execution_count": 62,
   "metadata": {},
   "outputs": [],
   "source": [
    "exp_univar_array = np.vstack(univar_df[univar_df.expected==1].samples).T"
   ]
  },
  {
   "cell_type": "code",
   "execution_count": 63,
   "metadata": {},
   "outputs": [
    {
     "data": {
      "text/plain": [
       "(11959, 10)"
      ]
     },
     "execution_count": 63,
     "metadata": {},
     "output_type": "execute_result"
    }
   ],
   "source": [
    "exp_univar_array.shape"
   ]
  },
  {
   "cell_type": "code",
   "execution_count": 78,
   "metadata": {},
   "outputs": [],
   "source": [
    "correlations = np.dot(exp_univar_array, exp_multivar_array.T) / (n_timepoints - 1)"
   ]
  },
  {
   "cell_type": "code",
   "execution_count": 80,
   "metadata": {},
   "outputs": [
    {
     "data": {
      "text/plain": [
       "(11959, 1)"
      ]
     },
     "execution_count": 80,
     "metadata": {},
     "output_type": "execute_result"
    }
   ],
   "source": [
    "correlations.shape"
   ]
  },
  {
   "cell_type": "code",
   "execution_count": 36,
   "metadata": {},
   "outputs": [],
   "source": [
    "meanacts = pd.DataFrame({\n",
    "    'mean_activation': np.nanmean(DS.samples, axis=1),\n",
    "    'delay': DS.sa.delay})"
   ]
  },
  {
   "cell_type": "code",
   "execution_count": 38,
   "metadata": {},
   "outputs": [
    {
     "data": {
      "text/plain": [
       "<AxesSubplot:xlabel='delay', ylabel='mean_activation'>"
      ]
     },
     "execution_count": 38,
     "metadata": {},
     "output_type": "execute_result"
    },
    {
     "data": {
      "image/png": "[encoded data removed]",
      "text/plain": [
       "<Figure size 432x288 with 1 Axes>"
      ]
     },
     "metadata": {
      "needs_background": "light"
     },
     "output_type": "display_data"
    }
   ],
   "source": [
    "sns.lineplot(data=meanacts, x='delay', y='mean_activation')"
   ]
  },
  {
   "cell_type": "code",
   "execution_count": 33,
   "metadata": {},
   "outputs": [
    {
     "data": {
      "text/plain": [
       "array([ 0.00389948,  0.01276095,  0.00619961,  0.00592604,  0.00291533,\n",
       "       -0.00020063, -0.00537414, -0.00524818, -0.00425829, -0.0086823 ,\n",
       "        0.00358138,  0.00656354, -0.00348091,  0.00623646,  0.01074966,\n",
       "        0.01095719,  0.00030352, -0.00465014,  0.00321134,  0.00419845,\n",
       "        0.01139264,  0.00736276, -0.00430459,  0.01018451,  0.00892047,\n",
       "        0.00329142, -0.00814853, -0.00934182, -0.00617361,  0.00110029,\n",
       "        0.00683377,  0.00438258,  0.00242913,  0.01053932,  0.00246452,\n",
       "       -0.00636816, -0.00879785, -0.0036952 ,  0.00271836, -0.0010389 ,\n",
       "        0.02769768,  0.03104717,  0.03407262,  0.04240933,  0.0331856 ,\n",
       "        0.02642133,  0.00845229,  0.00214875, -0.00275137, -0.00037315,\n",
       "        0.01742162,  0.02271179,  0.02061762,  0.02592507,  0.01713237,\n",
       "        0.0081255 ,  0.00682532,  0.00318789, -0.00184334, -0.00109642,\n",
       "        0.01342093,  0.02054021,  0.01781074,  0.03101134,  0.02187366,\n",
       "        0.01589335,  0.01526138,  0.01054851, -0.00506446, -0.00930129,\n",
       "        0.02089354,  0.02357971,  0.02238593,  0.03583685,  0.03408876,\n",
       "        0.02221811,  0.01031075,  0.0095081 ,  0.00467441, -0.0041674 ,\n",
       "        0.00409085,  0.00563841,  0.01024085,  0.03121621,  0.03343239,\n",
       "        0.02951756,  0.01376316,  0.00303906, -0.00928607, -0.01091843,\n",
       "        0.00451445,  0.00431699,  0.01241181,  0.02670144,  0.03158021,\n",
       "        0.02766303,  0.01547854,  0.0144635 ,  0.00019694, -0.00088017,\n",
       "        0.01028972,  0.01951228,  0.0259583 ,  0.03875452,  0.04131647,\n",
       "        0.03501133,  0.02271102,  0.01602609,  0.00050544, -0.00231006,\n",
       "        0.00785313,  0.01021022,  0.01345836,  0.02413978,  0.02858629,\n",
       "        0.02760901,  0.01748508,  0.00162114, -0.00697686, -0.00849894,\n",
       "        0.01771188,  0.01930543,  0.02492524,  0.02839197,  0.01867821,\n",
       "        0.0065053 , -0.00371083, -0.00705663, -0.0116286 , -0.01219168,\n",
       "        0.02341755,  0.02335404,  0.02737187,  0.03826097,  0.02783472,\n",
       "        0.01849704, -0.00057213, -0.01113561, -0.01621534, -0.00512788,\n",
       "        0.0236217 ,  0.03365574,  0.03555071,  0.03903904,  0.02210412,\n",
       "        0.00741764, -0.0063591 , -0.01120414, -0.01621341, -0.00419897,\n",
       "       -0.00223249,  0.00714306,  0.02050765,  0.03253411,  0.023192  ,\n",
       "        0.01056661, -0.00624743, -0.01732446, -0.02696775, -0.01377169,\n",
       "       -0.00426925, -0.00733338, -0.00212731,  0.00305415, -0.01159919,\n",
       "       -0.02604691, -0.03788214, -0.02466742, -0.00915147,  0.00284862,\n",
       "       -0.00504574, -0.00845206,  0.00090293,  0.00939972, -0.01680404,\n",
       "       -0.04395538, -0.05697572, -0.04622307, -0.02714247, -0.02137682,\n",
       "        0.0096459 ,  0.01705973,  0.02174783,  0.01178359, -0.00608482,\n",
       "       -0.01539113, -0.0329492 , -0.03526626, -0.02481425, -0.00697315,\n",
       "        0.01252379,  0.0068604 ,  0.00275474,  0.00289285, -0.0133735 ,\n",
       "       -0.02837426, -0.04217196, -0.03574045, -0.02083714, -0.01243523,\n",
       "        0.041155  ,  0.053605  ,  0.06038394,  0.0755504 ,  0.05565368,\n",
       "        0.03551725,  0.01622413, -0.00365887, -0.00971247, -0.00684843,\n",
       "        0.02861626,  0.04154012,  0.05222588,  0.06314858,  0.0440345 ,\n",
       "        0.03847966,  0.02595184,  0.02292945,  0.01195693,  0.00488742,\n",
       "        0.02993748,  0.03957283,  0.04709167,  0.05319933,  0.03266126,\n",
       "        0.01660534,  0.00635777,  0.001119  ,  0.00164903, -0.00120913,\n",
       "        0.01953121,  0.02841585,  0.03486162,  0.04908538,  0.02757607,\n",
       "        0.0095766 ,  0.00055013, -0.02116218, -0.01811559, -0.00860858,\n",
       "        0.00143715, -0.01009864, -0.01324825, -0.00455492,  0.00976649,\n",
       "        0.01909223,  0.02041779,  0.01206981,  0.00532498,  0.00222862,\n",
       "       -0.00087894, -0.01314479, -0.0043554 ,  0.01493168,  0.0276524 ,\n",
       "        0.02746426,  0.0247218 ,  0.01880931, -0.00161425, -0.010765  ,\n",
       "       -0.00110589,  0.0026568 ,  0.0062183 ,  0.00991975,  0.01772857,\n",
       "        0.02013008,  0.01107204,  0.00785818,  0.00220071,  0.00279311,\n",
       "       -0.0002084 , -0.00609006, -0.00459407,  0.00542174,  0.01852947,\n",
       "        0.02823114,  0.02254111,  0.01929838,  0.01533177,  0.00439964],\n",
       "      dtype=float32)"
      ]
     },
     "execution_count": 33,
     "metadata": {},
     "output_type": "execute_result"
    }
   ],
   "source": [
    "np.nanmean(DS.samples, axis=1)"
   ]
  },
  {
   "cell_type": "code",
   "execution_count": 23,
   "metadata": {},
   "outputs": [],
   "source": [
    "splitsresults = quick_get_results('../../MVPA_results/trysplits.csv')"
   ]
  },
  {
   "cell_type": "code",
   "execution_count": 24,
   "metadata": {},
   "outputs": [
    {
     "data": {
      "text/html": [
       "<div>\n",
       "<style scoped>\n",
       "    .dataframe tbody tr th:only-of-type {\n",
       "        vertical-align: middle;\n",
       "    }\n",
       "\n",
       "    .dataframe tbody tr th {\n",
       "        vertical-align: top;\n",
       "    }\n",
       "\n",
       "    .dataframe thead th {\n",
       "        text-align: right;\n",
       "    }\n",
       "</style>\n",
       "<table border=\"1\" class=\"dataframe\">\n",
       "  <thead>\n",
       "    <tr style=\"text-align: right;\">\n",
       "      <th></th>\n",
       "      <th>correct</th>\n",
       "      <th>output</th>\n",
       "      <th>rawdistance</th>\n",
       "      <th>distance</th>\n",
       "      <th>chunk</th>\n",
       "      <th>split</th>\n",
       "      <th>view</th>\n",
       "      <th>expected</th>\n",
       "      <th>subject</th>\n",
       "      <th>roi</th>\n",
       "      <th>approach</th>\n",
       "      <th>traindataformat</th>\n",
       "      <th>testdataformat</th>\n",
       "      <th>traintask</th>\n",
       "      <th>testtask</th>\n",
       "      <th>trainmodel</th>\n",
       "      <th>testmodel</th>\n",
       "      <th>hemi</th>\n",
       "      <th>contrast</th>\n",
       "      <th>nvoxels</th>\n",
       "    </tr>\n",
       "  </thead>\n",
       "  <tbody>\n",
       "    <tr>\n",
       "      <th>0</th>\n",
       "      <td>0</td>\n",
       "      <td>0</td>\n",
       "      <td>6.740387</td>\n",
       "      <td>-1.292351</td>\n",
       "      <td>1</td>\n",
       "      <td>1.0</td>\n",
       "      <td>1</td>\n",
       "      <td>True</td>\n",
       "      <td>sub-001</td>\n",
       "      <td>ba-17-18</td>\n",
       "      <td>traintest</td>\n",
       "      <td>betas</td>\n",
       "      <td>betas</td>\n",
       "      <td>train</td>\n",
       "      <td>test</td>\n",
       "      <td>5</td>\n",
       "      <td>15</td>\n",
       "      <td>L</td>\n",
       "      <td>objscrvsbas</td>\n",
       "      <td>1000</td>\n",
       "    </tr>\n",
       "    <tr>\n",
       "      <th>1</th>\n",
       "      <td>0</td>\n",
       "      <td>1</td>\n",
       "      <td>-1.113025</td>\n",
       "      <td>-0.159367</td>\n",
       "      <td>1</td>\n",
       "      <td>1.0</td>\n",
       "      <td>1</td>\n",
       "      <td>True</td>\n",
       "      <td>sub-001</td>\n",
       "      <td>ba-17-18</td>\n",
       "      <td>traintest</td>\n",
       "      <td>betas</td>\n",
       "      <td>betas</td>\n",
       "      <td>train</td>\n",
       "      <td>test</td>\n",
       "      <td>5</td>\n",
       "      <td>15</td>\n",
       "      <td>L</td>\n",
       "      <td>objscrvsbas</td>\n",
       "      <td>1000</td>\n",
       "    </tr>\n",
       "    <tr>\n",
       "      <th>2</th>\n",
       "      <td>1</td>\n",
       "      <td>1</td>\n",
       "      <td>-11.306696</td>\n",
       "      <td>2.043687</td>\n",
       "      <td>2</td>\n",
       "      <td>1.0</td>\n",
       "      <td>1</td>\n",
       "      <td>True</td>\n",
       "      <td>sub-001</td>\n",
       "      <td>ba-17-18</td>\n",
       "      <td>traintest</td>\n",
       "      <td>betas</td>\n",
       "      <td>betas</td>\n",
       "      <td>train</td>\n",
       "      <td>test</td>\n",
       "      <td>5</td>\n",
       "      <td>15</td>\n",
       "      <td>L</td>\n",
       "      <td>objscrvsbas</td>\n",
       "      <td>1000</td>\n",
       "    </tr>\n",
       "    <tr>\n",
       "      <th>3</th>\n",
       "      <td>0</td>\n",
       "      <td>1</td>\n",
       "      <td>-1.486877</td>\n",
       "      <td>-0.228474</td>\n",
       "      <td>2</td>\n",
       "      <td>1.0</td>\n",
       "      <td>1</td>\n",
       "      <td>True</td>\n",
       "      <td>sub-001</td>\n",
       "      <td>ba-17-18</td>\n",
       "      <td>traintest</td>\n",
       "      <td>betas</td>\n",
       "      <td>betas</td>\n",
       "      <td>train</td>\n",
       "      <td>test</td>\n",
       "      <td>5</td>\n",
       "      <td>15</td>\n",
       "      <td>L</td>\n",
       "      <td>objscrvsbas</td>\n",
       "      <td>1000</td>\n",
       "    </tr>\n",
       "    <tr>\n",
       "      <th>4</th>\n",
       "      <td>1</td>\n",
       "      <td>1</td>\n",
       "      <td>-6.119120</td>\n",
       "      <td>1.084754</td>\n",
       "      <td>3</td>\n",
       "      <td>1.0</td>\n",
       "      <td>1</td>\n",
       "      <td>True</td>\n",
       "      <td>sub-001</td>\n",
       "      <td>ba-17-18</td>\n",
       "      <td>traintest</td>\n",
       "      <td>betas</td>\n",
       "      <td>betas</td>\n",
       "      <td>train</td>\n",
       "      <td>test</td>\n",
       "      <td>5</td>\n",
       "      <td>15</td>\n",
       "      <td>L</td>\n",
       "      <td>objscrvsbas</td>\n",
       "      <td>1000</td>\n",
       "    </tr>\n",
       "    <tr>\n",
       "      <th>...</th>\n",
       "      <td>...</td>\n",
       "      <td>...</td>\n",
       "      <td>...</td>\n",
       "      <td>...</td>\n",
       "      <td>...</td>\n",
       "      <td>...</td>\n",
       "      <td>...</td>\n",
       "      <td>...</td>\n",
       "      <td>...</td>\n",
       "      <td>...</td>\n",
       "      <td>...</td>\n",
       "      <td>...</td>\n",
       "      <td>...</td>\n",
       "      <td>...</td>\n",
       "      <td>...</td>\n",
       "      <td>...</td>\n",
       "      <td>...</td>\n",
       "      <td>...</td>\n",
       "      <td>...</td>\n",
       "      <td>...</td>\n",
       "    </tr>\n",
       "    <tr>\n",
       "      <th>875</th>\n",
       "      <td>1</td>\n",
       "      <td>0</td>\n",
       "      <td>3.767945</td>\n",
       "      <td>0.555136</td>\n",
       "      <td>3</td>\n",
       "      <td>none</td>\n",
       "      <td>2</td>\n",
       "      <td>none</td>\n",
       "      <td>sub-001</td>\n",
       "      <td>ba-17-18</td>\n",
       "      <td>traintest</td>\n",
       "      <td>betas</td>\n",
       "      <td>betas</td>\n",
       "      <td>test</td>\n",
       "      <td>train</td>\n",
       "      <td>17</td>\n",
       "      <td>5</td>\n",
       "      <td>R</td>\n",
       "      <td>objscrvsbas</td>\n",
       "      <td>1000</td>\n",
       "    </tr>\n",
       "    <tr>\n",
       "      <th>876</th>\n",
       "      <td>1</td>\n",
       "      <td>1</td>\n",
       "      <td>-7.455714</td>\n",
       "      <td>0.959596</td>\n",
       "      <td>3</td>\n",
       "      <td>none</td>\n",
       "      <td>2</td>\n",
       "      <td>none</td>\n",
       "      <td>sub-001</td>\n",
       "      <td>ba-17-18</td>\n",
       "      <td>traintest</td>\n",
       "      <td>betas</td>\n",
       "      <td>betas</td>\n",
       "      <td>test</td>\n",
       "      <td>train</td>\n",
       "      <td>17</td>\n",
       "      <td>5</td>\n",
       "      <td>R</td>\n",
       "      <td>objscrvsbas</td>\n",
       "      <td>1000</td>\n",
       "    </tr>\n",
       "    <tr>\n",
       "      <th>877</th>\n",
       "      <td>1</td>\n",
       "      <td>0</td>\n",
       "      <td>3.783438</td>\n",
       "      <td>0.557227</td>\n",
       "      <td>3</td>\n",
       "      <td>none</td>\n",
       "      <td>2</td>\n",
       "      <td>none</td>\n",
       "      <td>sub-001</td>\n",
       "      <td>ba-17-18</td>\n",
       "      <td>traintest</td>\n",
       "      <td>betas</td>\n",
       "      <td>betas</td>\n",
       "      <td>test</td>\n",
       "      <td>train</td>\n",
       "      <td>17</td>\n",
       "      <td>5</td>\n",
       "      <td>R</td>\n",
       "      <td>objscrvsbas</td>\n",
       "      <td>1000</td>\n",
       "    </tr>\n",
       "    <tr>\n",
       "      <th>878</th>\n",
       "      <td>1</td>\n",
       "      <td>1</td>\n",
       "      <td>-9.072401</td>\n",
       "      <td>1.177782</td>\n",
       "      <td>3</td>\n",
       "      <td>none</td>\n",
       "      <td>2</td>\n",
       "      <td>none</td>\n",
       "      <td>sub-001</td>\n",
       "      <td>ba-17-18</td>\n",
       "      <td>traintest</td>\n",
       "      <td>betas</td>\n",
       "      <td>betas</td>\n",
       "      <td>test</td>\n",
       "      <td>train</td>\n",
       "      <td>17</td>\n",
       "      <td>5</td>\n",
       "      <td>R</td>\n",
       "      <td>objscrvsbas</td>\n",
       "      <td>1000</td>\n",
       "    </tr>\n",
       "    <tr>\n",
       "      <th>879</th>\n",
       "      <td>0</td>\n",
       "      <td>1</td>\n",
       "      <td>-0.780217</td>\n",
       "      <td>-0.058679</td>\n",
       "      <td>3</td>\n",
       "      <td>none</td>\n",
       "      <td>2</td>\n",
       "      <td>none</td>\n",
       "      <td>sub-001</td>\n",
       "      <td>ba-17-18</td>\n",
       "      <td>traintest</td>\n",
       "      <td>betas</td>\n",
       "      <td>betas</td>\n",
       "      <td>test</td>\n",
       "      <td>train</td>\n",
       "      <td>17</td>\n",
       "      <td>5</td>\n",
       "      <td>R</td>\n",
       "      <td>objscrvsbas</td>\n",
       "      <td>1000</td>\n",
       "    </tr>\n",
       "  </tbody>\n",
       "</table>\n",
       "<p>880 rows × 20 columns</p>\n",
       "</div>"
      ],
      "text/plain": [
       "     correct  output  rawdistance  distance  chunk split  view expected  \\\n",
       "0          0       0     6.740387 -1.292351      1   1.0     1     True   \n",
       "1          0       1    -1.113025 -0.159367      1   1.0     1     True   \n",
       "2          1       1   -11.306696  2.043687      2   1.0     1     True   \n",
       "3          0       1    -1.486877 -0.228474      2   1.0     1     True   \n",
       "4          1       1    -6.119120  1.084754      3   1.0     1     True   \n",
       "..       ...     ...          ...       ...    ...   ...   ...      ...   \n",
       "875        1       0     3.767945  0.555136      3  none     2     none   \n",
       "876        1       1    -7.455714  0.959596      3  none     2     none   \n",
       "877        1       0     3.783438  0.557227      3  none     2     none   \n",
       "878        1       1    -9.072401  1.177782      3  none     2     none   \n",
       "879        0       1    -0.780217 -0.058679      3  none     2     none   \n",
       "\n",
       "     subject       roi   approach traindataformat testdataformat traintask  \\\n",
       "0    sub-001  ba-17-18  traintest           betas          betas     train   \n",
       "1    sub-001  ba-17-18  traintest           betas          betas     train   \n",
       "2    sub-001  ba-17-18  traintest           betas          betas     train   \n",
       "3    sub-001  ba-17-18  traintest           betas          betas     train   \n",
       "4    sub-001  ba-17-18  traintest           betas          betas     train   \n",
       "..       ...       ...        ...             ...            ...       ...   \n",
       "875  sub-001  ba-17-18  traintest           betas          betas      test   \n",
       "876  sub-001  ba-17-18  traintest           betas          betas      test   \n",
       "877  sub-001  ba-17-18  traintest           betas          betas      test   \n",
       "878  sub-001  ba-17-18  traintest           betas          betas      test   \n",
       "879  sub-001  ba-17-18  traintest           betas          betas      test   \n",
       "\n",
       "    testtask  trainmodel  testmodel hemi     contrast  nvoxels  \n",
       "0       test           5         15    L  objscrvsbas     1000  \n",
       "1       test           5         15    L  objscrvsbas     1000  \n",
       "2       test           5         15    L  objscrvsbas     1000  \n",
       "3       test           5         15    L  objscrvsbas     1000  \n",
       "4       test           5         15    L  objscrvsbas     1000  \n",
       "..       ...         ...        ...  ...          ...      ...  \n",
       "875    train          17          5    R  objscrvsbas     1000  \n",
       "876    train          17          5    R  objscrvsbas     1000  \n",
       "877    train          17          5    R  objscrvsbas     1000  \n",
       "878    train          17          5    R  objscrvsbas     1000  \n",
       "879    train          17          5    R  objscrvsbas     1000  \n",
       "\n",
       "[880 rows x 20 columns]"
      ]
     },
     "execution_count": 24,
     "metadata": {},
     "output_type": "execute_result"
    }
   ],
   "source": [
    "splitsresults"
   ]
  },
  {
   "cell_type": "code",
   "execution_count": 30,
   "metadata": {},
   "outputs": [
    {
     "name": "stderr",
     "output_type": "stream",
     "text": [
      "/home/predatt/giaald/.conda/envs/giacomo37/lib/python3.8/site-packages/pandas/core/indexing.py:1684: SettingWithCopyWarning: \n",
      "A value is trying to be set on a copy of a slice from a DataFrame.\n",
      "Try using .loc[row_indexer,col_indexer] = value instead\n",
      "\n",
      "See the caveats in the documentation: https://pandas.pydata.org/pandas-docs/stable/user_guide/indexing.html#returning-a-view-versus-a-copy\n",
      "  self.obj[key] = infer_fill_value(value)\n",
      "/home/predatt/giaald/.conda/envs/giacomo37/lib/python3.8/site-packages/pandas/core/indexing.py:1773: SettingWithCopyWarning: \n",
      "A value is trying to be set on a copy of a slice from a DataFrame.\n",
      "Try using .loc[row_indexer,col_indexer] = value instead\n",
      "\n",
      "See the caveats in the documentation: https://pandas.pydata.org/pandas-docs/stable/user_guide/indexing.html#returning-a-view-versus-a-copy\n",
      "  self._setitem_single_column(ilocs[0], value, pi)\n"
     ]
    }
   ],
   "source": [
    "combinedresults = combine_splits_all(splitsresults)"
   ]
  },
  {
   "cell_type": "code",
   "execution_count": 31,
   "metadata": {},
   "outputs": [
    {
     "data": {
      "text/html": [
       "<div>\n",
       "<style scoped>\n",
       "    .dataframe tbody tr th:only-of-type {\n",
       "        vertical-align: middle;\n",
       "    }\n",
       "\n",
       "    .dataframe tbody tr th {\n",
       "        vertical-align: top;\n",
       "    }\n",
       "\n",
       "    .dataframe thead th {\n",
       "        text-align: right;\n",
       "    }\n",
       "</style>\n",
       "<table border=\"1\" class=\"dataframe\">\n",
       "  <thead>\n",
       "    <tr style=\"text-align: right;\">\n",
       "      <th></th>\n",
       "      <th>index</th>\n",
       "      <th>correct</th>\n",
       "      <th>output</th>\n",
       "      <th>rawdistance</th>\n",
       "      <th>distance</th>\n",
       "      <th>chunk</th>\n",
       "      <th>view</th>\n",
       "      <th>trainmodel</th>\n",
       "      <th>testmodel</th>\n",
       "      <th>nvoxels</th>\n",
       "    </tr>\n",
       "  </thead>\n",
       "  <tbody>\n",
       "    <tr>\n",
       "      <th>0</th>\n",
       "      <td>0</td>\n",
       "      <td>0.666667</td>\n",
       "      <td>0.666667</td>\n",
       "      <td>-0.169861</td>\n",
       "      <td>-0.071864</td>\n",
       "      <td>1.0</td>\n",
       "      <td>1.0</td>\n",
       "      <td>5.0</td>\n",
       "      <td>15.0</td>\n",
       "      <td>1000.0</td>\n",
       "    </tr>\n",
       "    <tr>\n",
       "      <th>1</th>\n",
       "      <td>1</td>\n",
       "      <td>0.666667</td>\n",
       "      <td>0.333333</td>\n",
       "      <td>3.290165</td>\n",
       "      <td>0.565736</td>\n",
       "      <td>1.0</td>\n",
       "      <td>1.0</td>\n",
       "      <td>5.0</td>\n",
       "      <td>15.0</td>\n",
       "      <td>1000.0</td>\n",
       "    </tr>\n",
       "    <tr>\n",
       "      <th>2</th>\n",
       "      <td>0</td>\n",
       "      <td>0.666667</td>\n",
       "      <td>0.666667</td>\n",
       "      <td>-6.204854</td>\n",
       "      <td>0.995011</td>\n",
       "      <td>2.0</td>\n",
       "      <td>1.0</td>\n",
       "      <td>5.0</td>\n",
       "      <td>15.0</td>\n",
       "      <td>1000.0</td>\n",
       "    </tr>\n",
       "    <tr>\n",
       "      <th>3</th>\n",
       "      <td>1</td>\n",
       "      <td>0.000000</td>\n",
       "      <td>1.000000</td>\n",
       "      <td>-2.729532</td>\n",
       "      <td>-0.407811</td>\n",
       "      <td>2.0</td>\n",
       "      <td>1.0</td>\n",
       "      <td>5.0</td>\n",
       "      <td>15.0</td>\n",
       "      <td>1000.0</td>\n",
       "    </tr>\n",
       "    <tr>\n",
       "      <th>4</th>\n",
       "      <td>0</td>\n",
       "      <td>1.000000</td>\n",
       "      <td>1.000000</td>\n",
       "      <td>-4.573744</td>\n",
       "      <td>0.722932</td>\n",
       "      <td>3.0</td>\n",
       "      <td>1.0</td>\n",
       "      <td>5.0</td>\n",
       "      <td>15.0</td>\n",
       "      <td>1000.0</td>\n",
       "    </tr>\n",
       "    <tr>\n",
       "      <th>...</th>\n",
       "      <td>...</td>\n",
       "      <td>...</td>\n",
       "      <td>...</td>\n",
       "      <td>...</td>\n",
       "      <td>...</td>\n",
       "      <td>...</td>\n",
       "      <td>...</td>\n",
       "      <td>...</td>\n",
       "      <td>...</td>\n",
       "      <td>...</td>\n",
       "    </tr>\n",
       "    <tr>\n",
       "      <th>523</th>\n",
       "      <td>5</td>\n",
       "      <td>1.000000</td>\n",
       "      <td>0.000000</td>\n",
       "      <td>3.767945</td>\n",
       "      <td>0.555136</td>\n",
       "      <td>3.0</td>\n",
       "      <td>2.0</td>\n",
       "      <td>17.0</td>\n",
       "      <td>5.0</td>\n",
       "      <td>1000.0</td>\n",
       "    </tr>\n",
       "    <tr>\n",
       "      <th>524</th>\n",
       "      <td>6</td>\n",
       "      <td>1.000000</td>\n",
       "      <td>1.000000</td>\n",
       "      <td>-7.455714</td>\n",
       "      <td>0.959596</td>\n",
       "      <td>3.0</td>\n",
       "      <td>2.0</td>\n",
       "      <td>17.0</td>\n",
       "      <td>5.0</td>\n",
       "      <td>1000.0</td>\n",
       "    </tr>\n",
       "    <tr>\n",
       "      <th>525</th>\n",
       "      <td>7</td>\n",
       "      <td>1.000000</td>\n",
       "      <td>0.000000</td>\n",
       "      <td>3.783438</td>\n",
       "      <td>0.557227</td>\n",
       "      <td>3.0</td>\n",
       "      <td>2.0</td>\n",
       "      <td>17.0</td>\n",
       "      <td>5.0</td>\n",
       "      <td>1000.0</td>\n",
       "    </tr>\n",
       "    <tr>\n",
       "      <th>526</th>\n",
       "      <td>8</td>\n",
       "      <td>1.000000</td>\n",
       "      <td>1.000000</td>\n",
       "      <td>-9.072401</td>\n",
       "      <td>1.177782</td>\n",
       "      <td>3.0</td>\n",
       "      <td>2.0</td>\n",
       "      <td>17.0</td>\n",
       "      <td>5.0</td>\n",
       "      <td>1000.0</td>\n",
       "    </tr>\n",
       "    <tr>\n",
       "      <th>527</th>\n",
       "      <td>9</td>\n",
       "      <td>0.000000</td>\n",
       "      <td>1.000000</td>\n",
       "      <td>-0.780217</td>\n",
       "      <td>-0.058679</td>\n",
       "      <td>3.0</td>\n",
       "      <td>2.0</td>\n",
       "      <td>17.0</td>\n",
       "      <td>5.0</td>\n",
       "      <td>1000.0</td>\n",
       "    </tr>\n",
       "  </tbody>\n",
       "</table>\n",
       "<p>528 rows × 10 columns</p>\n",
       "</div>"
      ],
      "text/plain": [
       "     index   correct    output  rawdistance  distance  chunk  view  \\\n",
       "0        0  0.666667  0.666667    -0.169861 -0.071864    1.0   1.0   \n",
       "1        1  0.666667  0.333333     3.290165  0.565736    1.0   1.0   \n",
       "2        0  0.666667  0.666667    -6.204854  0.995011    2.0   1.0   \n",
       "3        1  0.000000  1.000000    -2.729532 -0.407811    2.0   1.0   \n",
       "4        0  1.000000  1.000000    -4.573744  0.722932    3.0   1.0   \n",
       "..     ...       ...       ...          ...       ...    ...   ...   \n",
       "523      5  1.000000  0.000000     3.767945  0.555136    3.0   2.0   \n",
       "524      6  1.000000  1.000000    -7.455714  0.959596    3.0   2.0   \n",
       "525      7  1.000000  0.000000     3.783438  0.557227    3.0   2.0   \n",
       "526      8  1.000000  1.000000    -9.072401  1.177782    3.0   2.0   \n",
       "527      9  0.000000  1.000000    -0.780217 -0.058679    3.0   2.0   \n",
       "\n",
       "     trainmodel  testmodel  nvoxels  \n",
       "0           5.0       15.0   1000.0  \n",
       "1           5.0       15.0   1000.0  \n",
       "2           5.0       15.0   1000.0  \n",
       "3           5.0       15.0   1000.0  \n",
       "4           5.0       15.0   1000.0  \n",
       "..          ...        ...      ...  \n",
       "523        17.0        5.0   1000.0  \n",
       "524        17.0        5.0   1000.0  \n",
       "525        17.0        5.0   1000.0  \n",
       "526        17.0        5.0   1000.0  \n",
       "527        17.0        5.0   1000.0  \n",
       "\n",
       "[528 rows x 10 columns]"
      ]
     },
     "execution_count": 31,
     "metadata": {},
     "output_type": "execute_result"
    }
   ],
   "source": [
    "combinedresults"
   ]
  },
  {
   "cell_type": "code",
   "execution_count": 12,
   "metadata": {},
   "outputs": [
    {
     "data": {
      "text/plain": [
       "array(['1.0', '2.0', '3.0', 'none'], dtype=object)"
      ]
     },
     "execution_count": 12,
     "metadata": {},
     "output_type": "execute_result"
    }
   ],
   "source": [
    "splitsresults.split.unique()"
   ]
  },
  {
   "cell_type": "code",
   "execution_count": null,
   "metadata": {},
   "outputs": [],
   "source": [
    "results = quick_get_results(['../../MVPA_results/mainanalysis.csv'])"
   ]
  },
  {
   "cell_type": "code",
   "execution_count": null,
   "metadata": {},
   "outputs": [],
   "source": [
    "results.head()"
   ]
  },
  {
   "cell_type": "code",
   "execution_count": null,
   "metadata": {},
   "outputs": [],
   "source": [
    "results = combine_splits_all(results)"
   ]
  },
  {
   "cell_type": "code",
   "execution_count": null,
   "metadata": {},
   "outputs": [],
   "source": [
    "results = fill_in_nvoxels(results)"
   ]
  },
  {
   "cell_type": "code",
   "execution_count": null,
   "metadata": {},
   "outputs": [],
   "source": [
    "results = results[(results['trainmodel']!='5_17')&(results['testmodel']!='5_17')]"
   ]
  },
  {
   "cell_type": "code",
   "execution_count": null,
   "metadata": {},
   "outputs": [],
   "source": [
    "results.roi.unique()"
   ]
  },
  {
   "cell_type": "code",
   "execution_count": null,
   "metadata": {},
   "outputs": [],
   "source": [
    "results.trainmodel.unique()"
   ]
  },
  {
   "cell_type": "code",
   "execution_count": null,
   "metadata": {},
   "outputs": [],
   "source": [
    "results.trainmodel.unique()"
   ]
  },
  {
   "cell_type": "code",
   "execution_count": null,
   "metadata": {},
   "outputs": [],
   "source": [
    "results.testmodel.unique()"
   ]
  },
  {
   "cell_type": "code",
   "execution_count": null,
   "metadata": {},
   "outputs": [],
   "source": [
    "results.subject.nunique()"
   ]
  },
  {
   "cell_type": "code",
   "execution_count": null,
   "metadata": {},
   "outputs": [],
   "source": [
    "EVCdata = results[(results['roi']=='ba-17-18')&(results['nvoxels']!='none')]\n",
    "LOCdata = results[(results['roi']=='LO')&(results['nvoxels']!='none')]"
   ]
  },
  {
   "cell_type": "code",
   "execution_count": null,
   "metadata": {},
   "outputs": [],
   "source": [
    "for nv in EVCdata.nvoxels.unique():\n",
    "    print(nv, '-', EVCdata[EVCdata['nvoxels']==nv].subject.nunique())"
   ]
  },
  {
   "cell_type": "code",
   "execution_count": null,
   "metadata": {},
   "outputs": [],
   "source": [
    "EVCdata.distance.max()"
   ]
  },
  {
   "cell_type": "code",
   "execution_count": null,
   "metadata": {},
   "outputs": [],
   "source": [
    "EVCdata.distance.min()"
   ]
  },
  {
   "cell_type": "code",
   "execution_count": null,
   "metadata": {},
   "outputs": [],
   "source": [
    "LOCdata.distance.max()"
   ]
  },
  {
   "cell_type": "code",
   "execution_count": null,
   "metadata": {},
   "outputs": [],
   "source": [
    "len(EVCdata)/34/30"
   ]
  },
  {
   "cell_type": "code",
   "execution_count": null,
   "metadata": {},
   "outputs": [],
   "source": [
    "EVCdata.roi.nunique()"
   ]
  },
  {
   "cell_type": "code",
   "execution_count": null,
   "metadata": {},
   "outputs": [],
   "source": [
    "plot_by_nvoxels(EVCdata)"
   ]
  },
  {
   "cell_type": "code",
   "execution_count": null,
   "metadata": {},
   "outputs": [],
   "source": [
    "plot_by_nvoxels(EVCdata)"
   ]
  },
  {
   "cell_type": "code",
   "execution_count": null,
   "metadata": {},
   "outputs": [],
   "source": [
    "'ba-17-18' in EVCdata.roi.unique()"
   ]
  },
  {
   "cell_type": "code",
   "execution_count": null,
   "metadata": {},
   "outputs": [],
   "source": [
    "EVCdata.roi"
   ]
  },
  {
   "cell_type": "code",
   "execution_count": null,
   "metadata": {},
   "outputs": [],
   "source": [
    "from plotting.plot import accs_to_diffs\n",
    "\n",
    "avgdiffs = accs_to_diffs(EVCdata)"
   ]
  },
  {
   "cell_type": "code",
   "execution_count": null,
   "metadata": {},
   "outputs": [],
   "source": [
    "avgdiffs = avgdiffs.groupby(['subject', 'hemi']).mean().reset_index()"
   ]
  },
  {
   "cell_type": "code",
   "execution_count": null,
   "metadata": {},
   "outputs": [],
   "source": [
    "avgdiffs.difference.max()"
   ]
  },
  {
   "cell_type": "code",
   "execution_count": null,
   "metadata": {},
   "outputs": [],
   "source": [
    "avgdiffs.difference.min()"
   ]
  },
  {
   "cell_type": "code",
   "execution_count": null,
   "metadata": {},
   "outputs": [],
   "source": [
    "plot_by_nvoxels(LOCdata)"
   ]
  },
  {
   "cell_type": "code",
   "execution_count": null,
   "metadata": {},
   "outputs": [],
   "source": [
    "plot_by_nvoxels(LOCdata)"
   ]
  },
  {
   "cell_type": "code",
   "execution_count": null,
   "metadata": {},
   "outputs": [],
   "source": [
    "maxvoxels = 3000\n",
    "['100']+[str(x) for x in np.arange(500, maxvoxels+500, 500)]"
   ]
  },
  {
   "cell_type": "code",
   "execution_count": null,
   "metadata": {},
   "outputs": [],
   "source": [
    "EVCdata[EVCdata['trainmodel']=='5_17'].correct.mean()"
   ]
  },
  {
   "cell_type": "code",
   "execution_count": null,
   "metadata": {},
   "outputs": [],
   "source": [
    "LOCdata[LOCdata['trainmodel']=='5_17'].correct.mean()"
   ]
  },
  {
   "cell_type": "code",
   "execution_count": null,
   "metadata": {},
   "outputs": [],
   "source": [
    "avgres"
   ]
  },
  {
   "cell_type": "code",
   "execution_count": null,
   "metadata": {},
   "outputs": [],
   "source": [
    "results[results['approach']=='CV'].chunk.unique()"
   ]
  },
  {
   "cell_type": "code",
   "execution_count": null,
   "metadata": {},
   "outputs": [],
   "source": [
    "from readresults.readres_mvpa import parse_roi_info"
   ]
  },
  {
   "cell_type": "code",
   "execution_count": null,
   "metadata": {},
   "outputs": [],
   "source": [
    "results_avg = results.groupby(['subject', 'roi']).mean().reset_index()"
   ]
  },
  {
   "cell_type": "code",
   "execution_count": null,
   "metadata": {},
   "outputs": [],
   "source": [
    "results = parse_roi_info(results)"
   ]
  },
  {
   "cell_type": "code",
   "execution_count": null,
   "metadata": {},
   "outputs": [],
   "source": [
    "results = results.drop(['chunk'], axis=1)"
   ]
  },
  {
   "cell_type": "code",
   "execution_count": null,
   "metadata": {},
   "outputs": [],
   "source": [
    "ind_vars = ['subject', 'roi', 'approach', \n",
    "            'traindataformat', 'testdataformat', 'traintask',\n",
    "            'testtask', 'trainmodel', 'testmodel', \n",
    "            'hemi', 'contrast', 'nvoxels']\n",
    "ind_vars = [i for i in ind_vars if i in results.columns and results[i].nunique() > 0]"
   ]
  },
  {
   "cell_type": "code",
   "execution_count": null,
   "metadata": {},
   "outputs": [],
   "source": [
    "results_avg = results.groupby(ind_vars).mean().reset_index()"
   ]
  },
  {
   "cell_type": "code",
   "execution_count": null,
   "metadata": {},
   "outputs": [],
   "source": [
    "results_avg = results_avg.drop(['chunk'], axis=1)"
   ]
  },
  {
   "cell_type": "code",
   "execution_count": null,
   "metadata": {},
   "outputs": [],
   "source": [
    "results_avg.head()"
   ]
  },
  {
   "cell_type": "code",
   "execution_count": null,
   "metadata": {},
   "outputs": [],
   "source": [
    "sns.barplot(data=results_avg, x='roi', y='distance')"
   ]
  },
  {
   "cell_type": "code",
   "execution_count": null,
   "metadata": {},
   "outputs": [],
   "source": [
    "allinfo = 'LO_contr-objscrvsbas_top-1000'.split('_')"
   ]
  },
  {
   "cell_type": "code",
   "execution_count": null,
   "metadata": {},
   "outputs": [],
   "source": [
    "allinfo[1] in ['L', 'R']"
   ]
  },
  {
   "cell_type": "code",
   "execution_count": null,
   "metadata": {},
   "outputs": [],
   "source": [
    "allinfo"
   ]
  },
  {
   "cell_type": "code",
   "execution_count": null,
   "metadata": {},
   "outputs": [],
   "source": [
    "contrindx = 1"
   ]
  },
  {
   "cell_type": "code",
   "execution_count": null,
   "metadata": {},
   "outputs": [],
   "source": [
    "allinfo[contrindx].split('contr-')[1]"
   ]
  },
  {
   "cell_type": "code",
   "execution_count": null,
   "metadata": {},
   "outputs": [],
   "source": [
    "a = [None, None, None]\n",
    "all(v is None for v in a)"
   ]
  },
  {
   "cell_type": "code",
   "execution_count": null,
   "metadata": {},
   "outputs": [],
   "source": [
    "sns.barplot(data=results, x='roi', y='correct')"
   ]
  },
  {
   "cell_type": "code",
   "execution_count": null,
   "metadata": {},
   "outputs": [],
   "source": [
    "results[results['roi'].isin(['rBA17_18_L', 'rBA17_18_R',\n",
    "                             'ba-17-18_L', 'ba-17-18_R'])].distance.mean()"
   ]
  },
  {
   "cell_type": "code",
   "execution_count": null,
   "metadata": {},
   "outputs": [],
   "source": [
    "outputs = [0.3, 4.0, 6.9, 2.0, 3.5, 0.1]\n",
    "targets = [4.7, 3.2, 1.0, 2.9, 3.2, 6.8]\n",
    "splits = [1, 1, 1, 2, 2, 2]\n",
    "example_res = pd.DataFrame(\n",
    "    list(zip(outputs, targets, splits)),\n",
    "    columns=['output', 'target', 'split'])"
   ]
  },
  {
   "cell_type": "code",
   "execution_count": null,
   "metadata": {},
   "outputs": [],
   "source": [
    "example_res"
   ]
  },
  {
   "cell_type": "code",
   "execution_count": null,
   "metadata": {},
   "outputs": [],
   "source": [
    "x = np.array([3, 4, 5])\n",
    "np.isin(x, [5])"
   ]
  },
  {
   "cell_type": "code",
   "execution_count": null,
   "metadata": {},
   "outputs": [],
   "source": [
    "example_res = np.nan\n",
    "isinstance(example_res, float) and pd.isnull(example_res)"
   ]
  },
  {
   "cell_type": "code",
   "execution_count": null,
   "metadata": {},
   "outputs": [],
   "source": [
    "pd.isna(example_res).all()"
   ]
  },
  {
   "cell_type": "code",
   "execution_count": null,
   "metadata": {},
   "outputs": [],
   "source": [
    "outs2 = [0.5, 0.65, 1.2]\n",
    "splits2 = [3, 3, 3]\n",
    "example_res_2 = pd.DataFrame(\n",
    "    list(zip(outs2, splits2)),\n",
    "    columns=['output', 'split'])"
   ]
  },
  {
   "cell_type": "code",
   "execution_count": null,
   "metadata": {},
   "outputs": [],
   "source": [
    "all_res = pd.concat([example_res, example_res_2])"
   ]
  },
  {
   "cell_type": "code",
   "execution_count": null,
   "metadata": {},
   "outputs": [],
   "source": [
    "all_res"
   ]
  },
  {
   "cell_type": "code",
   "execution_count": null,
   "metadata": {},
   "outputs": [],
   "source": [
    "for s in sorted(example_res.split.unique()):\n",
    "    thissplitlength = len(example_res[example_res['split']==s])\n",
    "    example_res.loc[example_res['split']==s, 'sample'] = list(range(thissplitlength))"
   ]
  },
  {
   "cell_type": "code",
   "execution_count": null,
   "metadata": {},
   "outputs": [],
   "source": [
    "groupedres = example_res.groupby('sample').mean().reset_index().drop(['sample', 'split'], axis=1)"
   ]
  },
  {
   "cell_type": "code",
   "execution_count": null,
   "metadata": {},
   "outputs": [],
   "source": [
    "groupedres"
   ]
  },
  {
   "cell_type": "code",
   "execution_count": null,
   "metadata": {},
   "outputs": [],
   "source": [
    "agg_functions = {'output': 'mean', 'target': 'sum'}\n",
    "\n",
    "#create new DataFrame by combining rows with same id values\n",
    "res_new = example_res.groupby(example_res['split']).aggregate(\n",
    "    agg_functions)"
   ]
  },
  {
   "cell_type": "code",
   "execution_count": null,
   "metadata": {},
   "outputs": [],
   "source": [
    "res_new"
   ]
  },
  {
   "cell_type": "code",
   "execution_count": null,
   "metadata": {},
   "outputs": [],
   "source": [
    "with open('/project/3018040.05/MVPA_results/traintest.pkl', 'rb') as f:\n",
    "    results = pkl.load(f)"
   ]
  },
  {
   "cell_type": "code",
   "execution_count": null,
   "metadata": {},
   "outputs": [],
   "source": [
    "res = results['train-trainm3-test-testm3_ba-17-18_L_betas'][0]\n",
    "accuracy = res[:, 0]==res[:, 1]\n",
    "res_df = pd.DataFrame(res, \n",
    "                      columns = ['output', 'target', 'distance', 'chunk'])"
   ]
  },
  {
   "cell_type": "code",
   "execution_count": null,
   "metadata": {},
   "outputs": [],
   "source": [
    "res_df['trialno'] = 1"
   ]
  },
  {
   "cell_type": "code",
   "execution_count": null,
   "metadata": {},
   "outputs": [],
   "source": [
    "res_df.to_numpy()"
   ]
  },
  {
   "cell_type": "code",
   "execution_count": null,
   "metadata": {},
   "outputs": [],
   "source": [
    "accuracy.shape"
   ]
  },
  {
   "cell_type": "code",
   "execution_count": null,
   "metadata": {},
   "outputs": [],
   "source": [
    "random = np.random.rand(accuracy.shape[0])"
   ]
  },
  {
   "cell_type": "code",
   "execution_count": null,
   "metadata": {},
   "outputs": [],
   "source": [
    "random"
   ]
  },
  {
   "cell_type": "code",
   "execution_count": null,
   "metadata": {},
   "outputs": [],
   "source": [
    "output = (res[:, 0] == np.unique(res[:, 1])[0]).astype(int)"
   ]
  },
  {
   "cell_type": "code",
   "execution_count": null,
   "metadata": {},
   "outputs": [],
   "source": [
    "output"
   ]
  },
  {
   "cell_type": "code",
   "execution_count": null,
   "metadata": {},
   "outputs": [],
   "source": [
    "np.mean([True, True, False])"
   ]
  },
  {
   "cell_type": "code",
   "execution_count": null,
   "metadata": {},
   "outputs": [],
   "source": [
    "outputs = "
   ]
  },
  {
   "cell_type": "code",
   "execution_count": null,
   "metadata": {},
   "outputs": [],
   "source": [
    "res_df.distance.dtype"
   ]
  },
  {
   "cell_type": "code",
   "execution_count": null,
   "metadata": {},
   "outputs": [],
   "source": [
    "results['train-trainm3-test-testm3_ba-17-18_L_betas'][0].shape"
   ]
  },
  {
   "cell_type": "code",
   "execution_count": null,
   "metadata": {},
   "outputs": [],
   "source": [
    "opt = Options()"
   ]
  },
  {
   "cell_type": "code",
   "execution_count": null,
   "metadata": {},
   "outputs": [],
   "source": [
    "import configs"
   ]
  },
  {
   "cell_type": "code",
   "execution_count": null,
   "metadata": {},
   "outputs": [],
   "source": [
    "dir(configs)"
   ]
  },
  {
   "cell_type": "code",
   "execution_count": null,
   "metadata": {},
   "outputs": [],
   "source": [
    "configs.mvpa_outdir"
   ]
  },
  {
   "cell_type": "code",
   "execution_count": null,
   "metadata": {},
   "outputs": [],
   "source": [
    "from configs import mvpa_outdir as data_dir"
   ]
  },
  {
   "cell_type": "code",
   "execution_count": null,
   "metadata": {},
   "outputs": [],
   "source": [
    "from six.moves import cPickle as pickle"
   ]
  },
  {
   "cell_type": "code",
   "execution_count": null,
   "metadata": {},
   "outputs": [],
   "source": [
    "data_dir"
   ]
  },
  {
   "cell_type": "code",
   "execution_count": null,
   "metadata": {},
   "outputs": [],
   "source": [
    "mvpa_datadir"
   ]
  },
  {
   "cell_type": "code",
   "execution_count": null,
   "metadata": {},
   "outputs": [],
   "source": [
    "x"
   ]
  },
  {
   "cell_type": "code",
   "execution_count": null,
   "metadata": {},
   "outputs": [],
   "source": [
    "opt.sub = 'sub-001'"
   ]
  },
  {
   "cell_type": "code",
   "execution_count": null,
   "metadata": {},
   "outputs": [],
   "source": [
    "opt.sub"
   ]
  },
  {
   "cell_type": "code",
   "execution_count": null,
   "metadata": {},
   "outputs": [],
   "source": [
    "eventsfile = '/project/3018040.05/bids/sub-001/func/sub-001_task-test_run-1_events.tsv'\n",
    "behavfile = '/project/3018040.05/bids/sub-001/func/sub-001_task-test_beh.tsv'\n",
    "events = pd.read_csv(eventsfile, sep='\\t')\n",
    "behav = pd.read_csv(behavfile, sep='\\t')"
   ]
  },
  {
   "cell_type": "code",
   "execution_count": null,
   "metadata": {},
   "outputs": [],
   "source": [
    "events"
   ]
  },
  {
   "cell_type": "code",
   "execution_count": null,
   "metadata": {},
   "outputs": [],
   "source": [
    "bedscenes = [2, 5, 6, 7, 9, 13, 14, 17, 18, 20]\n",
    "bedindx = behav.index[behav['Scene'].isin(bedscenes)]\n",
    "couchindx = behav.index[~behav['Scene'].isin(bedscenes)]"
   ]
  },
  {
   "cell_type": "code",
   "execution_count": null,
   "metadata": {},
   "outputs": [],
   "source": [
    "bedindx"
   ]
  },
  {
   "cell_type": "code",
   "execution_count": null,
   "metadata": {},
   "outputs": [],
   "source": [
    "couchindx"
   ]
  },
  {
   "cell_type": "code",
   "execution_count": null,
   "metadata": {},
   "outputs": [],
   "source": []
  }
 ],
 "metadata": {
  "kernelspec": {
   "display_name": "giacomo37",
   "language": "python",
   "name": "giacomo37"
  },
  "language_info": {
   "codemirror_mode": {
    "name": "ipython",
    "version": 3
   },
   "file_extension": ".py",
   "mimetype": "text/x-python",
   "name": "python",
   "nbconvert_exporter": "python",
   "pygments_lexer": "ipython3",
   "version": "3.8.5"
  }
 },
 "nbformat": 4,
 "nbformat_minor": 4
}
