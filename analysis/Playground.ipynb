{
 "cells": [
  {
   "cell_type": "code",
   "execution_count": 1,
   "metadata": {},
   "outputs": [
    {
     "name": "stderr",
     "output_type": "stream",
     "text": [
      "/home/predatt/giaald/.conda/envs/giacomo37/lib/python3.8/site-packages/outdated/utils.py:14: OutdatedPackageWarning: The package outdated is out of date. Your version is 0.2.1, the latest is 0.2.2.\n",
      "Set the environment variable OUTDATED_IGNORE=1 to disable these warnings.\n",
      "  return warn(\n",
      "/home/predatt/giaald/.conda/envs/giacomo37/lib/python3.8/site-packages/outdated/utils.py:14: OutdatedPackageWarning: The package pingouin is out of date. Your version is 0.5.0, the latest is 0.5.3.\n",
      "Set the environment variable OUTDATED_IGNORE=1 to disable these warnings.\n",
      "  return warn(\n"
     ]
    }
   ],
   "source": [
    "import pandas as pd\n",
    "from utils import Options\n",
    "import pickle as pkl\n",
    "import numpy as np\n",
    "from glob import glob\n",
    "from readresults.readres_mvpa import merge_results, parse_roi_info, \\\n",
    "    get_subj_avg, fill_in_nvoxels, quick_get_results, combine_splits_all\n",
    "import seaborn as sns\n",
    "from plotting.plot import plot_by_nvoxels\n",
    "import pingouin as pg\n",
    "\n",
    "%load_ext autoreload\n",
    "%autoreload 2"
   ]
  },
  {
   "cell_type": "code",
   "execution_count": 32,
   "metadata": {},
   "outputs": [],
   "source": [
    "maxnum = float('inf')"
   ]
  },
  {
   "cell_type": "code",
   "execution_count": 34,
   "metadata": {},
   "outputs": [
    {
     "data": {
      "text/plain": [
       "False"
      ]
     },
     "execution_count": 34,
     "metadata": {},
     "output_type": "execute_result"
    }
   ],
   "source": [
    "100 > maxnum"
   ]
  },
  {
   "cell_type": "code",
   "execution_count": 23,
   "metadata": {},
   "outputs": [],
   "source": [
    "splitsresults = quick_get_results('../../MVPA_results/trysplits.csv')"
   ]
  },
  {
   "cell_type": "code",
   "execution_count": 24,
   "metadata": {},
   "outputs": [
    {
     "data": {
      "text/html": [
       "<div>\n",
       "<style scoped>\n",
       "    .dataframe tbody tr th:only-of-type {\n",
       "        vertical-align: middle;\n",
       "    }\n",
       "\n",
       "    .dataframe tbody tr th {\n",
       "        vertical-align: top;\n",
       "    }\n",
       "\n",
       "    .dataframe thead th {\n",
       "        text-align: right;\n",
       "    }\n",
       "</style>\n",
       "<table border=\"1\" class=\"dataframe\">\n",
       "  <thead>\n",
       "    <tr style=\"text-align: right;\">\n",
       "      <th></th>\n",
       "      <th>correct</th>\n",
       "      <th>output</th>\n",
       "      <th>rawdistance</th>\n",
       "      <th>distance</th>\n",
       "      <th>chunk</th>\n",
       "      <th>split</th>\n",
       "      <th>view</th>\n",
       "      <th>expected</th>\n",
       "      <th>subject</th>\n",
       "      <th>roi</th>\n",
       "      <th>approach</th>\n",
       "      <th>traindataformat</th>\n",
       "      <th>testdataformat</th>\n",
       "      <th>traintask</th>\n",
       "      <th>testtask</th>\n",
       "      <th>trainmodel</th>\n",
       "      <th>testmodel</th>\n",
       "      <th>hemi</th>\n",
       "      <th>contrast</th>\n",
       "      <th>nvoxels</th>\n",
       "    </tr>\n",
       "  </thead>\n",
       "  <tbody>\n",
       "    <tr>\n",
       "      <th>0</th>\n",
       "      <td>0</td>\n",
       "      <td>0</td>\n",
       "      <td>6.740387</td>\n",
       "      <td>-1.292351</td>\n",
       "      <td>1</td>\n",
       "      <td>1.0</td>\n",
       "      <td>1</td>\n",
       "      <td>True</td>\n",
       "      <td>sub-001</td>\n",
       "      <td>ba-17-18</td>\n",
       "      <td>traintest</td>\n",
       "      <td>betas</td>\n",
       "      <td>betas</td>\n",
       "      <td>train</td>\n",
       "      <td>test</td>\n",
       "      <td>5</td>\n",
       "      <td>15</td>\n",
       "      <td>L</td>\n",
       "      <td>objscrvsbas</td>\n",
       "      <td>1000</td>\n",
       "    </tr>\n",
       "    <tr>\n",
       "      <th>1</th>\n",
       "      <td>0</td>\n",
       "      <td>1</td>\n",
       "      <td>-1.113025</td>\n",
       "      <td>-0.159367</td>\n",
       "      <td>1</td>\n",
       "      <td>1.0</td>\n",
       "      <td>1</td>\n",
       "      <td>True</td>\n",
       "      <td>sub-001</td>\n",
       "      <td>ba-17-18</td>\n",
       "      <td>traintest</td>\n",
       "      <td>betas</td>\n",
       "      <td>betas</td>\n",
       "      <td>train</td>\n",
       "      <td>test</td>\n",
       "      <td>5</td>\n",
       "      <td>15</td>\n",
       "      <td>L</td>\n",
       "      <td>objscrvsbas</td>\n",
       "      <td>1000</td>\n",
       "    </tr>\n",
       "    <tr>\n",
       "      <th>2</th>\n",
       "      <td>1</td>\n",
       "      <td>1</td>\n",
       "      <td>-11.306696</td>\n",
       "      <td>2.043687</td>\n",
       "      <td>2</td>\n",
       "      <td>1.0</td>\n",
       "      <td>1</td>\n",
       "      <td>True</td>\n",
       "      <td>sub-001</td>\n",
       "      <td>ba-17-18</td>\n",
       "      <td>traintest</td>\n",
       "      <td>betas</td>\n",
       "      <td>betas</td>\n",
       "      <td>train</td>\n",
       "      <td>test</td>\n",
       "      <td>5</td>\n",
       "      <td>15</td>\n",
       "      <td>L</td>\n",
       "      <td>objscrvsbas</td>\n",
       "      <td>1000</td>\n",
       "    </tr>\n",
       "    <tr>\n",
       "      <th>3</th>\n",
       "      <td>0</td>\n",
       "      <td>1</td>\n",
       "      <td>-1.486877</td>\n",
       "      <td>-0.228474</td>\n",
       "      <td>2</td>\n",
       "      <td>1.0</td>\n",
       "      <td>1</td>\n",
       "      <td>True</td>\n",
       "      <td>sub-001</td>\n",
       "      <td>ba-17-18</td>\n",
       "      <td>traintest</td>\n",
       "      <td>betas</td>\n",
       "      <td>betas</td>\n",
       "      <td>train</td>\n",
       "      <td>test</td>\n",
       "      <td>5</td>\n",
       "      <td>15</td>\n",
       "      <td>L</td>\n",
       "      <td>objscrvsbas</td>\n",
       "      <td>1000</td>\n",
       "    </tr>\n",
       "    <tr>\n",
       "      <th>4</th>\n",
       "      <td>1</td>\n",
       "      <td>1</td>\n",
       "      <td>-6.119120</td>\n",
       "      <td>1.084754</td>\n",
       "      <td>3</td>\n",
       "      <td>1.0</td>\n",
       "      <td>1</td>\n",
       "      <td>True</td>\n",
       "      <td>sub-001</td>\n",
       "      <td>ba-17-18</td>\n",
       "      <td>traintest</td>\n",
       "      <td>betas</td>\n",
       "      <td>betas</td>\n",
       "      <td>train</td>\n",
       "      <td>test</td>\n",
       "      <td>5</td>\n",
       "      <td>15</td>\n",
       "      <td>L</td>\n",
       "      <td>objscrvsbas</td>\n",
       "      <td>1000</td>\n",
       "    </tr>\n",
       "    <tr>\n",
       "      <th>...</th>\n",
       "      <td>...</td>\n",
       "      <td>...</td>\n",
       "      <td>...</td>\n",
       "      <td>...</td>\n",
       "      <td>...</td>\n",
       "      <td>...</td>\n",
       "      <td>...</td>\n",
       "      <td>...</td>\n",
       "      <td>...</td>\n",
       "      <td>...</td>\n",
       "      <td>...</td>\n",
       "      <td>...</td>\n",
       "      <td>...</td>\n",
       "      <td>...</td>\n",
       "      <td>...</td>\n",
       "      <td>...</td>\n",
       "      <td>...</td>\n",
       "      <td>...</td>\n",
       "      <td>...</td>\n",
       "      <td>...</td>\n",
       "    </tr>\n",
       "    <tr>\n",
       "      <th>875</th>\n",
       "      <td>1</td>\n",
       "      <td>0</td>\n",
       "      <td>3.767945</td>\n",
       "      <td>0.555136</td>\n",
       "      <td>3</td>\n",
       "      <td>none</td>\n",
       "      <td>2</td>\n",
       "      <td>none</td>\n",
       "      <td>sub-001</td>\n",
       "      <td>ba-17-18</td>\n",
       "      <td>traintest</td>\n",
       "      <td>betas</td>\n",
       "      <td>betas</td>\n",
       "      <td>test</td>\n",
       "      <td>train</td>\n",
       "      <td>17</td>\n",
       "      <td>5</td>\n",
       "      <td>R</td>\n",
       "      <td>objscrvsbas</td>\n",
       "      <td>1000</td>\n",
       "    </tr>\n",
       "    <tr>\n",
       "      <th>876</th>\n",
       "      <td>1</td>\n",
       "      <td>1</td>\n",
       "      <td>-7.455714</td>\n",
       "      <td>0.959596</td>\n",
       "      <td>3</td>\n",
       "      <td>none</td>\n",
       "      <td>2</td>\n",
       "      <td>none</td>\n",
       "      <td>sub-001</td>\n",
       "      <td>ba-17-18</td>\n",
       "      <td>traintest</td>\n",
       "      <td>betas</td>\n",
       "      <td>betas</td>\n",
       "      <td>test</td>\n",
       "      <td>train</td>\n",
       "      <td>17</td>\n",
       "      <td>5</td>\n",
       "      <td>R</td>\n",
       "      <td>objscrvsbas</td>\n",
       "      <td>1000</td>\n",
       "    </tr>\n",
       "    <tr>\n",
       "      <th>877</th>\n",
       "      <td>1</td>\n",
       "      <td>0</td>\n",
       "      <td>3.783438</td>\n",
       "      <td>0.557227</td>\n",
       "      <td>3</td>\n",
       "      <td>none</td>\n",
       "      <td>2</td>\n",
       "      <td>none</td>\n",
       "      <td>sub-001</td>\n",
       "      <td>ba-17-18</td>\n",
       "      <td>traintest</td>\n",
       "      <td>betas</td>\n",
       "      <td>betas</td>\n",
       "      <td>test</td>\n",
       "      <td>train</td>\n",
       "      <td>17</td>\n",
       "      <td>5</td>\n",
       "      <td>R</td>\n",
       "      <td>objscrvsbas</td>\n",
       "      <td>1000</td>\n",
       "    </tr>\n",
       "    <tr>\n",
       "      <th>878</th>\n",
       "      <td>1</td>\n",
       "      <td>1</td>\n",
       "      <td>-9.072401</td>\n",
       "      <td>1.177782</td>\n",
       "      <td>3</td>\n",
       "      <td>none</td>\n",
       "      <td>2</td>\n",
       "      <td>none</td>\n",
       "      <td>sub-001</td>\n",
       "      <td>ba-17-18</td>\n",
       "      <td>traintest</td>\n",
       "      <td>betas</td>\n",
       "      <td>betas</td>\n",
       "      <td>test</td>\n",
       "      <td>train</td>\n",
       "      <td>17</td>\n",
       "      <td>5</td>\n",
       "      <td>R</td>\n",
       "      <td>objscrvsbas</td>\n",
       "      <td>1000</td>\n",
       "    </tr>\n",
       "    <tr>\n",
       "      <th>879</th>\n",
       "      <td>0</td>\n",
       "      <td>1</td>\n",
       "      <td>-0.780217</td>\n",
       "      <td>-0.058679</td>\n",
       "      <td>3</td>\n",
       "      <td>none</td>\n",
       "      <td>2</td>\n",
       "      <td>none</td>\n",
       "      <td>sub-001</td>\n",
       "      <td>ba-17-18</td>\n",
       "      <td>traintest</td>\n",
       "      <td>betas</td>\n",
       "      <td>betas</td>\n",
       "      <td>test</td>\n",
       "      <td>train</td>\n",
       "      <td>17</td>\n",
       "      <td>5</td>\n",
       "      <td>R</td>\n",
       "      <td>objscrvsbas</td>\n",
       "      <td>1000</td>\n",
       "    </tr>\n",
       "  </tbody>\n",
       "</table>\n",
       "<p>880 rows × 20 columns</p>\n",
       "</div>"
      ],
      "text/plain": [
       "     correct  output  rawdistance  distance  chunk split  view expected  \\\n",
       "0          0       0     6.740387 -1.292351      1   1.0     1     True   \n",
       "1          0       1    -1.113025 -0.159367      1   1.0     1     True   \n",
       "2          1       1   -11.306696  2.043687      2   1.0     1     True   \n",
       "3          0       1    -1.486877 -0.228474      2   1.0     1     True   \n",
       "4          1       1    -6.119120  1.084754      3   1.0     1     True   \n",
       "..       ...     ...          ...       ...    ...   ...   ...      ...   \n",
       "875        1       0     3.767945  0.555136      3  none     2     none   \n",
       "876        1       1    -7.455714  0.959596      3  none     2     none   \n",
       "877        1       0     3.783438  0.557227      3  none     2     none   \n",
       "878        1       1    -9.072401  1.177782      3  none     2     none   \n",
       "879        0       1    -0.780217 -0.058679      3  none     2     none   \n",
       "\n",
       "     subject       roi   approach traindataformat testdataformat traintask  \\\n",
       "0    sub-001  ba-17-18  traintest           betas          betas     train   \n",
       "1    sub-001  ba-17-18  traintest           betas          betas     train   \n",
       "2    sub-001  ba-17-18  traintest           betas          betas     train   \n",
       "3    sub-001  ba-17-18  traintest           betas          betas     train   \n",
       "4    sub-001  ba-17-18  traintest           betas          betas     train   \n",
       "..       ...       ...        ...             ...            ...       ...   \n",
       "875  sub-001  ba-17-18  traintest           betas          betas      test   \n",
       "876  sub-001  ba-17-18  traintest           betas          betas      test   \n",
       "877  sub-001  ba-17-18  traintest           betas          betas      test   \n",
       "878  sub-001  ba-17-18  traintest           betas          betas      test   \n",
       "879  sub-001  ba-17-18  traintest           betas          betas      test   \n",
       "\n",
       "    testtask  trainmodel  testmodel hemi     contrast  nvoxels  \n",
       "0       test           5         15    L  objscrvsbas     1000  \n",
       "1       test           5         15    L  objscrvsbas     1000  \n",
       "2       test           5         15    L  objscrvsbas     1000  \n",
       "3       test           5         15    L  objscrvsbas     1000  \n",
       "4       test           5         15    L  objscrvsbas     1000  \n",
       "..       ...         ...        ...  ...          ...      ...  \n",
       "875    train          17          5    R  objscrvsbas     1000  \n",
       "876    train          17          5    R  objscrvsbas     1000  \n",
       "877    train          17          5    R  objscrvsbas     1000  \n",
       "878    train          17          5    R  objscrvsbas     1000  \n",
       "879    train          17          5    R  objscrvsbas     1000  \n",
       "\n",
       "[880 rows x 20 columns]"
      ]
     },
     "execution_count": 24,
     "metadata": {},
     "output_type": "execute_result"
    }
   ],
   "source": [
    "splitsresults"
   ]
  },
  {
   "cell_type": "code",
   "execution_count": 30,
   "metadata": {},
   "outputs": [
    {
     "name": "stderr",
     "output_type": "stream",
     "text": [
      "/home/predatt/giaald/.conda/envs/giacomo37/lib/python3.8/site-packages/pandas/core/indexing.py:1684: SettingWithCopyWarning: \n",
      "A value is trying to be set on a copy of a slice from a DataFrame.\n",
      "Try using .loc[row_indexer,col_indexer] = value instead\n",
      "\n",
      "See the caveats in the documentation: https://pandas.pydata.org/pandas-docs/stable/user_guide/indexing.html#returning-a-view-versus-a-copy\n",
      "  self.obj[key] = infer_fill_value(value)\n",
      "/home/predatt/giaald/.conda/envs/giacomo37/lib/python3.8/site-packages/pandas/core/indexing.py:1773: SettingWithCopyWarning: \n",
      "A value is trying to be set on a copy of a slice from a DataFrame.\n",
      "Try using .loc[row_indexer,col_indexer] = value instead\n",
      "\n",
      "See the caveats in the documentation: https://pandas.pydata.org/pandas-docs/stable/user_guide/indexing.html#returning-a-view-versus-a-copy\n",
      "  self._setitem_single_column(ilocs[0], value, pi)\n"
     ]
    }
   ],
   "source": [
    "combinedresults = combine_splits_all(splitsresults)"
   ]
  },
  {
   "cell_type": "code",
   "execution_count": 31,
   "metadata": {},
   "outputs": [
    {
     "data": {
      "text/html": [
       "<div>\n",
       "<style scoped>\n",
       "    .dataframe tbody tr th:only-of-type {\n",
       "        vertical-align: middle;\n",
       "    }\n",
       "\n",
       "    .dataframe tbody tr th {\n",
       "        vertical-align: top;\n",
       "    }\n",
       "\n",
       "    .dataframe thead th {\n",
       "        text-align: right;\n",
       "    }\n",
       "</style>\n",
       "<table border=\"1\" class=\"dataframe\">\n",
       "  <thead>\n",
       "    <tr style=\"text-align: right;\">\n",
       "      <th></th>\n",
       "      <th>index</th>\n",
       "      <th>correct</th>\n",
       "      <th>output</th>\n",
       "      <th>rawdistance</th>\n",
       "      <th>distance</th>\n",
       "      <th>chunk</th>\n",
       "      <th>view</th>\n",
       "      <th>trainmodel</th>\n",
       "      <th>testmodel</th>\n",
       "      <th>nvoxels</th>\n",
       "    </tr>\n",
       "  </thead>\n",
       "  <tbody>\n",
       "    <tr>\n",
       "      <th>0</th>\n",
       "      <td>0</td>\n",
       "      <td>0.666667</td>\n",
       "      <td>0.666667</td>\n",
       "      <td>-0.169861</td>\n",
       "      <td>-0.071864</td>\n",
       "      <td>1.0</td>\n",
       "      <td>1.0</td>\n",
       "      <td>5.0</td>\n",
       "      <td>15.0</td>\n",
       "      <td>1000.0</td>\n",
       "    </tr>\n",
       "    <tr>\n",
       "      <th>1</th>\n",
       "      <td>1</td>\n",
       "      <td>0.666667</td>\n",
       "      <td>0.333333</td>\n",
       "      <td>3.290165</td>\n",
       "      <td>0.565736</td>\n",
       "      <td>1.0</td>\n",
       "      <td>1.0</td>\n",
       "      <td>5.0</td>\n",
       "      <td>15.0</td>\n",
       "      <td>1000.0</td>\n",
       "    </tr>\n",
       "    <tr>\n",
       "      <th>2</th>\n",
       "      <td>0</td>\n",
       "      <td>0.666667</td>\n",
       "      <td>0.666667</td>\n",
       "      <td>-6.204854</td>\n",
       "      <td>0.995011</td>\n",
       "      <td>2.0</td>\n",
       "      <td>1.0</td>\n",
       "      <td>5.0</td>\n",
       "      <td>15.0</td>\n",
       "      <td>1000.0</td>\n",
       "    </tr>\n",
       "    <tr>\n",
       "      <th>3</th>\n",
       "      <td>1</td>\n",
       "      <td>0.000000</td>\n",
       "      <td>1.000000</td>\n",
       "      <td>-2.729532</td>\n",
       "      <td>-0.407811</td>\n",
       "      <td>2.0</td>\n",
       "      <td>1.0</td>\n",
       "      <td>5.0</td>\n",
       "      <td>15.0</td>\n",
       "      <td>1000.0</td>\n",
       "    </tr>\n",
       "    <tr>\n",
       "      <th>4</th>\n",
       "      <td>0</td>\n",
       "      <td>1.000000</td>\n",
       "      <td>1.000000</td>\n",
       "      <td>-4.573744</td>\n",
       "      <td>0.722932</td>\n",
       "      <td>3.0</td>\n",
       "      <td>1.0</td>\n",
       "      <td>5.0</td>\n",
       "      <td>15.0</td>\n",
       "      <td>1000.0</td>\n",
       "    </tr>\n",
       "    <tr>\n",
       "      <th>...</th>\n",
       "      <td>...</td>\n",
       "      <td>...</td>\n",
       "      <td>...</td>\n",
       "      <td>...</td>\n",
       "      <td>...</td>\n",
       "      <td>...</td>\n",
       "      <td>...</td>\n",
       "      <td>...</td>\n",
       "      <td>...</td>\n",
       "      <td>...</td>\n",
       "    </tr>\n",
       "    <tr>\n",
       "      <th>523</th>\n",
       "      <td>5</td>\n",
       "      <td>1.000000</td>\n",
       "      <td>0.000000</td>\n",
       "      <td>3.767945</td>\n",
       "      <td>0.555136</td>\n",
       "      <td>3.0</td>\n",
       "      <td>2.0</td>\n",
       "      <td>17.0</td>\n",
       "      <td>5.0</td>\n",
       "      <td>1000.0</td>\n",
       "    </tr>\n",
       "    <tr>\n",
       "      <th>524</th>\n",
       "      <td>6</td>\n",
       "      <td>1.000000</td>\n",
       "      <td>1.000000</td>\n",
       "      <td>-7.455714</td>\n",
       "      <td>0.959596</td>\n",
       "      <td>3.0</td>\n",
       "      <td>2.0</td>\n",
       "      <td>17.0</td>\n",
       "      <td>5.0</td>\n",
       "      <td>1000.0</td>\n",
       "    </tr>\n",
       "    <tr>\n",
       "      <th>525</th>\n",
       "      <td>7</td>\n",
       "      <td>1.000000</td>\n",
       "      <td>0.000000</td>\n",
       "      <td>3.783438</td>\n",
       "      <td>0.557227</td>\n",
       "      <td>3.0</td>\n",
       "      <td>2.0</td>\n",
       "      <td>17.0</td>\n",
       "      <td>5.0</td>\n",
       "      <td>1000.0</td>\n",
       "    </tr>\n",
       "    <tr>\n",
       "      <th>526</th>\n",
       "      <td>8</td>\n",
       "      <td>1.000000</td>\n",
       "      <td>1.000000</td>\n",
       "      <td>-9.072401</td>\n",
       "      <td>1.177782</td>\n",
       "      <td>3.0</td>\n",
       "      <td>2.0</td>\n",
       "      <td>17.0</td>\n",
       "      <td>5.0</td>\n",
       "      <td>1000.0</td>\n",
       "    </tr>\n",
       "    <tr>\n",
       "      <th>527</th>\n",
       "      <td>9</td>\n",
       "      <td>0.000000</td>\n",
       "      <td>1.000000</td>\n",
       "      <td>-0.780217</td>\n",
       "      <td>-0.058679</td>\n",
       "      <td>3.0</td>\n",
       "      <td>2.0</td>\n",
       "      <td>17.0</td>\n",
       "      <td>5.0</td>\n",
       "      <td>1000.0</td>\n",
       "    </tr>\n",
       "  </tbody>\n",
       "</table>\n",
       "<p>528 rows × 10 columns</p>\n",
       "</div>"
      ],
      "text/plain": [
       "     index   correct    output  rawdistance  distance  chunk  view  \\\n",
       "0        0  0.666667  0.666667    -0.169861 -0.071864    1.0   1.0   \n",
       "1        1  0.666667  0.333333     3.290165  0.565736    1.0   1.0   \n",
       "2        0  0.666667  0.666667    -6.204854  0.995011    2.0   1.0   \n",
       "3        1  0.000000  1.000000    -2.729532 -0.407811    2.0   1.0   \n",
       "4        0  1.000000  1.000000    -4.573744  0.722932    3.0   1.0   \n",
       "..     ...       ...       ...          ...       ...    ...   ...   \n",
       "523      5  1.000000  0.000000     3.767945  0.555136    3.0   2.0   \n",
       "524      6  1.000000  1.000000    -7.455714  0.959596    3.0   2.0   \n",
       "525      7  1.000000  0.000000     3.783438  0.557227    3.0   2.0   \n",
       "526      8  1.000000  1.000000    -9.072401  1.177782    3.0   2.0   \n",
       "527      9  0.000000  1.000000    -0.780217 -0.058679    3.0   2.0   \n",
       "\n",
       "     trainmodel  testmodel  nvoxels  \n",
       "0           5.0       15.0   1000.0  \n",
       "1           5.0       15.0   1000.0  \n",
       "2           5.0       15.0   1000.0  \n",
       "3           5.0       15.0   1000.0  \n",
       "4           5.0       15.0   1000.0  \n",
       "..          ...        ...      ...  \n",
       "523        17.0        5.0   1000.0  \n",
       "524        17.0        5.0   1000.0  \n",
       "525        17.0        5.0   1000.0  \n",
       "526        17.0        5.0   1000.0  \n",
       "527        17.0        5.0   1000.0  \n",
       "\n",
       "[528 rows x 10 columns]"
      ]
     },
     "execution_count": 31,
     "metadata": {},
     "output_type": "execute_result"
    }
   ],
   "source": [
    "combinedresults"
   ]
  },
  {
   "cell_type": "code",
   "execution_count": 12,
   "metadata": {},
   "outputs": [
    {
     "data": {
      "text/plain": [
       "array(['1.0', '2.0', '3.0', 'none'], dtype=object)"
      ]
     },
     "execution_count": 12,
     "metadata": {},
     "output_type": "execute_result"
    }
   ],
   "source": [
    "splitsresults.split.unique()"
   ]
  },
  {
   "cell_type": "code",
   "execution_count": null,
   "metadata": {},
   "outputs": [],
   "source": [
    "results = quick_get_results(['../../MVPA_results/mainanalysis.csv'])"
   ]
  },
  {
   "cell_type": "code",
   "execution_count": null,
   "metadata": {},
   "outputs": [],
   "source": [
    "results.head()"
   ]
  },
  {
   "cell_type": "code",
   "execution_count": null,
   "metadata": {},
   "outputs": [],
   "source": [
    "results = combine_splits_all(results)"
   ]
  },
  {
   "cell_type": "code",
   "execution_count": null,
   "metadata": {},
   "outputs": [],
   "source": [
    "results = fill_in_nvoxels(results)"
   ]
  },
  {
   "cell_type": "code",
   "execution_count": null,
   "metadata": {},
   "outputs": [],
   "source": [
    "results = results[(results['trainmodel']!='5_17')&(results['testmodel']!='5_17')]"
   ]
  },
  {
   "cell_type": "code",
   "execution_count": null,
   "metadata": {},
   "outputs": [],
   "source": [
    "results.roi.unique()"
   ]
  },
  {
   "cell_type": "code",
   "execution_count": null,
   "metadata": {},
   "outputs": [],
   "source": [
    "results.trainmodel.unique()"
   ]
  },
  {
   "cell_type": "code",
   "execution_count": null,
   "metadata": {},
   "outputs": [],
   "source": [
    "results.trainmodel.unique()"
   ]
  },
  {
   "cell_type": "code",
   "execution_count": null,
   "metadata": {},
   "outputs": [],
   "source": [
    "results.testmodel.unique()"
   ]
  },
  {
   "cell_type": "code",
   "execution_count": null,
   "metadata": {},
   "outputs": [],
   "source": [
    "results.subject.nunique()"
   ]
  },
  {
   "cell_type": "code",
   "execution_count": null,
   "metadata": {},
   "outputs": [],
   "source": [
    "EVCdata = results[(results['roi']=='ba-17-18')&(results['nvoxels']!='none')]\n",
    "LOCdata = results[(results['roi']=='LO')&(results['nvoxels']!='none')]"
   ]
  },
  {
   "cell_type": "code",
   "execution_count": null,
   "metadata": {},
   "outputs": [],
   "source": [
    "for nv in EVCdata.nvoxels.unique():\n",
    "    print(nv, '-', EVCdata[EVCdata['nvoxels']==nv].subject.nunique())"
   ]
  },
  {
   "cell_type": "code",
   "execution_count": null,
   "metadata": {},
   "outputs": [],
   "source": [
    "EVCdata.distance.max()"
   ]
  },
  {
   "cell_type": "code",
   "execution_count": null,
   "metadata": {},
   "outputs": [],
   "source": [
    "EVCdata.distance.min()"
   ]
  },
  {
   "cell_type": "code",
   "execution_count": null,
   "metadata": {},
   "outputs": [],
   "source": [
    "LOCdata.distance.max()"
   ]
  },
  {
   "cell_type": "code",
   "execution_count": null,
   "metadata": {},
   "outputs": [],
   "source": [
    "len(EVCdata)/34/30"
   ]
  },
  {
   "cell_type": "code",
   "execution_count": null,
   "metadata": {},
   "outputs": [],
   "source": [
    "EVCdata.roi.nunique()"
   ]
  },
  {
   "cell_type": "code",
   "execution_count": null,
   "metadata": {},
   "outputs": [],
   "source": [
    "plot_by_nvoxels(EVCdata)"
   ]
  },
  {
   "cell_type": "code",
   "execution_count": null,
   "metadata": {},
   "outputs": [],
   "source": [
    "plot_by_nvoxels(EVCdata)"
   ]
  },
  {
   "cell_type": "code",
   "execution_count": null,
   "metadata": {},
   "outputs": [],
   "source": [
    "'ba-17-18' in EVCdata.roi.unique()"
   ]
  },
  {
   "cell_type": "code",
   "execution_count": null,
   "metadata": {},
   "outputs": [],
   "source": [
    "EVCdata.roi"
   ]
  },
  {
   "cell_type": "code",
   "execution_count": null,
   "metadata": {},
   "outputs": [],
   "source": [
    "from plotting.plot import accs_to_diffs\n",
    "\n",
    "avgdiffs = accs_to_diffs(EVCdata)"
   ]
  },
  {
   "cell_type": "code",
   "execution_count": null,
   "metadata": {},
   "outputs": [],
   "source": [
    "avgdiffs = avgdiffs.groupby(['subject', 'hemi']).mean().reset_index()"
   ]
  },
  {
   "cell_type": "code",
   "execution_count": null,
   "metadata": {},
   "outputs": [],
   "source": [
    "avgdiffs.difference.max()"
   ]
  },
  {
   "cell_type": "code",
   "execution_count": null,
   "metadata": {},
   "outputs": [],
   "source": [
    "avgdiffs.difference.min()"
   ]
  },
  {
   "cell_type": "code",
   "execution_count": null,
   "metadata": {},
   "outputs": [],
   "source": [
    "plot_by_nvoxels(LOCdata)"
   ]
  },
  {
   "cell_type": "code",
   "execution_count": null,
   "metadata": {},
   "outputs": [],
   "source": [
    "plot_by_nvoxels(LOCdata)"
   ]
  },
  {
   "cell_type": "code",
   "execution_count": null,
   "metadata": {},
   "outputs": [],
   "source": [
    "maxvoxels = 3000\n",
    "['100']+[str(x) for x in np.arange(500, maxvoxels+500, 500)]"
   ]
  },
  {
   "cell_type": "code",
   "execution_count": null,
   "metadata": {},
   "outputs": [],
   "source": [
    "EVCdata[EVCdata['trainmodel']=='5_17'].correct.mean()"
   ]
  },
  {
   "cell_type": "code",
   "execution_count": null,
   "metadata": {},
   "outputs": [],
   "source": [
    "LOCdata[LOCdata['trainmodel']=='5_17'].correct.mean()"
   ]
  },
  {
   "cell_type": "code",
   "execution_count": null,
   "metadata": {},
   "outputs": [],
   "source": [
    "avgres"
   ]
  },
  {
   "cell_type": "code",
   "execution_count": null,
   "metadata": {},
   "outputs": [],
   "source": [
    "results[results['approach']=='CV'].chunk.unique()"
   ]
  },
  {
   "cell_type": "code",
   "execution_count": null,
   "metadata": {},
   "outputs": [],
   "source": [
    "from readresults.readres_mvpa import parse_roi_info"
   ]
  },
  {
   "cell_type": "code",
   "execution_count": null,
   "metadata": {},
   "outputs": [],
   "source": [
    "results_avg = results.groupby(['subject', 'roi']).mean().reset_index()"
   ]
  },
  {
   "cell_type": "code",
   "execution_count": null,
   "metadata": {},
   "outputs": [],
   "source": [
    "results = parse_roi_info(results)"
   ]
  },
  {
   "cell_type": "code",
   "execution_count": null,
   "metadata": {},
   "outputs": [],
   "source": [
    "results = results.drop(['chunk'], axis=1)"
   ]
  },
  {
   "cell_type": "code",
   "execution_count": null,
   "metadata": {},
   "outputs": [],
   "source": [
    "ind_vars = ['subject', 'roi', 'approach', \n",
    "            'traindataformat', 'testdataformat', 'traintask',\n",
    "            'testtask', 'trainmodel', 'testmodel', \n",
    "            'hemi', 'contrast', 'nvoxels']\n",
    "ind_vars = [i for i in ind_vars if i in results.columns and results[i].nunique() > 0]"
   ]
  },
  {
   "cell_type": "code",
   "execution_count": null,
   "metadata": {},
   "outputs": [],
   "source": [
    "results_avg = results.groupby(ind_vars).mean().reset_index()"
   ]
  },
  {
   "cell_type": "code",
   "execution_count": null,
   "metadata": {},
   "outputs": [],
   "source": [
    "results_avg = results_avg.drop(['chunk'], axis=1)"
   ]
  },
  {
   "cell_type": "code",
   "execution_count": null,
   "metadata": {},
   "outputs": [],
   "source": [
    "results_avg.head()"
   ]
  },
  {
   "cell_type": "code",
   "execution_count": null,
   "metadata": {},
   "outputs": [],
   "source": [
    "sns.barplot(data=results_avg, x='roi', y='distance')"
   ]
  },
  {
   "cell_type": "code",
   "execution_count": null,
   "metadata": {},
   "outputs": [],
   "source": [
    "allinfo = 'LO_contr-objscrvsbas_top-1000'.split('_')"
   ]
  },
  {
   "cell_type": "code",
   "execution_count": null,
   "metadata": {},
   "outputs": [],
   "source": [
    "allinfo[1] in ['L', 'R']"
   ]
  },
  {
   "cell_type": "code",
   "execution_count": null,
   "metadata": {},
   "outputs": [],
   "source": [
    "allinfo"
   ]
  },
  {
   "cell_type": "code",
   "execution_count": null,
   "metadata": {},
   "outputs": [],
   "source": [
    "contrindx = 1"
   ]
  },
  {
   "cell_type": "code",
   "execution_count": null,
   "metadata": {},
   "outputs": [],
   "source": [
    "allinfo[contrindx].split('contr-')[1]"
   ]
  },
  {
   "cell_type": "code",
   "execution_count": null,
   "metadata": {},
   "outputs": [],
   "source": [
    "a = [None, None, None]\n",
    "all(v is None for v in a)"
   ]
  },
  {
   "cell_type": "code",
   "execution_count": null,
   "metadata": {},
   "outputs": [],
   "source": [
    "sns.barplot(data=results, x='roi', y='correct')"
   ]
  },
  {
   "cell_type": "code",
   "execution_count": null,
   "metadata": {},
   "outputs": [],
   "source": [
    "results[results['roi'].isin(['rBA17_18_L', 'rBA17_18_R',\n",
    "                             'ba-17-18_L', 'ba-17-18_R'])].distance.mean()"
   ]
  },
  {
   "cell_type": "code",
   "execution_count": null,
   "metadata": {},
   "outputs": [],
   "source": [
    "outputs = [0.3, 4.0, 6.9, 2.0, 3.5, 0.1]\n",
    "targets = [4.7, 3.2, 1.0, 2.9, 3.2, 6.8]\n",
    "splits = [1, 1, 1, 2, 2, 2]\n",
    "example_res = pd.DataFrame(\n",
    "    list(zip(outputs, targets, splits)),\n",
    "    columns=['output', 'target', 'split'])"
   ]
  },
  {
   "cell_type": "code",
   "execution_count": null,
   "metadata": {},
   "outputs": [],
   "source": [
    "example_res"
   ]
  },
  {
   "cell_type": "code",
   "execution_count": null,
   "metadata": {},
   "outputs": [],
   "source": [
    "x = np.array([3, 4, 5])\n",
    "np.isin(x, [5])"
   ]
  },
  {
   "cell_type": "code",
   "execution_count": null,
   "metadata": {},
   "outputs": [],
   "source": [
    "example_res = np.nan\n",
    "isinstance(example_res, float) and pd.isnull(example_res)"
   ]
  },
  {
   "cell_type": "code",
   "execution_count": null,
   "metadata": {},
   "outputs": [],
   "source": [
    "pd.isna(example_res).all()"
   ]
  },
  {
   "cell_type": "code",
   "execution_count": null,
   "metadata": {},
   "outputs": [],
   "source": [
    "outs2 = [0.5, 0.65, 1.2]\n",
    "splits2 = [3, 3, 3]\n",
    "example_res_2 = pd.DataFrame(\n",
    "    list(zip(outs2, splits2)),\n",
    "    columns=['output', 'split'])"
   ]
  },
  {
   "cell_type": "code",
   "execution_count": null,
   "metadata": {},
   "outputs": [],
   "source": [
    "all_res = pd.concat([example_res, example_res_2])"
   ]
  },
  {
   "cell_type": "code",
   "execution_count": null,
   "metadata": {},
   "outputs": [],
   "source": [
    "all_res"
   ]
  },
  {
   "cell_type": "code",
   "execution_count": null,
   "metadata": {},
   "outputs": [],
   "source": [
    "for s in sorted(example_res.split.unique()):\n",
    "    thissplitlength = len(example_res[example_res['split']==s])\n",
    "    example_res.loc[example_res['split']==s, 'sample'] = list(range(thissplitlength))"
   ]
  },
  {
   "cell_type": "code",
   "execution_count": null,
   "metadata": {},
   "outputs": [],
   "source": [
    "groupedres = example_res.groupby('sample').mean().reset_index().drop(['sample', 'split'], axis=1)"
   ]
  },
  {
   "cell_type": "code",
   "execution_count": null,
   "metadata": {},
   "outputs": [],
   "source": [
    "groupedres"
   ]
  },
  {
   "cell_type": "code",
   "execution_count": null,
   "metadata": {},
   "outputs": [],
   "source": [
    "agg_functions = {'output': 'mean', 'target': 'sum'}\n",
    "\n",
    "#create new DataFrame by combining rows with same id values\n",
    "res_new = example_res.groupby(example_res['split']).aggregate(\n",
    "    agg_functions)"
   ]
  },
  {
   "cell_type": "code",
   "execution_count": null,
   "metadata": {},
   "outputs": [],
   "source": [
    "res_new"
   ]
  },
  {
   "cell_type": "code",
   "execution_count": null,
   "metadata": {},
   "outputs": [],
   "source": [
    "with open('/project/3018040.05/MVPA_results/traintest.pkl', 'rb') as f:\n",
    "    results = pkl.load(f)"
   ]
  },
  {
   "cell_type": "code",
   "execution_count": null,
   "metadata": {},
   "outputs": [],
   "source": [
    "res = results['train-trainm3-test-testm3_ba-17-18_L_betas'][0]\n",
    "accuracy = res[:, 0]==res[:, 1]\n",
    "res_df = pd.DataFrame(res, \n",
    "                      columns = ['output', 'target', 'distance', 'chunk'])"
   ]
  },
  {
   "cell_type": "code",
   "execution_count": null,
   "metadata": {},
   "outputs": [],
   "source": [
    "res_df['trialno'] = 1"
   ]
  },
  {
   "cell_type": "code",
   "execution_count": null,
   "metadata": {},
   "outputs": [],
   "source": [
    "res_df.to_numpy()"
   ]
  },
  {
   "cell_type": "code",
   "execution_count": null,
   "metadata": {},
   "outputs": [],
   "source": [
    "accuracy.shape"
   ]
  },
  {
   "cell_type": "code",
   "execution_count": null,
   "metadata": {},
   "outputs": [],
   "source": [
    "random = np.random.rand(accuracy.shape[0])"
   ]
  },
  {
   "cell_type": "code",
   "execution_count": null,
   "metadata": {},
   "outputs": [],
   "source": [
    "random"
   ]
  },
  {
   "cell_type": "code",
   "execution_count": null,
   "metadata": {},
   "outputs": [],
   "source": [
    "output = (res[:, 0] == np.unique(res[:, 1])[0]).astype(int)"
   ]
  },
  {
   "cell_type": "code",
   "execution_count": null,
   "metadata": {},
   "outputs": [],
   "source": [
    "output"
   ]
  },
  {
   "cell_type": "code",
   "execution_count": null,
   "metadata": {},
   "outputs": [],
   "source": [
    "np.mean([True, True, False])"
   ]
  },
  {
   "cell_type": "code",
   "execution_count": null,
   "metadata": {},
   "outputs": [],
   "source": [
    "outputs = "
   ]
  },
  {
   "cell_type": "code",
   "execution_count": null,
   "metadata": {},
   "outputs": [],
   "source": [
    "res_df.distance.dtype"
   ]
  },
  {
   "cell_type": "code",
   "execution_count": null,
   "metadata": {},
   "outputs": [],
   "source": [
    "results['train-trainm3-test-testm3_ba-17-18_L_betas'][0].shape"
   ]
  },
  {
   "cell_type": "code",
   "execution_count": null,
   "metadata": {},
   "outputs": [],
   "source": [
    "opt = Options()"
   ]
  },
  {
   "cell_type": "code",
   "execution_count": null,
   "metadata": {},
   "outputs": [],
   "source": [
    "import configs"
   ]
  },
  {
   "cell_type": "code",
   "execution_count": null,
   "metadata": {},
   "outputs": [],
   "source": [
    "dir(configs)"
   ]
  },
  {
   "cell_type": "code",
   "execution_count": null,
   "metadata": {},
   "outputs": [],
   "source": [
    "configs.mvpa_outdir"
   ]
  },
  {
   "cell_type": "code",
   "execution_count": null,
   "metadata": {},
   "outputs": [],
   "source": [
    "from configs import mvpa_outdir as data_dir"
   ]
  },
  {
   "cell_type": "code",
   "execution_count": null,
   "metadata": {},
   "outputs": [],
   "source": [
    "from six.moves import cPickle as pickle"
   ]
  },
  {
   "cell_type": "code",
   "execution_count": null,
   "metadata": {},
   "outputs": [],
   "source": [
    "data_dir"
   ]
  },
  {
   "cell_type": "code",
   "execution_count": null,
   "metadata": {},
   "outputs": [],
   "source": [
    "mvpa_datadir"
   ]
  },
  {
   "cell_type": "code",
   "execution_count": null,
   "metadata": {},
   "outputs": [],
   "source": [
    "x"
   ]
  },
  {
   "cell_type": "code",
   "execution_count": null,
   "metadata": {},
   "outputs": [],
   "source": [
    "opt.sub = 'sub-001'"
   ]
  },
  {
   "cell_type": "code",
   "execution_count": null,
   "metadata": {},
   "outputs": [],
   "source": [
    "opt.sub"
   ]
  },
  {
   "cell_type": "code",
   "execution_count": null,
   "metadata": {},
   "outputs": [],
   "source": [
    "eventsfile = '/project/3018040.05/bids/sub-001/func/sub-001_task-test_run-1_events.tsv'\n",
    "behavfile = '/project/3018040.05/bids/sub-001/func/sub-001_task-test_beh.tsv'\n",
    "events = pd.read_csv(eventsfile, sep='\\t')\n",
    "behav = pd.read_csv(behavfile, sep='\\t')"
   ]
  },
  {
   "cell_type": "code",
   "execution_count": null,
   "metadata": {},
   "outputs": [],
   "source": [
    "events"
   ]
  },
  {
   "cell_type": "code",
   "execution_count": null,
   "metadata": {},
   "outputs": [],
   "source": [
    "bedscenes = [2, 5, 6, 7, 9, 13, 14, 17, 18, 20]\n",
    "bedindx = behav.index[behav['Scene'].isin(bedscenes)]\n",
    "couchindx = behav.index[~behav['Scene'].isin(bedscenes)]"
   ]
  },
  {
   "cell_type": "code",
   "execution_count": null,
   "metadata": {},
   "outputs": [],
   "source": [
    "bedindx"
   ]
  },
  {
   "cell_type": "code",
   "execution_count": null,
   "metadata": {},
   "outputs": [],
   "source": [
    "couchindx"
   ]
  },
  {
   "cell_type": "code",
   "execution_count": null,
   "metadata": {},
   "outputs": [],
   "source": []
  }
 ],
 "metadata": {
  "kernelspec": {
   "display_name": "giacomo37",
   "language": "python",
   "name": "giacomo37"
  },
  "language_info": {
   "codemirror_mode": {
    "name": "ipython",
    "version": 3
   },
   "file_extension": ".py",
   "mimetype": "text/x-python",
   "name": "python",
   "nbconvert_exporter": "python",
   "pygments_lexer": "ipython3",
   "version": "3.8.5"
  }
 },
 "nbformat": 4,
 "nbformat_minor": 4
}
