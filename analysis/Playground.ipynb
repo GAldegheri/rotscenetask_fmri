{
 "cells": [
  {
   "cell_type": "code",
   "execution_count": 1,
   "metadata": {},
   "outputs": [],
   "source": [
    "import pandas as pd\n",
    "from utils import Options\n",
    "import pickle as pkl\n",
    "import numpy as np\n",
    "from glob import glob\n",
    "from readresults.readres_mvpa import merge_results, parse_roi_info, get_subj_avg\n",
    "import seaborn as sns\n",
    "\n",
    "%load_ext autoreload\n",
    "%autoreload 2"
   ]
  },
  {
   "cell_type": "code",
   "execution_count": 2,
   "metadata": {},
   "outputs": [],
   "source": [
    "reslist = glob('../../MVPA_results/mainanalysis.csv')"
   ]
  },
  {
   "cell_type": "code",
   "execution_count": 3,
   "metadata": {},
   "outputs": [],
   "source": [
    "results = merge_results(reslist)"
   ]
  },
  {
   "cell_type": "code",
   "execution_count": 4,
   "metadata": {},
   "outputs": [
    {
     "data": {
      "text/html": [
       "<div>\n",
       "<style scoped>\n",
       "    .dataframe tbody tr th:only-of-type {\n",
       "        vertical-align: middle;\n",
       "    }\n",
       "\n",
       "    .dataframe tbody tr th {\n",
       "        vertical-align: top;\n",
       "    }\n",
       "\n",
       "    .dataframe thead th {\n",
       "        text-align: right;\n",
       "    }\n",
       "</style>\n",
       "<table border=\"1\" class=\"dataframe\">\n",
       "  <thead>\n",
       "    <tr style=\"text-align: right;\">\n",
       "      <th></th>\n",
       "      <th>correct</th>\n",
       "      <th>output</th>\n",
       "      <th>rawdistance</th>\n",
       "      <th>distance</th>\n",
       "      <th>chunk</th>\n",
       "      <th>view</th>\n",
       "      <th>expected</th>\n",
       "      <th>subject</th>\n",
       "      <th>roi</th>\n",
       "      <th>approach</th>\n",
       "      <th>traindataformat</th>\n",
       "      <th>testdataformat</th>\n",
       "      <th>traintask</th>\n",
       "      <th>testtask</th>\n",
       "      <th>trainmodel</th>\n",
       "      <th>testmodel</th>\n",
       "    </tr>\n",
       "  </thead>\n",
       "  <tbody>\n",
       "    <tr>\n",
       "      <th>0</th>\n",
       "      <td>0.666667</td>\n",
       "      <td>0.666667</td>\n",
       "      <td>-1.244251</td>\n",
       "      <td>0.483668</td>\n",
       "      <td>1.0</td>\n",
       "      <td>1</td>\n",
       "      <td>True</td>\n",
       "      <td>sub-001</td>\n",
       "      <td>ba-17-18_L_contr-objscrvsbas_top-100</td>\n",
       "      <td>traintest</td>\n",
       "      <td>betas</td>\n",
       "      <td>betas</td>\n",
       "      <td>train</td>\n",
       "      <td>test</td>\n",
       "      <td>5</td>\n",
       "      <td>15</td>\n",
       "    </tr>\n",
       "    <tr>\n",
       "      <th>1</th>\n",
       "      <td>1.000000</td>\n",
       "      <td>0.000000</td>\n",
       "      <td>1.695260</td>\n",
       "      <td>0.862563</td>\n",
       "      <td>1.0</td>\n",
       "      <td>1</td>\n",
       "      <td>True</td>\n",
       "      <td>sub-001</td>\n",
       "      <td>ba-17-18_L_contr-objscrvsbas_top-100</td>\n",
       "      <td>traintest</td>\n",
       "      <td>betas</td>\n",
       "      <td>betas</td>\n",
       "      <td>train</td>\n",
       "      <td>test</td>\n",
       "      <td>5</td>\n",
       "      <td>15</td>\n",
       "    </tr>\n",
       "    <tr>\n",
       "      <th>2</th>\n",
       "      <td>1.000000</td>\n",
       "      <td>1.000000</td>\n",
       "      <td>-2.582819</td>\n",
       "      <td>1.278971</td>\n",
       "      <td>2.0</td>\n",
       "      <td>1</td>\n",
       "      <td>True</td>\n",
       "      <td>sub-001</td>\n",
       "      <td>ba-17-18_L_contr-objscrvsbas_top-100</td>\n",
       "      <td>traintest</td>\n",
       "      <td>betas</td>\n",
       "      <td>betas</td>\n",
       "      <td>train</td>\n",
       "      <td>test</td>\n",
       "      <td>5</td>\n",
       "      <td>15</td>\n",
       "    </tr>\n",
       "    <tr>\n",
       "      <th>3</th>\n",
       "      <td>0.000000</td>\n",
       "      <td>1.000000</td>\n",
       "      <td>-0.567846</td>\n",
       "      <td>-0.266178</td>\n",
       "      <td>2.0</td>\n",
       "      <td>1</td>\n",
       "      <td>True</td>\n",
       "      <td>sub-001</td>\n",
       "      <td>ba-17-18_L_contr-objscrvsbas_top-100</td>\n",
       "      <td>traintest</td>\n",
       "      <td>betas</td>\n",
       "      <td>betas</td>\n",
       "      <td>train</td>\n",
       "      <td>test</td>\n",
       "      <td>5</td>\n",
       "      <td>15</td>\n",
       "    </tr>\n",
       "    <tr>\n",
       "      <th>4</th>\n",
       "      <td>1.000000</td>\n",
       "      <td>1.000000</td>\n",
       "      <td>-0.849631</td>\n",
       "      <td>0.380785</td>\n",
       "      <td>3.0</td>\n",
       "      <td>1</td>\n",
       "      <td>True</td>\n",
       "      <td>sub-001</td>\n",
       "      <td>ba-17-18_L_contr-objscrvsbas_top-100</td>\n",
       "      <td>traintest</td>\n",
       "      <td>betas</td>\n",
       "      <td>betas</td>\n",
       "      <td>train</td>\n",
       "      <td>test</td>\n",
       "      <td>5</td>\n",
       "      <td>15</td>\n",
       "    </tr>\n",
       "    <tr>\n",
       "      <th>...</th>\n",
       "      <td>...</td>\n",
       "      <td>...</td>\n",
       "      <td>...</td>\n",
       "      <td>...</td>\n",
       "      <td>...</td>\n",
       "      <td>...</td>\n",
       "      <td>...</td>\n",
       "      <td>...</td>\n",
       "      <td>...</td>\n",
       "      <td>...</td>\n",
       "      <td>...</td>\n",
       "      <td>...</td>\n",
       "      <td>...</td>\n",
       "      <td>...</td>\n",
       "      <td>...</td>\n",
       "      <td>...</td>\n",
       "    </tr>\n",
       "    <tr>\n",
       "      <th>783019</th>\n",
       "      <td>0.000000</td>\n",
       "      <td>1.000000</td>\n",
       "      <td>-5.621240</td>\n",
       "      <td>-0.877734</td>\n",
       "      <td>3.0</td>\n",
       "      <td>2</td>\n",
       "      <td>NaN</td>\n",
       "      <td>sub-035</td>\n",
       "      <td>LO_R</td>\n",
       "      <td>traintest</td>\n",
       "      <td>betas</td>\n",
       "      <td>betas</td>\n",
       "      <td>test</td>\n",
       "      <td>train</td>\n",
       "      <td>17</td>\n",
       "      <td>5</td>\n",
       "    </tr>\n",
       "    <tr>\n",
       "      <th>783020</th>\n",
       "      <td>1.000000</td>\n",
       "      <td>1.000000</td>\n",
       "      <td>-0.699427</td>\n",
       "      <td>0.132047</td>\n",
       "      <td>3.0</td>\n",
       "      <td>2</td>\n",
       "      <td>NaN</td>\n",
       "      <td>sub-035</td>\n",
       "      <td>LO_R</td>\n",
       "      <td>traintest</td>\n",
       "      <td>betas</td>\n",
       "      <td>betas</td>\n",
       "      <td>test</td>\n",
       "      <td>train</td>\n",
       "      <td>17</td>\n",
       "      <td>5</td>\n",
       "    </tr>\n",
       "    <tr>\n",
       "      <th>783021</th>\n",
       "      <td>0.000000</td>\n",
       "      <td>1.000000</td>\n",
       "      <td>-4.216521</td>\n",
       "      <td>-0.664910</td>\n",
       "      <td>3.0</td>\n",
       "      <td>2</td>\n",
       "      <td>NaN</td>\n",
       "      <td>sub-035</td>\n",
       "      <td>LO_R</td>\n",
       "      <td>traintest</td>\n",
       "      <td>betas</td>\n",
       "      <td>betas</td>\n",
       "      <td>test</td>\n",
       "      <td>train</td>\n",
       "      <td>17</td>\n",
       "      <td>5</td>\n",
       "    </tr>\n",
       "    <tr>\n",
       "      <th>783022</th>\n",
       "      <td>1.000000</td>\n",
       "      <td>1.000000</td>\n",
       "      <td>-1.742733</td>\n",
       "      <td>0.290115</td>\n",
       "      <td>3.0</td>\n",
       "      <td>2</td>\n",
       "      <td>NaN</td>\n",
       "      <td>sub-035</td>\n",
       "      <td>LO_R</td>\n",
       "      <td>traintest</td>\n",
       "      <td>betas</td>\n",
       "      <td>betas</td>\n",
       "      <td>test</td>\n",
       "      <td>train</td>\n",
       "      <td>17</td>\n",
       "      <td>5</td>\n",
       "    </tr>\n",
       "    <tr>\n",
       "      <th>783023</th>\n",
       "      <td>1.000000</td>\n",
       "      <td>0.000000</td>\n",
       "      <td>11.486028</td>\n",
       "      <td>1.714130</td>\n",
       "      <td>3.0</td>\n",
       "      <td>2</td>\n",
       "      <td>NaN</td>\n",
       "      <td>sub-035</td>\n",
       "      <td>LO_R</td>\n",
       "      <td>traintest</td>\n",
       "      <td>betas</td>\n",
       "      <td>betas</td>\n",
       "      <td>test</td>\n",
       "      <td>train</td>\n",
       "      <td>17</td>\n",
       "      <td>5</td>\n",
       "    </tr>\n",
       "  </tbody>\n",
       "</table>\n",
       "<p>783024 rows × 16 columns</p>\n",
       "</div>"
      ],
      "text/plain": [
       "         correct    output  rawdistance  distance  chunk  view expected  \\\n",
       "0       0.666667  0.666667    -1.244251  0.483668    1.0     1     True   \n",
       "1       1.000000  0.000000     1.695260  0.862563    1.0     1     True   \n",
       "2       1.000000  1.000000    -2.582819  1.278971    2.0     1     True   \n",
       "3       0.000000  1.000000    -0.567846 -0.266178    2.0     1     True   \n",
       "4       1.000000  1.000000    -0.849631  0.380785    3.0     1     True   \n",
       "...          ...       ...          ...       ...    ...   ...      ...   \n",
       "783019  0.000000  1.000000    -5.621240 -0.877734    3.0     2      NaN   \n",
       "783020  1.000000  1.000000    -0.699427  0.132047    3.0     2      NaN   \n",
       "783021  0.000000  1.000000    -4.216521 -0.664910    3.0     2      NaN   \n",
       "783022  1.000000  1.000000    -1.742733  0.290115    3.0     2      NaN   \n",
       "783023  1.000000  0.000000    11.486028  1.714130    3.0     2      NaN   \n",
       "\n",
       "        subject                                   roi   approach  \\\n",
       "0       sub-001  ba-17-18_L_contr-objscrvsbas_top-100  traintest   \n",
       "1       sub-001  ba-17-18_L_contr-objscrvsbas_top-100  traintest   \n",
       "2       sub-001  ba-17-18_L_contr-objscrvsbas_top-100  traintest   \n",
       "3       sub-001  ba-17-18_L_contr-objscrvsbas_top-100  traintest   \n",
       "4       sub-001  ba-17-18_L_contr-objscrvsbas_top-100  traintest   \n",
       "...         ...                                   ...        ...   \n",
       "783019  sub-035                                  LO_R  traintest   \n",
       "783020  sub-035                                  LO_R  traintest   \n",
       "783021  sub-035                                  LO_R  traintest   \n",
       "783022  sub-035                                  LO_R  traintest   \n",
       "783023  sub-035                                  LO_R  traintest   \n",
       "\n",
       "       traindataformat testdataformat traintask testtask  trainmodel  \\\n",
       "0                betas          betas     train     test           5   \n",
       "1                betas          betas     train     test           5   \n",
       "2                betas          betas     train     test           5   \n",
       "3                betas          betas     train     test           5   \n",
       "4                betas          betas     train     test           5   \n",
       "...                ...            ...       ...      ...         ...   \n",
       "783019           betas          betas      test    train          17   \n",
       "783020           betas          betas      test    train          17   \n",
       "783021           betas          betas      test    train          17   \n",
       "783022           betas          betas      test    train          17   \n",
       "783023           betas          betas      test    train          17   \n",
       "\n",
       "        testmodel  \n",
       "0              15  \n",
       "1              15  \n",
       "2              15  \n",
       "3              15  \n",
       "4              15  \n",
       "...           ...  \n",
       "783019          5  \n",
       "783020          5  \n",
       "783021          5  \n",
       "783022          5  \n",
       "783023          5  \n",
       "\n",
       "[783024 rows x 16 columns]"
      ]
     },
     "execution_count": 4,
     "metadata": {},
     "output_type": "execute_result"
    }
   ],
   "source": [
    "results"
   ]
  },
  {
   "cell_type": "code",
   "execution_count": 8,
   "metadata": {},
   "outputs": [
    {
     "data": {
      "text/plain": [
       "array([1, 2])"
      ]
     },
     "execution_count": 8,
     "metadata": {},
     "output_type": "execute_result"
    }
   ],
   "source": [
    "results.view.unique()"
   ]
  },
  {
   "cell_type": "code",
   "execution_count": 9,
   "metadata": {},
   "outputs": [],
   "source": [
    "avgres = get_subj_avg(results, avg_decodedirs=False)"
   ]
  },
  {
   "cell_type": "code",
   "execution_count": 13,
   "metadata": {},
   "outputs": [
    {
     "data": {
      "text/html": [
       "<div>\n",
       "<style scoped>\n",
       "    .dataframe tbody tr th:only-of-type {\n",
       "        vertical-align: middle;\n",
       "    }\n",
       "\n",
       "    .dataframe tbody tr th {\n",
       "        vertical-align: top;\n",
       "    }\n",
       "\n",
       "    .dataframe thead th {\n",
       "        text-align: right;\n",
       "    }\n",
       "</style>\n",
       "<table border=\"1\" class=\"dataframe\">\n",
       "  <thead>\n",
       "    <tr style=\"text-align: right;\">\n",
       "      <th></th>\n",
       "      <th>subject</th>\n",
       "      <th>roi</th>\n",
       "      <th>approach</th>\n",
       "      <th>traindataformat</th>\n",
       "      <th>testdataformat</th>\n",
       "      <th>traintask</th>\n",
       "      <th>testtask</th>\n",
       "      <th>trainmodel</th>\n",
       "      <th>testmodel</th>\n",
       "      <th>correct</th>\n",
       "      <th>output</th>\n",
       "      <th>rawdistance</th>\n",
       "      <th>distance</th>\n",
       "    </tr>\n",
       "  </thead>\n",
       "  <tbody>\n",
       "    <tr>\n",
       "      <th>0</th>\n",
       "      <td>sub-001</td>\n",
       "      <td>LO_L</td>\n",
       "      <td>traintest</td>\n",
       "      <td>betas</td>\n",
       "      <td>betas</td>\n",
       "      <td>test</td>\n",
       "      <td>train</td>\n",
       "      <td>15</td>\n",
       "      <td>5</td>\n",
       "      <td>0.522222</td>\n",
       "      <td>0.494444</td>\n",
       "      <td>2.102088e-02</td>\n",
       "      <td>0.164589</td>\n",
       "    </tr>\n",
       "    <tr>\n",
       "      <th>1</th>\n",
       "      <td>sub-001</td>\n",
       "      <td>LO_L</td>\n",
       "      <td>traintest</td>\n",
       "      <td>betas</td>\n",
       "      <td>betas</td>\n",
       "      <td>test</td>\n",
       "      <td>train</td>\n",
       "      <td>17</td>\n",
       "      <td>5</td>\n",
       "      <td>0.616667</td>\n",
       "      <td>0.516667</td>\n",
       "      <td>-1.701254e-07</td>\n",
       "      <td>0.214297</td>\n",
       "    </tr>\n",
       "    <tr>\n",
       "      <th>2</th>\n",
       "      <td>sub-001</td>\n",
       "      <td>LO_L</td>\n",
       "      <td>traintest</td>\n",
       "      <td>betas</td>\n",
       "      <td>betas</td>\n",
       "      <td>train</td>\n",
       "      <td>test</td>\n",
       "      <td>5</td>\n",
       "      <td>15</td>\n",
       "      <td>0.547619</td>\n",
       "      <td>0.523810</td>\n",
       "      <td>-1.546702e-01</td>\n",
       "      <td>0.205074</td>\n",
       "    </tr>\n",
       "    <tr>\n",
       "      <th>3</th>\n",
       "      <td>sub-001</td>\n",
       "      <td>LO_L</td>\n",
       "      <td>traintest</td>\n",
       "      <td>betas</td>\n",
       "      <td>betas</td>\n",
       "      <td>train</td>\n",
       "      <td>test</td>\n",
       "      <td>5</td>\n",
       "      <td>17</td>\n",
       "      <td>0.571429</td>\n",
       "      <td>0.571429</td>\n",
       "      <td>-1.546699e-01</td>\n",
       "      <td>0.262475</td>\n",
       "    </tr>\n",
       "    <tr>\n",
       "      <th>4</th>\n",
       "      <td>sub-001</td>\n",
       "      <td>LO_L_contr-objvscr_top-100</td>\n",
       "      <td>traintest</td>\n",
       "      <td>betas</td>\n",
       "      <td>betas</td>\n",
       "      <td>test</td>\n",
       "      <td>train</td>\n",
       "      <td>15</td>\n",
       "      <td>5</td>\n",
       "      <td>0.558333</td>\n",
       "      <td>0.519444</td>\n",
       "      <td>-1.670378e-02</td>\n",
       "      <td>0.152644</td>\n",
       "    </tr>\n",
       "    <tr>\n",
       "      <th>...</th>\n",
       "      <td>...</td>\n",
       "      <td>...</td>\n",
       "      <td>...</td>\n",
       "      <td>...</td>\n",
       "      <td>...</td>\n",
       "      <td>...</td>\n",
       "      <td>...</td>\n",
       "      <td>...</td>\n",
       "      <td>...</td>\n",
       "      <td>...</td>\n",
       "      <td>...</td>\n",
       "      <td>...</td>\n",
       "      <td>...</td>\n",
       "    </tr>\n",
       "    <tr>\n",
       "      <th>11859</th>\n",
       "      <td>sub-035</td>\n",
       "      <td>ba-17-18_R_contr-objscrvsbas_top-800</td>\n",
       "      <td>traintest</td>\n",
       "      <td>betas</td>\n",
       "      <td>betas</td>\n",
       "      <td>train</td>\n",
       "      <td>test</td>\n",
       "      <td>5</td>\n",
       "      <td>17</td>\n",
       "      <td>0.750000</td>\n",
       "      <td>0.464286</td>\n",
       "      <td>-1.846105e-01</td>\n",
       "      <td>0.571646</td>\n",
       "    </tr>\n",
       "    <tr>\n",
       "      <th>11860</th>\n",
       "      <td>sub-035</td>\n",
       "      <td>ba-17-18_R_contr-objscrvsbas_top-900</td>\n",
       "      <td>traintest</td>\n",
       "      <td>betas</td>\n",
       "      <td>betas</td>\n",
       "      <td>test</td>\n",
       "      <td>train</td>\n",
       "      <td>15</td>\n",
       "      <td>5</td>\n",
       "      <td>0.655556</td>\n",
       "      <td>0.483333</td>\n",
       "      <td>4.099376e-02</td>\n",
       "      <td>0.418003</td>\n",
       "    </tr>\n",
       "    <tr>\n",
       "      <th>11861</th>\n",
       "      <td>sub-035</td>\n",
       "      <td>ba-17-18_R_contr-objscrvsbas_top-900</td>\n",
       "      <td>traintest</td>\n",
       "      <td>betas</td>\n",
       "      <td>betas</td>\n",
       "      <td>test</td>\n",
       "      <td>train</td>\n",
       "      <td>17</td>\n",
       "      <td>5</td>\n",
       "      <td>0.783333</td>\n",
       "      <td>0.516667</td>\n",
       "      <td>-4.266198e-08</td>\n",
       "      <td>0.548363</td>\n",
       "    </tr>\n",
       "    <tr>\n",
       "      <th>11862</th>\n",
       "      <td>sub-035</td>\n",
       "      <td>ba-17-18_R_contr-objscrvsbas_top-900</td>\n",
       "      <td>traintest</td>\n",
       "      <td>betas</td>\n",
       "      <td>betas</td>\n",
       "      <td>train</td>\n",
       "      <td>test</td>\n",
       "      <td>5</td>\n",
       "      <td>15</td>\n",
       "      <td>0.678571</td>\n",
       "      <td>0.559524</td>\n",
       "      <td>-1.645248e-01</td>\n",
       "      <td>0.442570</td>\n",
       "    </tr>\n",
       "    <tr>\n",
       "      <th>11863</th>\n",
       "      <td>sub-035</td>\n",
       "      <td>ba-17-18_R_contr-objscrvsbas_top-900</td>\n",
       "      <td>traintest</td>\n",
       "      <td>betas</td>\n",
       "      <td>betas</td>\n",
       "      <td>train</td>\n",
       "      <td>test</td>\n",
       "      <td>5</td>\n",
       "      <td>17</td>\n",
       "      <td>0.750000</td>\n",
       "      <td>0.464286</td>\n",
       "      <td>-1.645310e-01</td>\n",
       "      <td>0.587103</td>\n",
       "    </tr>\n",
       "  </tbody>\n",
       "</table>\n",
       "<p>11864 rows × 13 columns</p>\n",
       "</div>"
      ],
      "text/plain": [
       "       subject                                   roi   approach  \\\n",
       "0      sub-001                                  LO_L  traintest   \n",
       "1      sub-001                                  LO_L  traintest   \n",
       "2      sub-001                                  LO_L  traintest   \n",
       "3      sub-001                                  LO_L  traintest   \n",
       "4      sub-001            LO_L_contr-objvscr_top-100  traintest   \n",
       "...        ...                                   ...        ...   \n",
       "11859  sub-035  ba-17-18_R_contr-objscrvsbas_top-800  traintest   \n",
       "11860  sub-035  ba-17-18_R_contr-objscrvsbas_top-900  traintest   \n",
       "11861  sub-035  ba-17-18_R_contr-objscrvsbas_top-900  traintest   \n",
       "11862  sub-035  ba-17-18_R_contr-objscrvsbas_top-900  traintest   \n",
       "11863  sub-035  ba-17-18_R_contr-objscrvsbas_top-900  traintest   \n",
       "\n",
       "      traindataformat testdataformat traintask testtask  trainmodel  \\\n",
       "0               betas          betas      test    train          15   \n",
       "1               betas          betas      test    train          17   \n",
       "2               betas          betas     train     test           5   \n",
       "3               betas          betas     train     test           5   \n",
       "4               betas          betas      test    train          15   \n",
       "...               ...            ...       ...      ...         ...   \n",
       "11859           betas          betas     train     test           5   \n",
       "11860           betas          betas      test    train          15   \n",
       "11861           betas          betas      test    train          17   \n",
       "11862           betas          betas     train     test           5   \n",
       "11863           betas          betas     train     test           5   \n",
       "\n",
       "       testmodel   correct    output   rawdistance  distance  \n",
       "0              5  0.522222  0.494444  2.102088e-02  0.164589  \n",
       "1              5  0.616667  0.516667 -1.701254e-07  0.214297  \n",
       "2             15  0.547619  0.523810 -1.546702e-01  0.205074  \n",
       "3             17  0.571429  0.571429 -1.546699e-01  0.262475  \n",
       "4              5  0.558333  0.519444 -1.670378e-02  0.152644  \n",
       "...          ...       ...       ...           ...       ...  \n",
       "11859         17  0.750000  0.464286 -1.846105e-01  0.571646  \n",
       "11860          5  0.655556  0.483333  4.099376e-02  0.418003  \n",
       "11861          5  0.783333  0.516667 -4.266198e-08  0.548363  \n",
       "11862         15  0.678571  0.559524 -1.645248e-01  0.442570  \n",
       "11863         17  0.750000  0.464286 -1.645310e-01  0.587103  \n",
       "\n",
       "[11864 rows x 13 columns]"
      ]
     },
     "execution_count": 13,
     "metadata": {},
     "output_type": "execute_result"
    }
   ],
   "source": [
    "avgres.drop(['view'], axis=1)"
   ]
  },
  {
   "cell_type": "code",
   "execution_count": null,
   "metadata": {},
   "outputs": [],
   "source": [
    "avgres = parse_roi_info(avgres)"
   ]
  },
  {
   "cell_type": "code",
   "execution_count": null,
   "metadata": {},
   "outputs": [],
   "source": [
    "avgres.roi.unique()"
   ]
  },
  {
   "cell_type": "code",
   "execution_count": null,
   "metadata": {},
   "outputs": [],
   "source": [
    "results[results['approach']=='CV'].chunk.unique()"
   ]
  },
  {
   "cell_type": "code",
   "execution_count": null,
   "metadata": {},
   "outputs": [],
   "source": [
    "from readresults.readres_mvpa import parse_roi_info"
   ]
  },
  {
   "cell_type": "code",
   "execution_count": null,
   "metadata": {},
   "outputs": [],
   "source": [
    "results_avg = results.groupby(['subject', 'roi']).mean().reset_index()"
   ]
  },
  {
   "cell_type": "code",
   "execution_count": null,
   "metadata": {},
   "outputs": [],
   "source": [
    "results = parse_roi_info(results)"
   ]
  },
  {
   "cell_type": "code",
   "execution_count": null,
   "metadata": {},
   "outputs": [],
   "source": [
    "results = results.drop(['chunk'], axis=1)"
   ]
  },
  {
   "cell_type": "code",
   "execution_count": null,
   "metadata": {},
   "outputs": [],
   "source": [
    "ind_vars = ['subject', 'roi', 'approach', \n",
    "            'traindataformat', 'testdataformat', 'traintask',\n",
    "            'testtask', 'trainmodel', 'testmodel', \n",
    "            'hemi', 'contrast', 'nvoxels']\n",
    "ind_vars = [i for i in ind_vars if i in results.columns and results[i].nunique() > 0]"
   ]
  },
  {
   "cell_type": "code",
   "execution_count": null,
   "metadata": {},
   "outputs": [],
   "source": [
    "results_avg = results.groupby(ind_vars).mean().reset_index()"
   ]
  },
  {
   "cell_type": "code",
   "execution_count": null,
   "metadata": {},
   "outputs": [],
   "source": [
    "results_avg = results_avg.drop(['chunk'], axis=1)"
   ]
  },
  {
   "cell_type": "code",
   "execution_count": null,
   "metadata": {},
   "outputs": [],
   "source": [
    "results_avg.head()"
   ]
  },
  {
   "cell_type": "code",
   "execution_count": null,
   "metadata": {},
   "outputs": [],
   "source": [
    "sns.barplot(data=results_avg, x='roi', y='distance')"
   ]
  },
  {
   "cell_type": "code",
   "execution_count": null,
   "metadata": {},
   "outputs": [],
   "source": [
    "allinfo = 'LO_contr-objscrvsbas_top-1000'.split('_')"
   ]
  },
  {
   "cell_type": "code",
   "execution_count": null,
   "metadata": {},
   "outputs": [],
   "source": [
    "allinfo[1] in ['L', 'R']"
   ]
  },
  {
   "cell_type": "code",
   "execution_count": null,
   "metadata": {},
   "outputs": [],
   "source": [
    "allinfo"
   ]
  },
  {
   "cell_type": "code",
   "execution_count": null,
   "metadata": {},
   "outputs": [],
   "source": [
    "contrindx = 1"
   ]
  },
  {
   "cell_type": "code",
   "execution_count": null,
   "metadata": {},
   "outputs": [],
   "source": [
    "allinfo[contrindx].split('contr-')[1]"
   ]
  },
  {
   "cell_type": "code",
   "execution_count": null,
   "metadata": {},
   "outputs": [],
   "source": [
    "a = [None, None, None]\n",
    "all(v is None for v in a)"
   ]
  },
  {
   "cell_type": "code",
   "execution_count": null,
   "metadata": {},
   "outputs": [],
   "source": [
    "sns.barplot(data=results, x='roi', y='correct')"
   ]
  },
  {
   "cell_type": "code",
   "execution_count": null,
   "metadata": {},
   "outputs": [],
   "source": [
    "results[results['roi'].isin(['rBA17_18_L', 'rBA17_18_R',\n",
    "                             'ba-17-18_L', 'ba-17-18_R'])].distance.mean()"
   ]
  },
  {
   "cell_type": "code",
   "execution_count": null,
   "metadata": {},
   "outputs": [],
   "source": [
    "outputs = [0.3, 4.0, 6.9, 2.0, 3.5, 0.1]\n",
    "targets = [4.7, 3.2, 1.0, 2.9, 3.2, 6.8]\n",
    "splits = [1, 1, 1, 2, 2, 2]\n",
    "example_res = pd.DataFrame(\n",
    "    list(zip(outputs, targets, splits)),\n",
    "    columns=['output', 'target', 'split'])"
   ]
  },
  {
   "cell_type": "code",
   "execution_count": null,
   "metadata": {},
   "outputs": [],
   "source": [
    "example_res"
   ]
  },
  {
   "cell_type": "code",
   "execution_count": null,
   "metadata": {},
   "outputs": [],
   "source": [
    "x = np.array([3, 4, 5])\n",
    "np.isin(x, [5])"
   ]
  },
  {
   "cell_type": "code",
   "execution_count": null,
   "metadata": {},
   "outputs": [],
   "source": [
    "example_res = np.nan\n",
    "isinstance(example_res, float) and pd.isnull(example_res)"
   ]
  },
  {
   "cell_type": "code",
   "execution_count": null,
   "metadata": {},
   "outputs": [],
   "source": [
    "pd.isna(example_res).all()"
   ]
  },
  {
   "cell_type": "code",
   "execution_count": null,
   "metadata": {},
   "outputs": [],
   "source": [
    "outs2 = [0.5, 0.65, 1.2]\n",
    "splits2 = [3, 3, 3]\n",
    "example_res_2 = pd.DataFrame(\n",
    "    list(zip(outs2, splits2)),\n",
    "    columns=['output', 'split'])"
   ]
  },
  {
   "cell_type": "code",
   "execution_count": null,
   "metadata": {},
   "outputs": [],
   "source": [
    "all_res = pd.concat([example_res, example_res_2])"
   ]
  },
  {
   "cell_type": "code",
   "execution_count": null,
   "metadata": {},
   "outputs": [],
   "source": [
    "all_res"
   ]
  },
  {
   "cell_type": "code",
   "execution_count": null,
   "metadata": {},
   "outputs": [],
   "source": [
    "for s in sorted(example_res.split.unique()):\n",
    "    thissplitlength = len(example_res[example_res['split']==s])\n",
    "    example_res.loc[example_res['split']==s, 'sample'] = list(range(thissplitlength))"
   ]
  },
  {
   "cell_type": "code",
   "execution_count": null,
   "metadata": {},
   "outputs": [],
   "source": [
    "groupedres = example_res.groupby('sample').mean().reset_index().drop(['sample', 'split'], axis=1)"
   ]
  },
  {
   "cell_type": "code",
   "execution_count": null,
   "metadata": {},
   "outputs": [],
   "source": [
    "groupedres"
   ]
  },
  {
   "cell_type": "code",
   "execution_count": null,
   "metadata": {},
   "outputs": [],
   "source": [
    "agg_functions = {'output': 'mean', 'target': 'sum'}\n",
    "\n",
    "#create new DataFrame by combining rows with same id values\n",
    "res_new = example_res.groupby(example_res['split']).aggregate(\n",
    "    agg_functions)"
   ]
  },
  {
   "cell_type": "code",
   "execution_count": null,
   "metadata": {},
   "outputs": [],
   "source": [
    "res_new"
   ]
  },
  {
   "cell_type": "code",
   "execution_count": null,
   "metadata": {},
   "outputs": [],
   "source": [
    "with open('/project/3018040.05/MVPA_results/traintest.pkl', 'rb') as f:\n",
    "    results = pkl.load(f)"
   ]
  },
  {
   "cell_type": "code",
   "execution_count": null,
   "metadata": {},
   "outputs": [],
   "source": [
    "res = results['train-trainm3-test-testm3_ba-17-18_L_betas'][0]\n",
    "accuracy = res[:, 0]==res[:, 1]\n",
    "res_df = pd.DataFrame(res, \n",
    "                      columns = ['output', 'target', 'distance', 'chunk'])"
   ]
  },
  {
   "cell_type": "code",
   "execution_count": null,
   "metadata": {},
   "outputs": [],
   "source": [
    "res_df['trialno'] = 1"
   ]
  },
  {
   "cell_type": "code",
   "execution_count": null,
   "metadata": {},
   "outputs": [],
   "source": [
    "res_df.to_numpy()"
   ]
  },
  {
   "cell_type": "code",
   "execution_count": null,
   "metadata": {},
   "outputs": [],
   "source": [
    "accuracy.shape"
   ]
  },
  {
   "cell_type": "code",
   "execution_count": null,
   "metadata": {},
   "outputs": [],
   "source": [
    "random = np.random.rand(accuracy.shape[0])"
   ]
  },
  {
   "cell_type": "code",
   "execution_count": null,
   "metadata": {},
   "outputs": [],
   "source": [
    "random"
   ]
  },
  {
   "cell_type": "code",
   "execution_count": null,
   "metadata": {},
   "outputs": [],
   "source": [
    "output = (res[:, 0] == np.unique(res[:, 1])[0]).astype(int)"
   ]
  },
  {
   "cell_type": "code",
   "execution_count": null,
   "metadata": {},
   "outputs": [],
   "source": [
    "output"
   ]
  },
  {
   "cell_type": "code",
   "execution_count": null,
   "metadata": {},
   "outputs": [],
   "source": [
    "np.mean([True, True, False])"
   ]
  },
  {
   "cell_type": "code",
   "execution_count": null,
   "metadata": {},
   "outputs": [],
   "source": [
    "outputs = "
   ]
  },
  {
   "cell_type": "code",
   "execution_count": null,
   "metadata": {},
   "outputs": [],
   "source": [
    "res_df.distance.dtype"
   ]
  },
  {
   "cell_type": "code",
   "execution_count": null,
   "metadata": {},
   "outputs": [],
   "source": [
    "results['train-trainm3-test-testm3_ba-17-18_L_betas'][0].shape"
   ]
  },
  {
   "cell_type": "code",
   "execution_count": null,
   "metadata": {},
   "outputs": [],
   "source": [
    "opt = Options()"
   ]
  },
  {
   "cell_type": "code",
   "execution_count": null,
   "metadata": {},
   "outputs": [],
   "source": [
    "import configs"
   ]
  },
  {
   "cell_type": "code",
   "execution_count": null,
   "metadata": {},
   "outputs": [],
   "source": [
    "dir(configs)"
   ]
  },
  {
   "cell_type": "code",
   "execution_count": null,
   "metadata": {},
   "outputs": [],
   "source": [
    "configs.mvpa_outdir"
   ]
  },
  {
   "cell_type": "code",
   "execution_count": null,
   "metadata": {},
   "outputs": [],
   "source": [
    "from configs import mvpa_outdir as data_dir"
   ]
  },
  {
   "cell_type": "code",
   "execution_count": null,
   "metadata": {},
   "outputs": [],
   "source": [
    "from six.moves import cPickle as pickle"
   ]
  },
  {
   "cell_type": "code",
   "execution_count": null,
   "metadata": {},
   "outputs": [],
   "source": [
    "data_dir"
   ]
  },
  {
   "cell_type": "code",
   "execution_count": null,
   "metadata": {},
   "outputs": [],
   "source": [
    "mvpa_datadir"
   ]
  },
  {
   "cell_type": "code",
   "execution_count": null,
   "metadata": {},
   "outputs": [],
   "source": [
    "x"
   ]
  },
  {
   "cell_type": "code",
   "execution_count": null,
   "metadata": {},
   "outputs": [],
   "source": [
    "opt.sub = 'sub-001'"
   ]
  },
  {
   "cell_type": "code",
   "execution_count": null,
   "metadata": {},
   "outputs": [],
   "source": [
    "opt.sub"
   ]
  },
  {
   "cell_type": "code",
   "execution_count": null,
   "metadata": {},
   "outputs": [],
   "source": [
    "eventsfile = '/project/3018040.05/bids/sub-001/func/sub-001_task-test_run-1_events.tsv'\n",
    "behavfile = '/project/3018040.05/bids/sub-001/func/sub-001_task-test_beh.tsv'\n",
    "events = pd.read_csv(eventsfile, sep='\\t')\n",
    "behav = pd.read_csv(behavfile, sep='\\t')"
   ]
  },
  {
   "cell_type": "code",
   "execution_count": null,
   "metadata": {},
   "outputs": [],
   "source": [
    "events"
   ]
  },
  {
   "cell_type": "code",
   "execution_count": null,
   "metadata": {},
   "outputs": [],
   "source": [
    "bedscenes = [2, 5, 6, 7, 9, 13, 14, 17, 18, 20]\n",
    "bedindx = behav.index[behav['Scene'].isin(bedscenes)]\n",
    "couchindx = behav.index[~behav['Scene'].isin(bedscenes)]"
   ]
  },
  {
   "cell_type": "code",
   "execution_count": null,
   "metadata": {},
   "outputs": [],
   "source": [
    "bedindx"
   ]
  },
  {
   "cell_type": "code",
   "execution_count": null,
   "metadata": {},
   "outputs": [],
   "source": [
    "couchindx"
   ]
  },
  {
   "cell_type": "code",
   "execution_count": null,
   "metadata": {},
   "outputs": [],
   "source": []
  }
 ],
 "metadata": {
  "kernelspec": {
   "display_name": "giacomo37",
   "language": "python",
   "name": "giacomo37"
  },
  "language_info": {
   "codemirror_mode": {
    "name": "ipython",
    "version": 3
   },
   "file_extension": ".py",
   "mimetype": "text/x-python",
   "name": "python",
   "nbconvert_exporter": "python",
   "pygments_lexer": "ipython3",
   "version": "3.8.5"
  }
 },
 "nbformat": 4,
 "nbformat_minor": 4
}
