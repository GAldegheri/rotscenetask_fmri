{
 "cells": [
  {
   "cell_type": "code",
   "execution_count": 1,
   "metadata": {},
   "outputs": [
    {
     "name": "stderr",
     "output_type": "stream",
     "text": [
      "/home/predatt/giaald/.conda/envs/giacomo37/lib/python3.8/site-packages/outdated/utils.py:14: OutdatedPackageWarning: The package pingouin is out of date. Your version is 0.5.0, the latest is 0.5.4.\n",
      "Set the environment variable OUTDATED_IGNORE=1 to disable these warnings.\n",
      "  return warn(\n",
      "/home/predatt/giaald/.conda/envs/giacomo37/lib/python3.8/site-packages/outdated/utils.py:14: OutdatedPackageWarning: The package outdated is out of date. Your version is 0.2.1, the latest is 0.2.2.\n",
      "Set the environment variable OUTDATED_IGNORE=1 to disable these warnings.\n",
      "  return warn(\n"
     ]
    }
   ],
   "source": [
    "from infocoupling_FIR_main_nonipype import decode_FIR_timecourses, load_univar_ts, save_univar_ts\n",
    "import os\n",
    "from glob import glob\n",
    "from statsmodels.tsa.stattools import grangercausalitytests\n",
    "import pandas as pd\n",
    "import numpy as np\n",
    "import seaborn as sns\n",
    "import pickle as pkl\n",
    "import pingouin as pg\n",
    "\n",
    "%load_ext autoreload\n",
    "%autoreload 2"
   ]
  },
  {
   "cell_type": "code",
   "execution_count": 48,
   "metadata": {},
   "outputs": [],
   "source": [
    "def zero_pad(arr):\n",
    "    ncols = arr.shape[1]\n",
    "    padding = np.zeros((1, ncols))\n",
    "    return np.vstack((arr, padding))"
   ]
  },
  {
   "cell_type": "code",
   "execution_count": 5,
   "metadata": {},
   "outputs": [],
   "source": [
    "multivarfiles = sorted(glob('/project/3018040.05/FIR_timeseries/decoding/test_m29/*_allruns.csv'))\n",
    "multivarfiles = [m for m in multivarfiles if 'sub-006' not in m]\n",
    "univarfiles = sorted(glob('/project/3018040.05/FIR_timeseries/univariate/test_m30/*.pkl'))\n",
    "univarfiles = [u for u in univarfiles if 'sub-006' not in u]"
   ]
  },
  {
   "cell_type": "code",
   "execution_count": 41,
   "metadata": {},
   "outputs": [],
   "source": [
    "all_multivar_ts = []\n",
    "for m in multivarfiles:\n",
    "    all_multivar_ts.append(pd.read_csv(m))\n",
    "all_multivar_ts = pd.concat(all_multivar_ts)\n",
    "all_multivar_ts = all_multivar_ts.groupby(['subject', 'runno', 'delay', 'expected']).mean().reset_index()\n",
    "all_multivar_ts = all_multivar_ts.rename(columns={'runno': 'run'})"
   ]
  },
  {
   "cell_type": "code",
   "execution_count": 39,
   "metadata": {},
   "outputs": [
    {
     "name": "stderr",
     "output_type": "stream",
     "text": [
      "/home/predatt/giaald/.conda/envs/giacomo37/lib/python3.8/site-packages/IPython/core/interactiveshell.py:3444: FutureWarning: Dropping invalid columns in DataFrameGroupBy.mean is deprecated. In a future version, a TypeError will be raised. Before calling .mean, select only columns which should be valid for the function.\n",
      "  exec(code_obj, self.user_global_ns, self.user_ns)\n"
     ]
    }
   ],
   "source": [
    "all_univar_ts = []\n",
    "for u in univarfiles:\n",
    "    all_univar_ts.append(pd.read_pickle(u))\n",
    "all_univar_ts = pd.concat(all_univar_ts)\n",
    "all_univar_ts = all_univar_ts.groupby(['subject', 'run', 'delay', 'expected']).mean(numeric_only=False).reset_index()"
   ]
  },
  {
   "cell_type": "code",
   "execution_count": 72,
   "metadata": {},
   "outputs": [],
   "source": [
    "subjlist = [f'sub-{i:03d}' for i in range(1, 36) if i != 6]\n",
    "f_differences = []\n",
    "for sub in subjlist:\n",
    "    thissub_mv = all_multivar_ts[all_multivar_ts['subject']==sub]\n",
    "    thissub_uv = all_univar_ts[all_univar_ts['subject']==sub]\n",
    "    \n",
    "    ts_uv2mv_exp = [] # \"Feedback\" univariate --> multivariate\n",
    "    ts_uv2mv_unexp = []\n",
    "    ts_mv2uv_exp = [] # \"Feedforward\" multivariate --> univariate\n",
    "    ts_mv2uv_unexp = []\n",
    "    \n",
    "    for run in range(1, 8):\n",
    "        thisrun_mv = thissub_mv[thissub_mv['run']==run]\n",
    "        thisrun_uv = thissub_uv[thissub_uv['run']==run]\n",
    "        \n",
    "        mv_ts_exp = np.vstack(thisrun_mv[thisrun_mv.expected==True].distance)\n",
    "        mv_ts_unexp = np.vstack(thisrun_mv[thisrun_mv.expected==False].distance)\n",
    "        \n",
    "        uv_ts_exp = np.mean(np.vstack(thisrun_uv[thisrun_uv.expected==True]['samples']), axis=1, keepdims=True)\n",
    "        uv_ts_unexp = np.mean(np.vstack(thisrun_uv[thisrun_uv.expected==False]['samples']), axis=1, keepdims=True)\n",
    "        \n",
    "        if run != 7:\n",
    "            mv_ts_exp = zero_pad(mv_ts_exp)\n",
    "            mv_ts_unexp = zero_pad(mv_ts_unexp)\n",
    "            uv_ts_exp = zero_pad(uv_ts_exp)\n",
    "            uv_ts_unexp = zero_pad(uv_ts_unexp)\n",
    "        \n",
    "        ts_uv2mv_exp.append(np.hstack([uv_ts_exp, mv_ts_exp]))\n",
    "        ts_uv2mv_unexp.append(np.hstack([uv_ts_unexp, mv_ts_unexp]))\n",
    "        ts_mv2uv_exp.append(np.hstack([mv_ts_exp, uv_ts_exp]))\n",
    "        ts_mv2uv_unexp.append(np.hstack([mv_ts_unexp, uv_ts_unexp]))\n",
    "\n",
    "    ts_uv2mv_exp = np.vstack(ts_uv2mv_exp)\n",
    "    ts_uv2mv_unexp = np.vstack(ts_uv2mv_unexp)\n",
    "    ts_mv2uv_exp = np.vstack(ts_mv2uv_exp)\n",
    "    ts_mv2uv_unexp = np.vstack(ts_mv2uv_unexp)\n",
    "    \n",
    "    gc_uv2mv_exp = grangercausalitytests(ts_uv2mv_exp, 1, verbose=False)\n",
    "    gc_uv2mv_unexp = grangercausalitytests(ts_uv2mv_unexp, 1, verbose=False)\n",
    "    gc_mv2uv_exp = grangercausalitytests(ts_mv2uv_exp, 1, verbose=False)\n",
    "    gc_mv2uv_unexp = grangercausalitytests(ts_mv2uv_unexp, 1, verbose=False)\n",
    "    \n",
    "    # Compute F-statistic difference between feedback and feedforward\n",
    "    f_diff_exp = gc_uv2mv_exp[1][0]['ssr_ftest'][0] - gc_mv2uv_exp[1][0]['ssr_ftest'][0]\n",
    "    f_diff_unexp = gc_uv2mv_unexp[1][0]['ssr_ftest'][0] - gc_mv2uv_unexp[1][0]['ssr_ftest'][0]\n",
    "    \n",
    "    f_differences.append({\n",
    "        'subject': sub,\n",
    "        'f_diff_exp': f_diff_exp,\n",
    "        'f_diff_unexp': f_diff_unexp\n",
    "    })\n",
    "\n",
    "f_differences = pd.DataFrame(f_differences)"
   ]
  },
  {
   "cell_type": "code",
   "execution_count": 76,
   "metadata": {},
   "outputs": [
    {
     "data": {
      "text/plain": [
       "34"
      ]
     },
     "execution_count": 76,
     "metadata": {},
     "output_type": "execute_result"
    }
   ],
   "source": [
    "len(f_differences)"
   ]
  },
  {
   "cell_type": "code",
   "execution_count": 82,
   "metadata": {},
   "outputs": [
    {
     "data": {
      "text/html": [
       "<div>\n",
       "<style scoped>\n",
       "    .dataframe tbody tr th:only-of-type {\n",
       "        vertical-align: middle;\n",
       "    }\n",
       "\n",
       "    .dataframe tbody tr th {\n",
       "        vertical-align: top;\n",
       "    }\n",
       "\n",
       "    .dataframe thead th {\n",
       "        text-align: right;\n",
       "    }\n",
       "</style>\n",
       "<table border=\"1\" class=\"dataframe\">\n",
       "  <thead>\n",
       "    <tr style=\"text-align: right;\">\n",
       "      <th></th>\n",
       "      <th>W-val</th>\n",
       "      <th>alternative</th>\n",
       "      <th>p-val</th>\n",
       "      <th>RBC</th>\n",
       "      <th>CLES</th>\n",
       "    </tr>\n",
       "  </thead>\n",
       "  <tbody>\n",
       "    <tr>\n",
       "      <th>Wilcoxon</th>\n",
       "      <td>203.0</td>\n",
       "      <td>two-sided</td>\n",
       "      <td>0.108038</td>\n",
       "      <td>-0.317647</td>\n",
       "      <td>NaN</td>\n",
       "    </tr>\n",
       "  </tbody>\n",
       "</table>\n",
       "</div>"
      ],
      "text/plain": [
       "          W-val alternative     p-val       RBC  CLES\n",
       "Wilcoxon  203.0   two-sided  0.108038 -0.317647   NaN"
      ]
     },
     "execution_count": 82,
     "metadata": {},
     "output_type": "execute_result"
    }
   ],
   "source": [
    "pg.wilcoxon(f_differences['f_diff_exp'])"
   ]
  },
  {
   "cell_type": "code",
   "execution_count": 68,
   "metadata": {},
   "outputs": [],
   "source": [
    "gc_uv2mv_exp = grangercausalitytests(ts_uv2mv_exp, 1, verbose=False)"
   ]
  },
  {
   "cell_type": "code",
   "execution_count": 71,
   "metadata": {},
   "outputs": [
    {
     "data": {
      "text/plain": [
       "0.015917328315767757"
      ]
     },
     "execution_count": 71,
     "metadata": {},
     "output_type": "execute_result"
    }
   ],
   "source": [
    "gc_uv2mv_exp[1][0]['ssr_ftest'][0]"
   ]
  },
  {
   "cell_type": "code",
   "execution_count": null,
   "metadata": {},
   "outputs": [],
   "source": []
  },
  {
   "cell_type": "code",
   "execution_count": null,
   "metadata": {},
   "outputs": [],
   "source": []
  }
 ],
 "metadata": {
  "kernelspec": {
   "display_name": "giacomo37",
   "language": "python",
   "name": "python3"
  },
  "language_info": {
   "codemirror_mode": {
    "name": "ipython",
    "version": 3
   },
   "file_extension": ".py",
   "mimetype": "text/x-python",
   "name": "python",
   "nbconvert_exporter": "python",
   "pygments_lexer": "ipython3",
   "version": "3.8.5"
  }
 },
 "nbformat": 4,
 "nbformat_minor": 2
}
