{
 "cells": [
  {
   "cell_type": "code",
   "execution_count": 3,
   "id": "7c731069-485a-463e-aa67-5775bd3cb92b",
   "metadata": {},
   "outputs": [],
   "source": [
    "import nipype.interfaces.matlab as matlab"
   ]
  },
  {
   "cell_type": "code",
   "execution_count": 4,
   "id": "d81e53be-1adb-451e-ac91-bccc09714414",
   "metadata": {},
   "outputs": [],
   "source": [
    "matlab.MatlabCommand.set_default_matlab_cmd('matlab')\n",
    "mlab = matlab.MatlabCommand(mfile=False)"
   ]
  },
  {
   "cell_type": "code",
   "execution_count": 24,
   "id": "108485ae-9020-490b-b6d3-6b5c72d69ae3",
   "metadata": {},
   "outputs": [
    {
     "name": "stderr",
     "output_type": "stream",
     "text": [
      "stty: standard input: Inappropriate ioctl for device\n"
     ]
    }
   ],
   "source": [
    "mlab.inputs.script = \"disp('hello!')\"\n",
    "out = mlab.run()"
   ]
  },
  {
   "cell_type": "code",
   "execution_count": 5,
   "id": "67359cb2-8ab3-4e4a-b10b-291133facf03",
   "metadata": {},
   "outputs": [],
   "source": [
    "import nipype.interfaces.spm as spm\n",
    "\n",
    "realign = spm.Realign()"
   ]
  },
  {
   "cell_type": "code",
   "execution_count": 6,
   "id": "9c8b93a5-0af6-48c9-a0f0-19321577ff54",
   "metadata": {},
   "outputs": [
    {
     "data": {
      "text/plain": [
       "'matlab'"
      ]
     },
     "execution_count": 6,
     "metadata": {},
     "output_type": "execute_result"
    }
   ],
   "source": [
    "matlab.get_matlab_command()"
   ]
  },
  {
   "cell_type": "code",
   "execution_count": null,
   "id": "de3e232a-352d-4f3c-b389-40b86b935555",
   "metadata": {},
   "outputs": [],
   "source": []
  }
 ],
 "metadata": {
  "kernelspec": {
   "display_name": "giacomo37",
   "language": "python",
   "name": "giacomo37"
  },
  "language_info": {
   "codemirror_mode": {
    "name": "ipython",
    "version": 3
   },
   "file_extension": ".py",
   "mimetype": "text/x-python",
   "name": "python",
   "nbconvert_exporter": "python",
   "pygments_lexer": "ipython3",
   "version": "3.8.5"
  }
 },
 "nbformat": 4,
 "nbformat_minor": 5
}
